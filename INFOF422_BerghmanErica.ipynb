{
 "cells": [
  {
   "cell_type": "markdown",
   "metadata": {
    "collapsed": true
   },
   "source": [
    "# INFO F422 - Statistical Fundation of Machine Learning\n",
    "## Project \"House Prices : Advanced Regression Techniques\"\n",
    "\n",
    "    Erica Berghman\n",
    "    Master 1 - Brussels Engineer School"
   ]
  },
  {
   "cell_type": "markdown",
   "metadata": {},
   "source": [
    "## Abstract"
   ]
  },
  {
   "cell_type": "markdown",
   "metadata": {},
   "source": [
    "## 1. Introduction \n",
    "\n",
    "* with dataset description, goals, and an overview of the report structure \n",
    "\n",
    "Starting from a data set with 81 criteria about houses and their selling price, the goal is to create a model capable of predicting the price of other houses given some of these criterias. A good model description is a model that has been refined multiple types. This report will show the methodology used to construct a model for this particular problem. It is based on the methodology of the Chapter 6 of the syllabus."
   ]
  },
  {
   "cell_type": "markdown",
   "metadata": {},
   "source": [
    "## 2. Preprocessing "
   ]
  },
  {
   "cell_type": "code",
   "execution_count": 126,
   "metadata": {
    "collapsed": false
   },
   "outputs": [],
   "source": [
    "dataSample = 400\n",
    "mean = T          # variable to determine if we use the mean or the median to replace the NA values\n",
    "set.seed(1)\n",
    "\n",
    "source(\"functions/replaceNA.R\")\n",
    "# Hide warnings\n",
    "options(warn=-1)"
   ]
  },
  {
   "cell_type": "markdown",
   "metadata": {},
   "source": [
    "### 2.1 Preprocessing the data set\n",
    "\n",
    "In order to get a model, the data must be preprocessed. Firstly we read the data given and we take a sample set of 400 houses out of the 1460. There is 81 criteria."
   ]
  },
  {
   "cell_type": "code",
   "execution_count": 127,
   "metadata": {
    "collapsed": false
   },
   "outputs": [],
   "source": [
    "data<-read.csv(\"input/train.csv\")\n",
    "data.sample<-data[sample(nrow(data),dataSample),]\n",
    "#dim(data.sample)\n",
    "#data[1:2,]"
   ]
  },
  {
   "cell_type": "markdown",
   "metadata": {},
   "source": [
    "The categorical (factor) criterias are removed."
   ]
  },
  {
   "cell_type": "code",
   "execution_count": 128,
   "metadata": {
    "collapsed": false
   },
   "outputs": [],
   "source": [
    "factor_variables<-which(sapply(data.sample[1,],class)==\"factor\")\n",
    "data.sample.nofactor<-data.sample[,-factor_variables]\n",
    "data.sample.factor<-data.sample[,factor_variables]\n",
    "#summary(data.sample.factor)"
   ]
  },
  {
   "cell_type": "code",
   "execution_count": 129,
   "metadata": {
    "collapsed": true
   },
   "outputs": [],
   "source": [
    "library(dummies)\n",
    "variable_to_keep<-c(\"CentralAir\", \"Street\", \"LotShape\")\n",
    "data_factor_onehot <- dummy.data.frame(data.sample.factor[,variable_to_keep], sep=\"_\")\n",
    "data.nofactor.extended<-cbind(data.sample.nofactor,data_factor_onehot)"
   ]
  },
  {
   "cell_type": "markdown",
   "metadata": {},
   "source": [
    "#### Missing data \n",
    "The missing values (NA) are replaced by an estimator of these values (eg. mean or median).Ca"
   ]
  },
  {
   "cell_type": "code",
   "execution_count": 130,
   "metadata": {
    "collapsed": false
   },
   "outputs": [],
   "source": [
    "if (mean) {\n",
    "    data_preprocessed<-data.frame(apply(data.nofactor.extended,2,replace_na_with_mean_value)) \n",
    "} else {\n",
    "    data_preprocessed<-data.frame(apply(data.nofactor.extended,2,replace_na_with_median_value))\n",
    "}"
   ]
  },
  {
   "cell_type": "markdown",
   "metadata": {},
   "source": [
    "## 3. Feature selection \n",
    "Methodology and main results\n",
    "\n",
    "The text must contain the list of selected variables and the motivation of their choice. The use of formulas, tables and pseudo-code to describe the feature selection procedure is encouraged. "
   ]
  },
  {
   "cell_type": "markdown",
   "metadata": {},
   "source": [
    "#### Redundant and irrelevant features "
   ]
  },
  {
   "cell_type": "markdown",
   "metadata": {},
   "source": [
    "The \"Id\" column which is irrelevant is deleted."
   ]
  },
  {
   "cell_type": "code",
   "execution_count": 131,
   "metadata": {
    "collapsed": false
   },
   "outputs": [],
   "source": [
    "data_preprocessed<-data_preprocessed[,setdiff(colnames(data_preprocessed),\"Id\")]"
   ]
  },
  {
   "cell_type": "markdown",
   "metadata": {},
   "source": [
    "The criterias that are redundant (linear combination of others criterias and correlation > 0.99) are deleted."
   ]
  },
  {
   "cell_type": "code",
   "execution_count": 132,
   "metadata": {
    "collapsed": false
   },
   "outputs": [],
   "source": [
    "library(caret)\n",
    "library(ggplot2)\n",
    "library(lattice)\n",
    "\n",
    "linearCombo.idx <- findLinearCombos(data_preprocessed)$remove\n",
    "if (!is.null(linearCombo.idx)) data_preprocessed<-data_preprocessed[,-linearCombo.idx]\n",
    "\n",
    "correlation.matrix <- cor(data_preprocessed)\n",
    "correlation.matrix[upper.tri(correlation.matrix)] <- 0\n",
    "diag(correlation.matrix) <- 0\n",
    "data.uncorrelated <- data_preprocessed[,!apply(correlation.matrix,2,function(x) any(abs(x) > 0.99))]"
   ]
  },
  {
   "cell_type": "markdown",
   "metadata": {},
   "source": [
    "The input and output vectors are created and scaled."
   ]
  },
  {
   "cell_type": "code",
   "execution_count": 133,
   "metadata": {
    "collapsed": false
   },
   "outputs": [],
   "source": [
    "X <- data.uncorrelated[,setdiff(colnames(data.uncorrelated),\"SalePrice\")]\n",
    "Y <- data.uncorrelated[,\"SalePrice\"]\n",
    "X <- data.frame(X)\n",
    "#Y <- data.frame(Y)\n",
    "X.scale <- data.frame(scale(X))\n",
    "Y.scale <- scale(Y)\n",
    "\n",
    "N<-nrow(X)    #Number of examples\n",
    "n<-ncol(X)    #Number of input variables"
   ]
  },
  {
   "cell_type": "code",
   "execution_count": 143,
   "metadata": {
    "collapsed": false
   },
   "outputs": [
    {
     "data": {
      "text/html": [
       "<ol class=list-inline>\n",
       "\t<li>400</li>\n",
       "\t<li>39</li>\n",
       "</ol>\n"
      ],
      "text/latex": [
       "\\begin{enumerate*}\n",
       "\\item 400\n",
       "\\item 39\n",
       "\\end{enumerate*}\n"
      ],
      "text/markdown": [
       "1. 400\n",
       "2. 39\n",
       "\n",
       "\n"
      ],
      "text/plain": [
       "[1] 400  39"
      ]
     },
     "metadata": {},
     "output_type": "display_data"
    }
   ],
   "source": [
    "dim(X)"
   ]
  },
  {
   "cell_type": "markdown",
   "metadata": {},
   "source": [
    "Two feature selection methods are implemented in the featureSelection file:\n",
    "\n",
    "** 1. Filter method using correlation with the variable to determine.**\n",
    "\n",
    "   It create a subset of features, removing from the whole features set the ones less likely to determine the variable (SalePrice). It is robust to overfitting and effective in computational time. However it might select redundant variables as the interraction between the variables is not taken in consideration.  \n",
    "   \n",
    "** 2. Wrapper method**\n",
    "\n",
    "   Its a cyclic method where a subset of variable is created and evaluated by the Learning Algorithm, modifying the chosen subset. This is done until the best subset is generated.  \n",
    "    \n",
    "The filter method is used to select a first \"big\" set of features, that is then refined by the wrapper method. This gives us the possibility use advantages of both method to get a good subset in a relatively correct computational time."
   ]
  },
  {
   "cell_type": "code",
   "execution_count": 135,
   "metadata": {
    "collapsed": false
   },
   "outputs": [],
   "source": [
    "source(\"functions/filtre.R\")\n",
    "features.filtre <- filtre(X.scale,Y.scale)  # return the idx of the more correlated features where #feature = argmin(CV error)"
   ]
  },
  {
   "cell_type": "code",
   "execution_count": 136,
   "metadata": {
    "collapsed": false
   },
   "outputs": [
    {
     "data": {
      "text/html": [
       "<ol class=list-inline>\n",
       "\t<li>400</li>\n",
       "\t<li>33</li>\n",
       "</ol>\n"
      ],
      "text/latex": [
       "\\begin{enumerate*}\n",
       "\\item 400\n",
       "\\item 33\n",
       "\\end{enumerate*}\n"
      ],
      "text/markdown": [
       "1. 400\n",
       "2. 33\n",
       "\n",
       "\n"
      ],
      "text/plain": [
       "[1] 400  33"
      ]
     },
     "metadata": {},
     "output_type": "display_data"
    },
    {
     "data": {
      "text/html": [
       "<table>\n",
       "<thead><tr><th></th><th scope=col>OverallQual</th><th scope=col>X1stFlrSF</th><th scope=col>GarageCars</th><th scope=col>GarageArea</th><th scope=col>FullBath</th><th scope=col>YearRemodAdd</th><th scope=col>TotRmsAbvGrd</th><th scope=col>YearBuilt</th><th scope=col>Fireplaces</th><th scope=col>MasVnrArea</th><th scope=col>...</th><th scope=col>MSSubClass</th><th scope=col>BedroomAbvGr</th><th scope=col>KitchenAbvGr</th><th scope=col>EnclosedPorch</th><th scope=col>ScreenPorch</th><th scope=col>X3SsnPorch</th><th scope=col>MiscVal</th><th scope=col>OverallCond</th><th scope=col>LotShape_IR2</th><th scope=col>BsmtHalfBath</th></tr></thead>\n",
       "<tbody>\n",
       "\t<tr><th scope=row>388</th><td>-0.09423743</td><td>-0.108574  </td><td>-0.9763774 </td><td>-0.5683105 </td><td>-1.0707010 </td><td>-0.4480077 </td><td>-0.3212315 </td><td>0.1227521  </td><td>0.5921614  </td><td> 0.7718430 </td><td>...        </td><td> 0.6140872 </td><td>0.1035     </td><td>-0.2291288 </td><td>-0.3559642 </td><td>-0.2798042 </td><td>-0.117066  </td><td>-0.1506729 </td><td> 0.3556585 </td><td>-0.1599279 </td><td>-0.2291288 </td></tr>\n",
       "\t<tr><th scope=row>543</th><td> 0.59112569</td><td> 1.346596  </td><td> 0.2753885 </td><td> 0.4394986 </td><td> 0.7595571 </td><td> 0.6441150 </td><td> 0.2906380 </td><td>0.8516444  </td><td>0.5921614  </td><td>-0.5959218 </td><td>...        </td><td>-0.8436866 </td><td>0.1035     </td><td>-0.2291288 </td><td>-0.3559642 </td><td>-0.2798042 </td><td>-0.117066  </td><td>-0.1506729 </td><td>-0.4811850 </td><td>-0.1599279 </td><td>-0.2291288 </td></tr>\n",
       "</tbody>\n",
       "</table>\n"
      ],
      "text/latex": [
       "\\begin{tabular}{r|lllllllllllllllllllllllllllllllll}\n",
       "  & OverallQual & X1stFlrSF & GarageCars & GarageArea & FullBath & YearRemodAdd & TotRmsAbvGrd & YearBuilt & Fireplaces & MasVnrArea & ... & MSSubClass & BedroomAbvGr & KitchenAbvGr & EnclosedPorch & ScreenPorch & X3SsnPorch & MiscVal & OverallCond & LotShape\\_IR2 & BsmtHalfBath\\\\\n",
       "\\hline\n",
       "\t388 & -0.09423743 & -0.108574   & -0.9763774  & -0.5683105  & -1.0707010  & -0.4480077  & -0.3212315  & 0.1227521   & 0.5921614   &  0.7718430  & ...         &  0.6140872  & 0.1035      & -0.2291288  & -0.3559642  & -0.2798042  & -0.117066   & -0.1506729  &  0.3556585  & -0.1599279  & -0.2291288 \\\\\n",
       "\t543 &  0.59112569 &  1.346596   &  0.2753885  &  0.4394986  &  0.7595571  &  0.6441150  &  0.2906380  & 0.8516444   & 0.5921614   & -0.5959218  & ...         & -0.8436866  & 0.1035      & -0.2291288  & -0.3559642  & -0.2798042  & -0.117066   & -0.1506729  & -0.4811850  & -0.1599279  & -0.2291288 \\\\\n",
       "\\end{tabular}\n"
      ],
      "text/markdown": [
       "\n",
       "| <!--/--> | OverallQual | X1stFlrSF | GarageCars | GarageArea | FullBath | YearRemodAdd | TotRmsAbvGrd | YearBuilt | Fireplaces | MasVnrArea | ... | MSSubClass | BedroomAbvGr | KitchenAbvGr | EnclosedPorch | ScreenPorch | X3SsnPorch | MiscVal | OverallCond | LotShape_IR2 | BsmtHalfBath | \n",
       "|---|---|\n",
       "| 388 | -0.09423743 | -0.108574   | -0.9763774  | -0.5683105  | -1.0707010  | -0.4480077  | -0.3212315  | 0.1227521   | 0.5921614   |  0.7718430  | ...         |  0.6140872  | 0.1035      | -0.2291288  | -0.3559642  | -0.2798042  | -0.117066   | -0.1506729  |  0.3556585  | -0.1599279  | -0.2291288  | \n",
       "| 543 |  0.59112569 |  1.346596   |  0.2753885  |  0.4394986  |  0.7595571  |  0.6441150  |  0.2906380  | 0.8516444   | 0.5921614   | -0.5959218  | ...         | -0.8436866  | 0.1035      | -0.2291288  | -0.3559642  | -0.2798042  | -0.117066   | -0.1506729  | -0.4811850  | -0.1599279  | -0.2291288  | \n",
       "\n",
       "\n"
      ],
      "text/plain": [
       "    OverallQual X1stFlrSF GarageCars GarageArea FullBath   YearRemodAdd\n",
       "388 -0.09423743 -0.108574 -0.9763774 -0.5683105 -1.0707010 -0.4480077  \n",
       "543  0.59112569  1.346596  0.2753885  0.4394986  0.7595571  0.6441150  \n",
       "    TotRmsAbvGrd YearBuilt Fireplaces MasVnrArea ... MSSubClass BedroomAbvGr\n",
       "388 -0.3212315   0.1227521 0.5921614   0.7718430 ...  0.6140872 0.1035      \n",
       "543  0.2906380   0.8516444 0.5921614  -0.5959218 ... -0.8436866 0.1035      \n",
       "    KitchenAbvGr EnclosedPorch ScreenPorch X3SsnPorch MiscVal    OverallCond\n",
       "388 -0.2291288   -0.3559642    -0.2798042  -0.117066  -0.1506729  0.3556585 \n",
       "543 -0.2291288   -0.3559642    -0.2798042  -0.117066  -0.1506729 -0.4811850 \n",
       "    LotShape_IR2 BsmtHalfBath\n",
       "388 -0.1599279   -0.2291288  \n",
       "543 -0.1599279   -0.2291288  "
      ]
     },
     "metadata": {},
     "output_type": "display_data"
    }
   ],
   "source": [
    "X.filtre = X.scale[,features.filtre]\n",
    "dim(X.filtre)\n",
    "X.filtre[1:2,]"
   ]
  },
  {
   "cell_type": "code",
   "execution_count": 137,
   "metadata": {
    "collapsed": false
   },
   "outputs": [],
   "source": [
    "source(\"functions/mRMR.R\")\n",
    "features.mrmr <- mrmr(X.scale, Y.scale)    # return the idx of the more correlated features where #feature = argmin(CV error)"
   ]
  },
  {
   "cell_type": "code",
   "execution_count": 138,
   "metadata": {
    "collapsed": false
   },
   "outputs": [
    {
     "data": {
      "text/html": [
       "<ol class=list-inline>\n",
       "\t<li>400</li>\n",
       "\t<li>35</li>\n",
       "</ol>\n"
      ],
      "text/latex": [
       "\\begin{enumerate*}\n",
       "\\item 400\n",
       "\\item 35\n",
       "\\end{enumerate*}\n"
      ],
      "text/markdown": [
       "1. 400\n",
       "2. 35\n",
       "\n",
       "\n"
      ],
      "text/plain": [
       "[1] 400  35"
      ]
     },
     "metadata": {},
     "output_type": "display_data"
    }
   ],
   "source": [
    "X.mrmr <- X.scale[,features.mrmr]\n",
    "dim(X.mrmr)"
   ]
  },
  {
   "cell_type": "code",
   "execution_count": 139,
   "metadata": {
    "collapsed": false
   },
   "outputs": [
    {
     "data": {
      "text/html": [
       "<ol class=list-inline>\n",
       "\t<li>400</li>\n",
       "\t<li>39</li>\n",
       "</ol>\n"
      ],
      "text/latex": [
       "\\begin{enumerate*}\n",
       "\\item 400\n",
       "\\item 39\n",
       "\\end{enumerate*}\n"
      ],
      "text/markdown": [
       "1. 400\n",
       "2. 39\n",
       "\n",
       "\n"
      ],
      "text/plain": [
       "[1] 400  39"
      ]
     },
     "metadata": {},
     "output_type": "display_data"
    }
   ],
   "source": [
    "source(\"functions/pca.R\")\n",
    "X.pca <- pca(X.scale, Y.scale)   # return X_pca with nb of columns = argmin(CV error)\n",
    "dim(X.pca)"
   ]
  },
  {
   "cell_type": "code",
   "execution_count": 140,
   "metadata": {
    "collapsed": false
   },
   "outputs": [],
   "source": [
    "source(\"functions/wrapper.R\")\n",
    "features.wrapper <- wrapper(X.scale, Y.scale)"
   ]
  },
  {
   "cell_type": "code",
   "execution_count": 141,
   "metadata": {
    "collapsed": false
   },
   "outputs": [
    {
     "data": {
      "text/html": [
       "<ol class=list-inline>\n",
       "\t<li>400</li>\n",
       "\t<li>39</li>\n",
       "</ol>\n"
      ],
      "text/latex": [
       "\\begin{enumerate*}\n",
       "\\item 400\n",
       "\\item 39\n",
       "\\end{enumerate*}\n"
      ],
      "text/markdown": [
       "1. 400\n",
       "2. 39\n",
       "\n",
       "\n"
      ],
      "text/plain": [
       "[1] 400  39"
      ]
     },
     "metadata": {},
     "output_type": "display_data"
    }
   ],
   "source": [
    "X.wrapper <- X[,features.wrapper]\n",
    "dim(X.wrapper)"
   ]
  },
  {
   "cell_type": "code",
   "execution_count": 142,
   "metadata": {
    "collapsed": false
   },
   "outputs": [
    {
     "data": {
      "text/html": [
       "<ol class=list-inline>\n",
       "\t<li>'MSSubClass'</li>\n",
       "\t<li>'LotArea'</li>\n",
       "\t<li>'BsmtHalfBath'</li>\n",
       "\t<li>'GarageArea'</li>\n",
       "\t<li>'LotShape_IR2'</li>\n",
       "\t<li>'Fireplaces'</li>\n",
       "\t<li>'GarageCars'</li>\n",
       "\t<li>'X1stFlrSF'</li>\n",
       "\t<li>'PoolArea'</li>\n",
       "\t<li>'BsmtFinSF2'</li>\n",
       "\t<li>'GarageYrBlt'</li>\n",
       "\t<li>'MiscVal'</li>\n",
       "\t<li>'CentralAir_Y'</li>\n",
       "\t<li>'MasVnrArea'</li>\n",
       "\t<li>'YearRemodAdd'</li>\n",
       "\t<li>'WoodDeckSF'</li>\n",
       "\t<li>'LotShape_IR3'</li>\n",
       "\t<li>'YrSold'</li>\n",
       "\t<li>'EnclosedPorch'</li>\n",
       "\t<li>'FullBath'</li>\n",
       "\t<li>'HalfBath'</li>\n",
       "\t<li>'X3SsnPorch'</li>\n",
       "\t<li>'Street_Grvl'</li>\n",
       "\t<li>'MoSold'</li>\n",
       "\t<li>'X2ndFlrSF'</li>\n",
       "\t<li>'OpenPorchSF'</li>\n",
       "\t<li>'BsmtUnfSF'</li>\n",
       "\t<li>'LowQualFinSF'</li>\n",
       "\t<li>'LotShape_IR1'</li>\n",
       "\t<li>'BedroomAbvGr'</li>\n",
       "\t<li>'TotRmsAbvGrd'</li>\n",
       "\t<li>'BsmtFullBath'</li>\n",
       "\t<li>'KitchenAbvGr'</li>\n",
       "\t<li>'OverallQual'</li>\n",
       "\t<li>'BsmtFinSF1'</li>\n",
       "\t<li>'LotFrontage'</li>\n",
       "\t<li>'OverallCond'</li>\n",
       "\t<li>'ScreenPorch'</li>\n",
       "\t<li>'YearBuilt'</li>\n",
       "</ol>\n"
      ],
      "text/latex": [
       "\\begin{enumerate*}\n",
       "\\item 'MSSubClass'\n",
       "\\item 'LotArea'\n",
       "\\item 'BsmtHalfBath'\n",
       "\\item 'GarageArea'\n",
       "\\item 'LotShape\\_IR2'\n",
       "\\item 'Fireplaces'\n",
       "\\item 'GarageCars'\n",
       "\\item 'X1stFlrSF'\n",
       "\\item 'PoolArea'\n",
       "\\item 'BsmtFinSF2'\n",
       "\\item 'GarageYrBlt'\n",
       "\\item 'MiscVal'\n",
       "\\item 'CentralAir\\_Y'\n",
       "\\item 'MasVnrArea'\n",
       "\\item 'YearRemodAdd'\n",
       "\\item 'WoodDeckSF'\n",
       "\\item 'LotShape\\_IR3'\n",
       "\\item 'YrSold'\n",
       "\\item 'EnclosedPorch'\n",
       "\\item 'FullBath'\n",
       "\\item 'HalfBath'\n",
       "\\item 'X3SsnPorch'\n",
       "\\item 'Street\\_Grvl'\n",
       "\\item 'MoSold'\n",
       "\\item 'X2ndFlrSF'\n",
       "\\item 'OpenPorchSF'\n",
       "\\item 'BsmtUnfSF'\n",
       "\\item 'LowQualFinSF'\n",
       "\\item 'LotShape\\_IR1'\n",
       "\\item 'BedroomAbvGr'\n",
       "\\item 'TotRmsAbvGrd'\n",
       "\\item 'BsmtFullBath'\n",
       "\\item 'KitchenAbvGr'\n",
       "\\item 'OverallQual'\n",
       "\\item 'BsmtFinSF1'\n",
       "\\item 'LotFrontage'\n",
       "\\item 'OverallCond'\n",
       "\\item 'ScreenPorch'\n",
       "\\item 'YearBuilt'\n",
       "\\end{enumerate*}\n"
      ],
      "text/markdown": [
       "1. 'MSSubClass'\n",
       "2. 'LotArea'\n",
       "3. 'BsmtHalfBath'\n",
       "4. 'GarageArea'\n",
       "5. 'LotShape_IR2'\n",
       "6. 'Fireplaces'\n",
       "7. 'GarageCars'\n",
       "8. 'X1stFlrSF'\n",
       "9. 'PoolArea'\n",
       "10. 'BsmtFinSF2'\n",
       "11. 'GarageYrBlt'\n",
       "12. 'MiscVal'\n",
       "13. 'CentralAir_Y'\n",
       "14. 'MasVnrArea'\n",
       "15. 'YearRemodAdd'\n",
       "16. 'WoodDeckSF'\n",
       "17. 'LotShape_IR3'\n",
       "18. 'YrSold'\n",
       "19. 'EnclosedPorch'\n",
       "20. 'FullBath'\n",
       "21. 'HalfBath'\n",
       "22. 'X3SsnPorch'\n",
       "23. 'Street_Grvl'\n",
       "24. 'MoSold'\n",
       "25. 'X2ndFlrSF'\n",
       "26. 'OpenPorchSF'\n",
       "27. 'BsmtUnfSF'\n",
       "28. 'LowQualFinSF'\n",
       "29. 'LotShape_IR1'\n",
       "30. 'BedroomAbvGr'\n",
       "31. 'TotRmsAbvGrd'\n",
       "32. 'BsmtFullBath'\n",
       "33. 'KitchenAbvGr'\n",
       "34. 'OverallQual'\n",
       "35. 'BsmtFinSF1'\n",
       "36. 'LotFrontage'\n",
       "37. 'OverallCond'\n",
       "38. 'ScreenPorch'\n",
       "39. 'YearBuilt'\n",
       "\n",
       "\n"
      ],
      "text/plain": [
       " [1] \"MSSubClass\"    \"LotArea\"       \"BsmtHalfBath\"  \"GarageArea\"   \n",
       " [5] \"LotShape_IR2\"  \"Fireplaces\"    \"GarageCars\"    \"X1stFlrSF\"    \n",
       " [9] \"PoolArea\"      \"BsmtFinSF2\"    \"GarageYrBlt\"   \"MiscVal\"      \n",
       "[13] \"CentralAir_Y\"  \"MasVnrArea\"    \"YearRemodAdd\"  \"WoodDeckSF\"   \n",
       "[17] \"LotShape_IR3\"  \"YrSold\"        \"EnclosedPorch\" \"FullBath\"     \n",
       "[21] \"HalfBath\"      \"X3SsnPorch\"    \"Street_Grvl\"   \"MoSold\"       \n",
       "[25] \"X2ndFlrSF\"     \"OpenPorchSF\"   \"BsmtUnfSF\"     \"LowQualFinSF\" \n",
       "[29] \"LotShape_IR1\"  \"BedroomAbvGr\"  \"TotRmsAbvGrd\"  \"BsmtFullBath\" \n",
       "[33] \"KitchenAbvGr\"  \"OverallQual\"   \"BsmtFinSF1\"    \"LotFrontage\"  \n",
       "[37] \"OverallCond\"   \"ScreenPorch\"   \"YearBuilt\"    "
      ]
     },
     "metadata": {},
     "output_type": "display_data"
    }
   ],
   "source": [
    "features.wrapper.pca <- wrapper(X.pca, Y.scale)\n"
   ]
  },
  {
   "cell_type": "code",
   "execution_count": null,
   "metadata": {
    "collapsed": true
   },
   "outputs": [],
   "source": []
  },
  {
   "cell_type": "code",
   "execution_count": null,
   "metadata": {
    "collapsed": true
   },
   "outputs": [],
   "source": []
  },
  {
   "cell_type": "markdown",
   "metadata": {},
   "source": [
    "## Model selection  \n",
    "Methodology and main results\n",
    "\n",
    "For the learning method, the only packages that may be used are those seen during the exercise classes : stats, nnet, tree, lazy, and e1071, for linear models, neural networks, decision trees, nearest neighbours and SVM, respectively.\n",
    "\n",
    "The accuracy of the regression models during the selection process should be assessed by using the root mean squared error between the logarithm of the\n",
    "predicted value and the logarithm of the observed sale price.\n",
    "\n",
    "The text must mention the different\n",
    "(and at least three) models which have been taken into consideration and the procedure used for model assessment and selection. The use of formulas,\n",
    "tables and pseudo-code to describe the feature selection procedure is encouraged"
   ]
  },
  {
   "cell_type": "code",
   "execution_count": null,
   "metadata": {
    "collapsed": true
   },
   "outputs": [],
   "source": [
    "model <- neuralnetwork(X, Y)"
   ]
  },
  {
   "cell_type": "markdown",
   "metadata": {},
   "source": [
    "## Ensemble techniques : Combination of models strategy\n",
    "Methodology and main results\n",
    "\n",
    "The text should mention the different models taken into consideration as well as the techniques used for the combination."
   ]
  },
  {
   "cell_type": "markdown",
   "metadata": {},
   "source": [
    "## Discussion and conclusion: \n",
    "Summary of your work, and discussion of what worked well, not well, why, what insights you got from the analyses you made. "
   ]
  },
  {
   "cell_type": "code",
   "execution_count": null,
   "metadata": {
    "collapsed": true
   },
   "outputs": [],
   "source": []
  }
 ],
 "metadata": {
  "kernelspec": {
   "display_name": "R 3.3",
   "language": "R",
   "name": "ir33"
  },
  "language_info": {
   "codemirror_mode": "r",
   "file_extension": ".r",
   "mimetype": "text/x-r-source",
   "name": "R",
   "pygments_lexer": "r",
   "version": "3.3.2"
  }
 },
 "nbformat": 4,
 "nbformat_minor": 2
}
