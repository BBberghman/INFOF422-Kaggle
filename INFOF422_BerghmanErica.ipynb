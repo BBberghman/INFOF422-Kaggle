{
 "cells": [
  {
   "cell_type": "markdown",
   "metadata": {
    "collapsed": true
   },
   "source": [
    "# INFO F422 - Statistical Fundation of Machine Learning\n",
    "## Project \"House Prices : Advanced Regression Techniques\"\n",
    "\n",
    "    Erica Berghman\n",
    "    Master 1 - Brussels Engineer School"
   ]
  },
  {
   "cell_type": "markdown",
   "metadata": {},
   "source": [
    "### Abstract"
   ]
  },
  {
   "cell_type": "markdown",
   "metadata": {},
   "source": [
    "### Introduction \n",
    "% with dataset description, goals, and an overview of the report structure \n",
    "Starting from a data set with xx criteria about houses and their selling price, the goal is to create a model capable of predicting the price of other houses given some of these criterias. A good model description is a model that has been refined multiple types. This report will show the methodology used to construct a model for this particular problem. It is based on the methodology of the Chapter 6 of the syllabus."
   ]
  },
  {
   "cell_type": "markdown",
   "metadata": {},
   "source": [
    "### Feature selection \n",
    "Methodology and main results\n",
    "\n",
    "The text must contain the list of selected variables and the motivation of their choice. The use of formulas, tables and pseudo-code to describe the feature selection procedure is encouraged. "
   ]
  },
  {
   "cell_type": "code",
   "execution_count": 27,
   "metadata": {
    "collapsed": false
   },
   "outputs": [],
   "source": [
    "dataSample = 400\n",
    "mean = T # variable to determine if we use the mean or the median to replace the NA values\n",
    "\n",
    "source(\"replaceNA.R\")"
   ]
  },
  {
   "cell_type": "markdown",
   "metadata": {},
   "source": [
    "#### Preprocessing the data set\n",
    "\n",
    "In order to get a model, the data must be preprocessed. Firstly we read the data given and we take a sample set of 400 houses out of the 1460. There is 81 criteria."
   ]
  },
  {
   "cell_type": "code",
   "execution_count": 28,
   "metadata": {
    "collapsed": false
   },
   "outputs": [
    {
     "data": {
      "text/html": [
       "<ol class=list-inline>\n",
       "\t<li>400</li>\n",
       "\t<li>81</li>\n",
       "</ol>\n"
      ],
      "text/latex": [
       "\\begin{enumerate*}\n",
       "\\item 400\n",
       "\\item 81\n",
       "\\end{enumerate*}\n"
      ],
      "text/markdown": [
       "1. 400\n",
       "2. 81\n",
       "\n",
       "\n"
      ],
      "text/plain": [
       "[1] 400  81"
      ]
     },
     "metadata": {},
     "output_type": "display_data"
    },
    {
     "data": {
      "text/html": [
       "<table>\n",
       "<thead><tr><th scope=col>Id</th><th scope=col>MSSubClass</th><th scope=col>MSZoning</th><th scope=col>LotFrontage</th><th scope=col>LotArea</th><th scope=col>Street</th><th scope=col>Alley</th><th scope=col>LotShape</th><th scope=col>LandContour</th><th scope=col>Utilities</th><th scope=col>...</th><th scope=col>PoolArea</th><th scope=col>PoolQC</th><th scope=col>Fence</th><th scope=col>MiscFeature</th><th scope=col>MiscVal</th><th scope=col>MoSold</th><th scope=col>YrSold</th><th scope=col>SaleType</th><th scope=col>SaleCondition</th><th scope=col>SalePrice</th></tr></thead>\n",
       "<tbody>\n",
       "\t<tr><td>1     </td><td>60    </td><td>RL    </td><td>65    </td><td>8450  </td><td>Pave  </td><td>NA    </td><td>Reg   </td><td>Lvl   </td><td>AllPub</td><td>...   </td><td>0     </td><td>NA    </td><td>NA    </td><td>NA    </td><td>0     </td><td>2     </td><td>2008  </td><td>WD    </td><td>Normal</td><td>208500</td></tr>\n",
       "\t<tr><td>2     </td><td>20    </td><td>RL    </td><td>80    </td><td>9600  </td><td>Pave  </td><td>NA    </td><td>Reg   </td><td>Lvl   </td><td>AllPub</td><td>...   </td><td>0     </td><td>NA    </td><td>NA    </td><td>NA    </td><td>0     </td><td>5     </td><td>2007  </td><td>WD    </td><td>Normal</td><td>181500</td></tr>\n",
       "</tbody>\n",
       "</table>\n"
      ],
      "text/latex": [
       "\\begin{tabular}{r|lllllllllllllllllllllllllllllllllllllllllllllllllllllllllllllllllllllllllllllllll}\n",
       " Id & MSSubClass & MSZoning & LotFrontage & LotArea & Street & Alley & LotShape & LandContour & Utilities & ... & PoolArea & PoolQC & Fence & MiscFeature & MiscVal & MoSold & YrSold & SaleType & SaleCondition & SalePrice\\\\\n",
       "\\hline\n",
       "\t 1      & 60     & RL     & 65     & 8450   & Pave   & NA     & Reg    & Lvl    & AllPub & ...    & 0      & NA     & NA     & NA     & 0      & 2      & 2008   & WD     & Normal & 208500\\\\\n",
       "\t 2      & 20     & RL     & 80     & 9600   & Pave   & NA     & Reg    & Lvl    & AllPub & ...    & 0      & NA     & NA     & NA     & 0      & 5      & 2007   & WD     & Normal & 181500\\\\\n",
       "\\end{tabular}\n"
      ],
      "text/markdown": [
       "\n",
       "Id | MSSubClass | MSZoning | LotFrontage | LotArea | Street | Alley | LotShape | LandContour | Utilities | ... | PoolArea | PoolQC | Fence | MiscFeature | MiscVal | MoSold | YrSold | SaleType | SaleCondition | SalePrice | \n",
       "|---|---|\n",
       "| 1      | 60     | RL     | 65     | 8450   | Pave   | NA     | Reg    | Lvl    | AllPub | ...    | 0      | NA     | NA     | NA     | 0      | 2      | 2008   | WD     | Normal | 208500 | \n",
       "| 2      | 20     | RL     | 80     | 9600   | Pave   | NA     | Reg    | Lvl    | AllPub | ...    | 0      | NA     | NA     | NA     | 0      | 5      | 2007   | WD     | Normal | 181500 | \n",
       "\n",
       "\n"
      ],
      "text/plain": [
       "  Id MSSubClass MSZoning LotFrontage LotArea Street Alley LotShape LandContour\n",
       "1 1  60         RL       65          8450    Pave   NA    Reg      Lvl        \n",
       "2 2  20         RL       80          9600    Pave   NA    Reg      Lvl        \n",
       "  Utilities ... PoolArea PoolQC Fence MiscFeature MiscVal MoSold YrSold\n",
       "1 AllPub    ... 0        NA     NA    NA          0       2      2008  \n",
       "2 AllPub    ... 0        NA     NA    NA          0       5      2007  \n",
       "  SaleType SaleCondition SalePrice\n",
       "1 WD       Normal        208500   \n",
       "2 WD       Normal        181500   "
      ]
     },
     "metadata": {},
     "output_type": "display_data"
    }
   ],
   "source": [
    "data<-read.csv(\"input/train.csv\")\n",
    "set.seed(2)\n",
    "data.sample<-data[sample(nrow(data),400),]\n",
    "dim(data.sample)\n",
    "data[1:2,]"
   ]
  },
  {
   "cell_type": "markdown",
   "metadata": {},
   "source": [
    "The \"Id\" column which does not give any information is deleted. The categorical (factor) criterias are removed."
   ]
  },
  {
   "cell_type": "code",
   "execution_count": 29,
   "metadata": {
    "collapsed": true
   },
   "outputs": [],
   "source": [
    "data.sample<-data.sample[,-1]\n",
    "\n",
    "factor_variables<-which(sapply(data.sample[1,],class)==\"factor\")\n",
    "data.sample$nofactor<-data.sample[,-factor_variables]\n",
    "data.sample$factor<-data.sample[,factor_variables]"
   ]
  },
  {
   "cell_type": "markdown",
   "metadata": {},
   "source": [
    "The missing values (NA) are replaced by an estimator of these values (eg. mean or median)."
   ]
  },
  {
   "cell_type": "code",
   "execution_count": 31,
   "metadata": {
    "collapsed": false
   },
   "outputs": [],
   "source": [
    "if (mean) {\n",
    "    data_preprocessed<-data.frame(apply(data.sample$nofactor,2,replace_na_with_mean_value)) \n",
    "} else {\n",
    "    data_preprocessed<-data.frame(apply(data.sample$nofactor,2,replace_na_with_median_value))\n",
    "}"
   ]
  },
  {
   "cell_type": "markdown",
   "metadata": {},
   "source": [
    "Once this is done, the next step is to delete the criterias that are redundant, i.e. the ones thare are linear combination of others."
   ]
  },
  {
   "cell_type": "code",
   "execution_count": 32,
   "metadata": {
    "collapsed": false
   },
   "outputs": [
    {
     "data": {
      "text/html": [
       "<dl>\n",
       "\t<dt>$linearCombos</dt>\n",
       "\t\t<dd><ol>\n",
       "\t<li><ol class=list-inline>\n",
       "\t<li>12</li>\n",
       "\t<li>9</li>\n",
       "\t<li>10</li>\n",
       "\t<li>11</li>\n",
       "</ol>\n",
       "</li>\n",
       "\t<li><ol class=list-inline>\n",
       "\t<li>16</li>\n",
       "\t<li>13</li>\n",
       "\t<li>14</li>\n",
       "\t<li>15</li>\n",
       "</ol>\n",
       "</li>\n",
       "</ol>\n",
       "</dd>\n",
       "\t<dt>$remove</dt>\n",
       "\t\t<dd><ol class=list-inline>\n",
       "\t<li>12</li>\n",
       "\t<li>16</li>\n",
       "</ol>\n",
       "</dd>\n",
       "</dl>\n"
      ],
      "text/latex": [
       "\\begin{description}\n",
       "\\item[\\$linearCombos] \\begin{enumerate}\n",
       "\\item \\begin{enumerate*}\n",
       "\\item 12\n",
       "\\item 9\n",
       "\\item 10\n",
       "\\item 11\n",
       "\\end{enumerate*}\n",
       "\n",
       "\\item \\begin{enumerate*}\n",
       "\\item 16\n",
       "\\item 13\n",
       "\\item 14\n",
       "\\item 15\n",
       "\\end{enumerate*}\n",
       "\n",
       "\\end{enumerate}\n",
       "\n",
       "\\item[\\$remove] \\begin{enumerate*}\n",
       "\\item 12\n",
       "\\item 16\n",
       "\\end{enumerate*}\n",
       "\n",
       "\\end{description}\n"
      ],
      "text/markdown": [
       "$linearCombos\n",
       ":   1. 1. 12\n",
       "2. 9\n",
       "3. 10\n",
       "4. 11\n",
       "\n",
       "\n",
       "\n",
       "2. 1. 16\n",
       "2. 13\n",
       "3. 14\n",
       "4. 15\n",
       "\n",
       "\n",
       "\n",
       "\n",
       "\n",
       "\n",
       "$remove\n",
       ":   1. 12\n",
       "2. 16\n",
       "\n",
       "\n",
       "\n",
       "\n",
       "\n"
      ],
      "text/plain": [
       "$linearCombos\n",
       "$linearCombos[[1]]\n",
       "[1] 12  9 10 11\n",
       "\n",
       "$linearCombos[[2]]\n",
       "[1] 16 13 14 15\n",
       "\n",
       "\n",
       "$remove\n",
       "[1] 12 16\n"
      ]
     },
     "metadata": {},
     "output_type": "display_data"
    }
   ],
   "source": [
    "library(caret)\n",
    "findLinearCombos(data_preprocessed)"
   ]
  },
  {
   "cell_type": "code",
   "execution_count": 33,
   "metadata": {
    "collapsed": false
   },
   "outputs": [
    {
     "data": {
      "text/plain": [
       "$linearCombos\n",
       "list()\n",
       "\n",
       "$remove\n",
       "NULL\n"
      ]
     },
     "metadata": {},
     "output_type": "display_data"
    }
   ],
   "source": [
    "data_preprocessed<-data_preprocessed[,-c(12,16)]  #delete combili\n",
    "findLinearCombos(data_preprocessed)  # no more combili"
   ]
  },
  {
   "cell_type": "code",
   "execution_count": null,
   "metadata": {
    "collapsed": true
   },
   "outputs": [],
   "source": []
  },
  {
   "cell_type": "markdown",
   "metadata": {},
   "source": [
    "### Model selection  \n",
    "Methodology and main results\n",
    "\n",
    "For the learning method, the only packages that may be used are those seen during the exercise classes : stats, nnet, tree, lazy, and e1071, for linear models, neural networks, decision trees, nearest neighbours and SVM, respectively.\n",
    "\n",
    "The accuracy of the regression models during the selection process should be assessed by using the root mean squared error between the logarithm of the\n",
    "predicted value and the logarithm of the observed sale price.\n",
    "\n",
    "The text must mention the different\n",
    "(and at least three) models which have been taken into consideration and the procedure used for model assessment and selection. The use of formulas,\n",
    "tables and pseudo-code to describe the feature selection procedure is encouraged"
   ]
  },
  {
   "cell_type": "markdown",
   "metadata": {},
   "source": [
    "### Ensemble techniques : Combination of models strategy\n",
    "Methodology and main results\n",
    "\n",
    "The text should mention the different models taken into consideration as well as the techniques used for the combination."
   ]
  },
  {
   "cell_type": "markdown",
   "metadata": {},
   "source": [
    "### Discussion and conclusion: \n",
    "Summary of your work, and discussion of what worked well, not well, why, what insights you got from the analyses you made. "
   ]
  },
  {
   "cell_type": "code",
   "execution_count": null,
   "metadata": {
    "collapsed": true
   },
   "outputs": [],
   "source": []
  }
 ],
 "metadata": {
  "kernelspec": {
   "display_name": "R 3.3",
   "language": "R",
   "name": "ir33"
  },
  "language_info": {
   "codemirror_mode": "r",
   "file_extension": ".r",
   "mimetype": "text/x-r-source",
   "name": "R",
   "pygments_lexer": "r",
   "version": "3.3.2"
  }
 },
 "nbformat": 4,
 "nbformat_minor": 2
}
