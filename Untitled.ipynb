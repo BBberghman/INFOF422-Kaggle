{
 "cells": [
  {
   "cell_type": "code",
   "execution_count": 4,
   "metadata": {
    "collapsed": true
   },
   "outputs": [],
   "source": [
    "dataSample = 400\n",
    "mean = T          # variable to determine if we use the mean or the median to replace the NA values\n",
    "set.seed(2)\n",
    "\n",
    "source(\"function/replaceNA.R\")"
   ]
  },
  {
   "cell_type": "code",
   "execution_count": 5,
   "metadata": {
    "collapsed": true
   },
   "outputs": [],
   "source": [
    "data<-read.csv(\"input/train.csv\")\n",
    "data.sample<-data[sample(nrow(data),dataSample),]\n",
    "#dim(data.sample)\n",
    "#data[1:2,]"
   ]
  },
  {
   "cell_type": "code",
   "execution_count": 6,
   "metadata": {
    "collapsed": false
   },
   "outputs": [
    {
     "name": "stderr",
     "output_type": "stream",
     "text": [
      "dummies-1.5.6 provided by Decision Patterns\n",
      "\n"
     ]
    }
   ],
   "source": [
    "factor_variables<-which(sapply(data.sample[1,],class)==\"factor\")\n",
    "data.sample.nofactor<-data.sample[,-factor_variables]\n",
    "data.sample.factor<-data.sample[,factor_variables]\n",
    "#summary(data.sample.factor)\n",
    "\n",
    "library(dummies)\n",
    "variable_to_keep<-c(\"CentralAir\", \"Street\", \"LotShape\")\n",
    "data_factor_onehot <- dummy.data.frame(data.sample.factor[,variable_to_keep], sep=\"_\")\n",
    "data.nofactor.extended<-cbind(data.sample.nofactor,data_factor_onehot)\n"
   ]
  },
  {
   "cell_type": "code",
   "execution_count": 7,
   "metadata": {
    "collapsed": true
   },
   "outputs": [],
   "source": [
    "if (mean) {\n",
    "    data_preprocessed<-data.frame(apply(data.nofactor.extended,2,replace_na_with_mean_value)) \n",
    "} else {\n",
    "    data_preprocessed<-data.frame(apply(data.nofactor.extended,2,replace_na_with_median_value))\n",
    "}"
   ]
  },
  {
   "cell_type": "code",
   "execution_count": 8,
   "metadata": {
    "collapsed": true
   },
   "outputs": [],
   "source": [
    "data_preprocessed<-data_preprocessed[,setdiff(colnames(data_preprocessed),\"Id\")]"
   ]
  },
  {
   "cell_type": "code",
   "execution_count": 9,
   "metadata": {
    "collapsed": false
   },
   "outputs": [
    {
     "name": "stderr",
     "output_type": "stream",
     "text": [
      "Warning message:\n",
      "\"package 'caret' was built under R version 3.3.3\"Loading required package: lattice\n",
      "Loading required package: ggplot2\n",
      "Warning message:\n",
      "\"package 'ggplot2' was built under R version 3.3.3\""
     ]
    }
   ],
   "source": [
    "library(caret)\n",
    "library(ggplot2)\n",
    "library(lattice)\n",
    "\n",
    "linearCombo.idx <- findLinearCombos(data_preprocessed)$remove\n",
    "if (!is.null(linearCombo.idx)) data_preprocessed<-data_preprocessed[,-linearCombo.idx]\n",
    "\n",
    "correlation.matrix <- cor(data_preprocessed)\n",
    "correlation.matrix[upper.tri(correlation.matrix)] <- 0\n",
    "diag(correlation.matrix) <- 0\n",
    "data.uncorrelated <- data_preprocessed[,!apply(correlation.matrix,2,function(x) any(abs(x) > 0.99))]"
   ]
  },
  {
   "cell_type": "code",
   "execution_count": 10,
   "metadata": {
    "collapsed": true
   },
   "outputs": [],
   "source": [
    "X <- data.uncorrelated[,setdiff(colnames(data.uncorrelated),\"SalePrice\")]\n",
    "Y <- data.uncorrelated[,\"SalePrice\"]\n",
    "X <- data.frame(X)\n",
    "#Y <- data.frame(Y)\n",
    "X.scale <- data.frame(scale(X))\n",
    "Y.scale <- scale(Y)\n",
    "\n",
    "N<-nrow(X)    #Number of examples\n",
    "n<-ncol(X)    #Number of input variables"
   ]
  },
  {
   "cell_type": "code",
   "execution_count": 11,
   "metadata": {
    "collapsed": false
   },
   "outputs": [],
   "source": [
    "source(\"function/featureSelection.R\")"
   ]
  },
  {
   "cell_type": "code",
   "execution_count": 12,
   "metadata": {
    "collapsed": false
   },
   "outputs": [
    {
     "name": "stderr",
     "output_type": "stream",
     "text": [
      "Warning message in cor(X.tr, Y.tr):\n",
      "\"l'écart type est nulle\"Warning message in predict.lm(model, X.ts[, ranking[1:nb_features], drop = F]):\n",
      "\"prediction from a rank-deficient fit may be misleading\"Warning message in predict.lm(model, X.ts[, ranking[1:nb_features], drop = F]):\n",
      "\"prediction from a rank-deficient fit may be misleading\"Warning message in cor(X.tr, Y.tr):\n",
      "\"l'écart type est nulle\""
     ]
    },
    {
     "name": "stdout",
     "output_type": "stream",
     "text": [
      " [1] \"#Features:  1  ; CV error= 0.3546  ; std dev= 0.1468\" \n",
      " [2] \"#Features:  2  ; CV error= 0.3012  ; std dev= 0.1374\" \n",
      " [3] \"#Features:  3  ; CV error= 0.2606  ; std dev= 0.1155\" \n",
      " [4] \"#Features:  4  ; CV error= 0.2347  ; std dev= 0.1078\" \n",
      " [5] \"#Features:  5  ; CV error= 0.2263  ; std dev= 0.1058\" \n",
      " [6] \"#Features:  6  ; CV error= 0.2157  ; std dev= 0.0984\" \n",
      " [7] \"#Features:  7  ; CV error= 0.2127  ; std dev= 0.1009\" \n",
      " [8] \"#Features:  8  ; CV error= 0.209  ; std dev= 0.1024\"  \n",
      " [9] \"#Features:  9  ; CV error= 0.2067  ; std dev= 0.104\"  \n",
      "[10] \"#Features:  10  ; CV error= 0.2067  ; std dev= 0.1082\"\n",
      "[11] \"#Features:  11  ; CV error= 0.2075  ; std dev= 0.1188\"\n",
      "[12] \"#Features:  12  ; CV error= 0.1876  ; std dev= 0.0933\"\n",
      "[13] \"#Features:  13  ; CV error= 0.1882  ; std dev= 0.1213\"\n",
      "[14] \"#Features:  14  ; CV error= 0.1841  ; std dev= 0.1071\"\n",
      "[15] \"#Features:  15  ; CV error= 0.1802  ; std dev= 0.1091\"\n",
      "[16] \"#Features:  16  ; CV error= 0.1732  ; std dev= 0.1114\"\n",
      "[17] \"#Features:  17  ; CV error= 0.1575  ; std dev= 0.0764\"\n",
      "[18] \"#Features:  18  ; CV error= 0.1527  ; std dev= 0.0704\"\n",
      "[19] \"#Features:  19  ; CV error= 0.152  ; std dev= 0.069\"  \n",
      "[20] \"#Features:  20  ; CV error= 0.1543  ; std dev= 0.0646\"\n",
      "[21] \"#Features:  21  ; CV error= 0.151  ; std dev= 0.0654\" \n",
      "[22] \"#Features:  22  ; CV error= 0.1502  ; std dev= 0.0692\"\n",
      "[23] \"#Features:  23  ; CV error= 0.1466  ; std dev= 0.0703\"\n",
      "[24] \"#Features:  24  ; CV error= 0.1478  ; std dev= 0.0729\"\n",
      "[25] \"#Features:  25  ; CV error= 0.1462  ; std dev= 0.068\" \n",
      "[26] \"#Features:  26  ; CV error= 0.1454  ; std dev= 0.0658\"\n",
      "[27] \"#Features:  27  ; CV error= 0.1454  ; std dev= 0.0653\"\n",
      "[28] \"#Features:  28  ; CV error= 0.1441  ; std dev= 0.0662\"\n",
      "[29] \"#Features:  29  ; CV error= 0.1414  ; std dev= 0.065\" \n",
      "[30] \"#Features:  30  ; CV error= 0.141  ; std dev= 0.0624\" \n",
      "[31] \"#Features:  31  ; CV error= 0.1404  ; std dev= 0.0617\"\n",
      "[32] \"#Features:  32  ; CV error= 0.1398  ; std dev= 0.0617\"\n",
      "[33] \"#Features:  33  ; CV error= 0.1414  ; std dev= 0.0617\"\n",
      "[34] \"#Features:  34  ; CV error= 0.1408  ; std dev= 0.0599\"\n",
      "[35] \"#Features:  35  ; CV error= 0.1411  ; std dev= 0.0599\"\n",
      "[36] \"#Features:  36  ; CV error= 0.1428  ; std dev= 0.06\"  \n",
      "[37] \"#Features:  37  ; CV error= 0.1443  ; std dev= 0.0593\"\n",
      "[38] \"#Features:  38  ; CV error= 0.1422  ; std dev= 0.0571\"\n"
     ]
    }
   ],
   "source": [
    "features.filter <- filtre(X.scale,Y.scale)"
   ]
  },
  {
   "cell_type": "code",
   "execution_count": 14,
   "metadata": {
    "collapsed": false
   },
   "outputs": [
    {
     "name": "stderr",
     "output_type": "stream",
     "text": [
      "Warning message in cor(X.tr, Y.tr):\n",
      "\"l'écart type est nulle\"Warning message in cor(X.tr[, selected, drop = F], X.tr[, candidates, drop = F]):\n",
      "\"l'écart type est nulle\"Warning message in cor(X.tr[, selected, drop = F], X.tr[, candidates, drop = F]):\n",
      "\"l'écart type est nulle\"Warning message in cor(X.tr[, selected, drop = F], X.tr[, candidates, drop = F]):\n",
      "\"l'écart type est nulle\"Warning message in cor(X.tr[, selected, drop = F], X.tr[, candidates, drop = F]):\n",
      "\"l'écart type est nulle\"Warning message in cor(X.tr[, selected, drop = F], X.tr[, candidates, drop = F]):\n",
      "\"l'écart type est nulle\"Warning message in cor(X.tr[, selected, drop = F], X.tr[, candidates, drop = F]):\n",
      "\"l'écart type est nulle\"Warning message in cor(X.tr[, selected, drop = F], X.tr[, candidates, drop = F]):\n",
      "\"l'écart type est nulle\"Warning message in cor(X.tr[, selected, drop = F], X.tr[, candidates, drop = F]):\n",
      "\"l'écart type est nulle\"Warning message in cor(X.tr[, selected, drop = F], X.tr[, candidates, drop = F]):\n",
      "\"l'écart type est nulle\"Warning message in cor(X.tr[, selected, drop = F], X.tr[, candidates, drop = F]):\n",
      "\"l'écart type est nulle\"Warning message in cor(X.tr[, selected, drop = F], X.tr[, candidates, drop = F]):\n",
      "\"l'écart type est nulle\"Warning message in cor(X.tr[, selected, drop = F], X.tr[, candidates, drop = F]):\n",
      "\"l'écart type est nulle\"Warning message in cor(X.tr[, selected, drop = F], X.tr[, candidates, drop = F]):\n",
      "\"l'écart type est nulle\"Warning message in cor(X.tr[, selected, drop = F], X.tr[, candidates, drop = F]):\n",
      "\"l'écart type est nulle\"Warning message in cor(X.tr[, selected, drop = F], X.tr[, candidates, drop = F]):\n",
      "\"l'écart type est nulle\"Warning message in cor(X.tr[, selected, drop = F], X.tr[, candidates, drop = F]):\n",
      "\"l'écart type est nulle\"Warning message in cor(X.tr[, selected, drop = F], X.tr[, candidates, drop = F]):\n",
      "\"l'écart type est nulle\"Warning message in cor(X.tr[, selected, drop = F], X.tr[, candidates, drop = F]):\n",
      "\"l'écart type est nulle\"Warning message in cor(X.tr[, selected, drop = F], X.tr[, candidates, drop = F]):\n",
      "\"l'écart type est nulle\"Warning message in cor(X.tr[, selected, drop = F], X.tr[, candidates, drop = F]):\n",
      "\"l'écart type est nulle\"Warning message in cor(X.tr[, selected, drop = F], X.tr[, candidates, drop = F]):\n",
      "\"l'écart type est nulle\"Warning message in cor(X.tr[, selected, drop = F], X.tr[, candidates, drop = F]):\n",
      "\"l'écart type est nulle\"Warning message in cor(X.tr[, selected, drop = F], X.tr[, candidates, drop = F]):\n",
      "\"l'écart type est nulle\"Warning message in cor(X.tr[, selected, drop = F], X.tr[, candidates, drop = F]):\n",
      "\"l'écart type est nulle\"Warning message in cor(X.tr[, selected, drop = F], X.tr[, candidates, drop = F]):\n",
      "\"l'écart type est nulle\"Warning message in cor(X.tr[, selected, drop = F], X.tr[, candidates, drop = F]):\n",
      "\"l'écart type est nulle\"Warning message in cor(X.tr[, selected, drop = F], X.tr[, candidates, drop = F]):\n",
      "\"l'écart type est nulle\"Warning message in cor(X.tr[, selected, drop = F], X.tr[, candidates, drop = F]):\n",
      "\"l'écart type est nulle\"Warning message in cor(X.tr[, selected, drop = F], X.tr[, candidates, drop = F]):\n",
      "\"l'écart type est nulle\"Warning message in cor(X.tr[, selected, drop = F], X.tr[, candidates, drop = F]):\n",
      "\"l'écart type est nulle\"Warning message in cor(X.tr[, selected, drop = F], X.tr[, candidates, drop = F]):\n",
      "\"l'écart type est nulle\"Warning message in cor(X.tr[, selected, drop = F], X.tr[, candidates, drop = F]):\n",
      "\"l'écart type est nulle\"Warning message in cor(X.tr[, selected, drop = F], X.tr[, candidates, drop = F]):\n",
      "\"l'écart type est nulle\"Warning message in cor(X.tr[, selected, drop = F], X.tr[, candidates, drop = F]):\n",
      "\"l'écart type est nulle\"Warning message in cor(X.tr[, selected, drop = F], X.tr[, candidates, drop = F]):\n",
      "\"l'écart type est nulle\"Warning message in cor(X.tr[, selected, drop = F], X.tr[, candidates, drop = F]):\n",
      "\"l'écart type est nulle\"Warning message in cor(X.tr[, selected, drop = F], X.tr[, candidates, drop = F]):\n",
      "\"l'écart type est nulle\"Warning message in cor(X.tr[, selected, drop = F], X.tr[, candidates, drop = F]):\n",
      "\"l'écart type est nulle\""
     ]
    },
    {
     "ename": "ERROR",
     "evalue": "Error in `[.data.frame`(X.tr, , ranking[1:nb_features], drop = F): undefined columns selected\n",
     "output_type": "error",
     "traceback": [
      "Error in `[.data.frame`(X.tr, , ranking[1:nb_features], drop = F): undefined columns selected\nTraceback:\n",
      "1. mrmr(X.scale, Y.scale)",
      "2. cbind(X.tr[, ranking[1:nb_features], drop = F], imdb_score = Y.tr)",
      "3. X.tr[, ranking[1:nb_features], drop = F]",
      "4. `[.data.frame`(X.tr, , ranking[1:nb_features], drop = F)",
      "5. stop(\"undefined columns selected\")"
     ]
    }
   ],
   "source": [
    "features.mrmr <- mrmr(X.scale, Y.scale)"
   ]
  },
  {
   "cell_type": "code",
   "execution_count": 16,
   "metadata": {
    "collapsed": false
   },
   "outputs": [
    {
     "name": "stderr",
     "output_type": "stream",
     "text": [
      "Warning message in predict.lm(model, X.ts[, 1:nb_features, drop = F]):\n",
      "\"prediction from a rank-deficient fit may be misleading\"Warning message in predict.lm(model, X.ts[, 1:nb_features, drop = F]):\n",
      "\"prediction from a rank-deficient fit may be misleading\""
     ]
    },
    {
     "name": "stdout",
     "output_type": "stream",
     "text": [
      " [1] \"# features:  1   CV error =  0.2335   std dev =  0.1119\"     \n",
      " [2] \"# features:  2   CV error =  0.2357   std dev =  0.1134\"     \n",
      " [3] \"# features:  3   CV error =  0.2074   std dev =  0.0958\"     \n",
      " [4] \"# features:  4   CV error =  0.2101   std dev =  0.0961\"     \n",
      " [5] \"# features:  5   CV error =  0.2136   std dev =  0.0981\"     \n",
      " [6] \"# features:  6   CV error =  0.2219   std dev =  0.1057\"     \n",
      " [7] \"# features:  7   CV error =  0.219   std dev =  0.119\"       \n",
      " [8] \"# features:  8   CV error =  0.212   std dev =  0.108\"       \n",
      " [9] \"# features:  9   CV error =  0.2147   std dev =  0.1119\"     \n",
      "[10] \"# features:  10   CV error =  0.2182   std dev =  0.1125\"    \n",
      "[11] \"# features:  11   CV error =  0.206   std dev =  0.0964\"     \n",
      "[12] \"# features:  12   CV error =  0.2133   std dev =  0.1024\"    \n",
      "[13] \"# features:  13   CV error =  0.1939   std dev =  0.0794\"    \n",
      "[14] \"# features:  14   CV error =  0.2088   std dev =  0.1123\"    \n",
      "[15] \"# features:  15   CV error =  0.2095   std dev =  0.1126\"    \n",
      "[16] \"# features:  16   CV error =  0.1953   std dev =  0.0764\"    \n",
      "[17] \"# features:  17   CV error =  0.1678   std dev =  0.0619\"    \n",
      "[18] \"# features:  18   CV error =  0.1671   std dev =  0.0537\"    \n",
      "[19] \"# features:  19   CV error =  0.1937   std dev =  0.0946\"    \n",
      "[20] \"# features:  20   CV error =  0.1857   std dev =  0.0785\"    \n",
      "[21] \"# features:  21   CV error =  0.188   std dev =  0.0836\"     \n",
      "[22] \"# features:  22   CV error =  0.2561   std dev =  0.2152\"    \n",
      "[23] \"# features:  23   CV error =  0.2219   std dev =  0.1772\"    \n",
      "[24] \"# features:  24   CV error =  0.3484   std dev =  0.4779\"    \n",
      "[25] \"# features:  25   CV error =  0.3537   std dev =  0.4637\"    \n",
      "[26] \"# features:  26   CV error =  0.4649   std dev =  0.6722\"    \n",
      "[27] \"# features:  27   CV error =  0.5663   std dev =  0.8794\"    \n",
      "[28] \"# features:  28   CV error =  2.0156   std dev =  5.4678\"    \n",
      "[29] \"# features:  29   CV error =  1.7903   std dev =  4.5754\"    \n",
      "[30] \"# features:  30   CV error =  1.8188   std dev =  4.1287\"    \n",
      "[31] \"# features:  31   CV error =  2.5192   std dev =  5.7086\"    \n",
      "[32] \"# features:  32   CV error =  2.4124   std dev =  6.3515\"    \n",
      "[33] \"# features:  33   CV error =  5.4451   std dev =  11.2223\"   \n",
      "[34] \"# features:  34   CV error =  12.5002   std dev =  30.5954\"  \n",
      "[35] \"# features:  35   CV error =  10.4597   std dev =  24.7964\"  \n",
      "[36] \"# features:  36   CV error =  88.3667   std dev =  258.5095\" \n",
      "[37] \"# features:  37   CV error =  9.7448   std dev =  20.8549\"   \n",
      "[38] \"# features:  38   CV error =  170.3575   std dev =  528.7455\"\n",
      "[39] \"# features:  39   CV error =  170.3589   std dev =  528.745\" \n",
      "[1] \"18\"\n"
     ]
    }
   ],
   "source": [
    "features.pca <- pca(X.scale, Y.scale)\n",
    "#features.pca <- features.pca[,features.pca$nbfeatures]\n",
    "#colnames(X[features.pca])\n",
    "#colnames(X[features.pca[1:18]])"
   ]
  },
  {
   "cell_type": "code",
   "execution_count": null,
   "metadata": {
    "collapsed": true
   },
   "outputs": [],
   "source": []
  },
  {
   "cell_type": "code",
   "execution_count": null,
   "metadata": {
    "collapsed": true
   },
   "outputs": [],
   "source": []
  }
 ],
 "metadata": {
  "kernelspec": {
   "display_name": "R",
   "language": "R",
   "name": "ir"
  },
  "language_info": {
   "codemirror_mode": "r",
   "file_extension": ".r",
   "mimetype": "text/x-r-source",
   "name": "R",
   "pygments_lexer": "r",
   "version": "3.3.2"
  }
 },
 "nbformat": 4,
 "nbformat_minor": 2
}
