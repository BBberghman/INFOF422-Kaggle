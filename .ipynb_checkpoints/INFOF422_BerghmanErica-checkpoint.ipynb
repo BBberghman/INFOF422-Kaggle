{
 "cells": [
  {
   "cell_type": "markdown",
   "metadata": {
    "collapsed": true
   },
   "source": [
    "# INFO F422 - Statistical Fundation of Machine Learning\n",
    "## Project \"House Prices : Advanced Regression Techniques\"\n",
    "\n",
    "    Erica Berghman\n",
    "    Master 1 - Brussels Engineer School"
   ]
  },
  {
   "cell_type": "markdown",
   "metadata": {},
   "source": [
    "## Abstract"
   ]
  },
  {
   "cell_type": "markdown",
   "metadata": {},
   "source": [
    "## 1. Introduction \n",
    "\n",
    "> with dataset description, goals, and an overview of the report structure \n",
    "\n",
    "> Starting from a data set with 81 criteria about houses and their selling price, the goal is to create a model capable of predicting the price of other houses given some of these criterias. A good model description is a model that has been refined multiple types. This report will show the methodology used to construct a model for this particular problem. It is based on the methodology of the Chapter 6 of the syllabus."
   ]
  },
  {
   "cell_type": "markdown",
   "metadata": {},
   "source": [
    "## 2. Preprocessing "
   ]
  },
  {
   "cell_type": "code",
   "execution_count": 1,
   "metadata": {
    "collapsed": false
   },
   "outputs": [],
   "source": [
    "dataSample = 400\n",
    "mean = T          # variable to determine if we use the mean or the median to replace the NA values\n",
    "set.seed(1)\n",
    "\n",
    "source(\"functions/replaceNA.R\")\n",
    "# Hide warnings\n",
    "options(warn=-1)"
   ]
  },
  {
   "cell_type": "markdown",
   "metadata": {},
   "source": [
    "In order to get a model, the data must be preprocessed. Firstly we read the data given and we take a sample set of 400 houses out of the 1460. There is 81 criteria."
   ]
  },
  {
   "cell_type": "code",
   "execution_count": 2,
   "metadata": {
    "collapsed": false
   },
   "outputs": [],
   "source": [
    "data<-read.csv(\"input/train.csv\")\n",
    "data.sample<-data[sample(nrow(data),dataSample),]\n",
    "#dim(data.sample)\n",
    "#data[1:2,]"
   ]
  },
  {
   "cell_type": "markdown",
   "metadata": {},
   "source": [
    "## 2.1 Categorical criteria"
   ]
  },
  {
   "cell_type": "markdown",
   "metadata": {},
   "source": [
    "The categorical (factor) criterias are removed."
   ]
  },
  {
   "cell_type": "code",
   "execution_count": 3,
   "metadata": {
    "collapsed": false
   },
   "outputs": [],
   "source": [
    "factor_variables<-which(sapply(data.sample[1,],class)==\"factor\")\n",
    "data.sample.nofactor<-data.sample[,-factor_variables]\n",
    "data.sample.factor<-data.sample[,factor_variables]\n",
    "#summary(data.sample.factor)"
   ]
  },
  {
   "cell_type": "markdown",
   "metadata": {},
   "source": [
    "Some of them are then added. (TODO justification)"
   ]
  },
  {
   "cell_type": "code",
   "execution_count": 4,
   "metadata": {
    "collapsed": false
   },
   "outputs": [
    {
     "name": "stderr",
     "output_type": "stream",
     "text": [
      "dummies-1.5.6 provided by Decision Patterns\n",
      "\n"
     ]
    }
   ],
   "source": [
    "library(dummies)\n",
    "variable_to_keep<-c(\"CentralAir\", \"Street\", \"LotShape\")\n",
    "data_factor_onehot <- dummy.data.frame(data.sample.factor[,variable_to_keep], sep=\"_\")\n",
    "data.nofactor.extended<-cbind(data.sample.nofactor,data_factor_onehot)"
   ]
  },
  {
   "cell_type": "markdown",
   "metadata": {},
   "source": [
    "### 2.2 Missing data \n",
    "The missing values (NA) are replaced by an estimator of these values (eg. mean or median)."
   ]
  },
  {
   "cell_type": "code",
   "execution_count": 5,
   "metadata": {
    "collapsed": false
   },
   "outputs": [],
   "source": [
    "if (mean) {\n",
    "    data_preprocessed<-data.frame(apply(data.nofactor.extended,2,replace_na_with_mean_value)) \n",
    "} else {\n",
    "    data_preprocessed<-data.frame(apply(data.nofactor.extended,2,replace_na_with_median_value))\n",
    "}"
   ]
  },
  {
   "cell_type": "markdown",
   "metadata": {},
   "source": [
    "## 3. Feature selection \n",
    "> Methodology and main results\n",
    "\n",
    "> The text must contain the list of selected variables and the motivation of their choice. The use of formulas, tables and pseudo-code to describe the feature selection procedure is encouraged. "
   ]
  },
  {
   "cell_type": "markdown",
   "metadata": {},
   "source": [
    "### 3.1 Redundant and irrelevant features \n",
    "The \"Id\" column which is irrelevant is deleted."
   ]
  },
  {
   "cell_type": "code",
   "execution_count": 6,
   "metadata": {
    "collapsed": false
   },
   "outputs": [],
   "source": [
    "data_preprocessed<-data_preprocessed[,setdiff(colnames(data_preprocessed),\"Id\")]"
   ]
  },
  {
   "cell_type": "markdown",
   "metadata": {},
   "source": [
    "The criterias that are redundant (linear combination of others criterias and correlation > 0.99) are deleted."
   ]
  },
  {
   "cell_type": "code",
   "execution_count": 7,
   "metadata": {
    "collapsed": false
   },
   "outputs": [
    {
     "data": {
      "text/html": [
       "<ol class=list-inline>\n",
       "\t<li>400</li>\n",
       "\t<li>43</li>\n",
       "</ol>\n"
      ],
      "text/latex": [
       "\\begin{enumerate*}\n",
       "\\item 400\n",
       "\\item 43\n",
       "\\end{enumerate*}\n"
      ],
      "text/markdown": [
       "1. 400\n",
       "2. 43\n",
       "\n",
       "\n"
      ],
      "text/plain": [
       "[1] 400  43"
      ]
     },
     "metadata": {},
     "output_type": "display_data"
    }
   ],
   "source": [
    "#library(caret)\n",
    "library(ggplot2)\n",
    "library(lattice)\n",
    "\n",
    "#linearCombo.idx <- findLinearCombos(data_preprocessed)$remove\n",
    "#if (!is.null(linearCombo.idx)) data_preprocessed<-data_preprocessed[,-linearCombo.idx]\n",
    "\n",
    "correlation.matrix <- cor(data_preprocessed)\n",
    "correlation.matrix[upper.tri(correlation.matrix)] <- 0\n",
    "diag(correlation.matrix) <- 0\n",
    "data.uncorrelated <- data_preprocessed[,!apply(correlation.matrix,2,function(x) any(abs(x) > 0.99))]\n",
    "dim(data.uncorrelated)"
   ]
  },
  {
   "cell_type": "markdown",
   "metadata": {},
   "source": [
    "The input and output vectors are created and scaled."
   ]
  },
  {
   "cell_type": "code",
   "execution_count": 8,
   "metadata": {
    "collapsed": false
   },
   "outputs": [],
   "source": [
    "X <- data.uncorrelated[,setdiff(colnames(data.uncorrelated),\"SalePrice\")]\n",
    "Y <- data.uncorrelated[,\"SalePrice\"]\n",
    "X <- data.frame(X)\n",
    "#Y <- data.frame(Y)\n",
    "X.scale <- data.frame(scale(X))\n",
    "Y.scale <- scale(Y)\n",
    "\n",
    "N<-nrow(X)    #Number of examples\n",
    "n<-ncol(X)    #Number of input variables"
   ]
  },
  {
   "cell_type": "code",
   "execution_count": 9,
   "metadata": {
    "collapsed": false
   },
   "outputs": [
    {
     "data": {
      "text/html": [
       "<ol class=list-inline>\n",
       "\t<li>400</li>\n",
       "\t<li>42</li>\n",
       "</ol>\n"
      ],
      "text/latex": [
       "\\begin{enumerate*}\n",
       "\\item 400\n",
       "\\item 42\n",
       "\\end{enumerate*}\n"
      ],
      "text/markdown": [
       "1. 400\n",
       "2. 42\n",
       "\n",
       "\n"
      ],
      "text/plain": [
       "[1] 400  42"
      ]
     },
     "metadata": {},
     "output_type": "display_data"
    }
   ],
   "source": [
    "dim(X)\n",
    "X.tr.mean <- colMeans(X)\n",
    "X.tr.std <- apply(X,2,sd)"
   ]
  },
  {
   "cell_type": "markdown",
   "metadata": {},
   "source": [
    "### 3.2 Filter methods\n",
    "\n",
    "   It create a subset of features, removing from the whole features set the ones less likely to determine the variable (SalePrice). It is robust to overfitting and effective in computational time. However it might select redundant variables as the interraction between the variables is not taken in consideration.  "
   ]
  },
  {
   "cell_type": "code",
   "execution_count": 10,
   "metadata": {
    "collapsed": false
   },
   "outputs": [],
   "source": [
    "source(\"functions/filtre.R\")\n",
    "features.filtre <- filtre(X.scale,Y.scale)  # return the idx of the more correlated features where #feature = argmin(CV error)"
   ]
  },
  {
   "cell_type": "code",
   "execution_count": 11,
   "metadata": {
    "collapsed": false
   },
   "outputs": [
    {
     "data": {
      "text/html": [
       "<ol class=list-inline>\n",
       "\t<li>400</li>\n",
       "\t<li>35</li>\n",
       "</ol>\n"
      ],
      "text/latex": [
       "\\begin{enumerate*}\n",
       "\\item 400\n",
       "\\item 35\n",
       "\\end{enumerate*}\n"
      ],
      "text/markdown": [
       "1. 400\n",
       "2. 35\n",
       "\n",
       "\n"
      ],
      "text/plain": [
       "[1] 400  35"
      ]
     },
     "metadata": {},
     "output_type": "display_data"
    },
    {
     "data": {
      "text/html": [
       "<table>\n",
       "<thead><tr><th></th><th scope=col>OverallQual</th><th scope=col>GrLivArea</th><th scope=col>TotalBsmtSF</th><th scope=col>X1stFlrSF</th><th scope=col>GarageCars</th><th scope=col>GarageArea</th><th scope=col>FullBath</th><th scope=col>YearRemodAdd</th><th scope=col>TotRmsAbvGrd</th><th scope=col>YearBuilt</th><th scope=col>...</th><th scope=col>BsmtUnfSF</th><th scope=col>MSSubClass</th><th scope=col>BedroomAbvGr</th><th scope=col>KitchenAbvGr</th><th scope=col>EnclosedPorch</th><th scope=col>ScreenPorch</th><th scope=col>X3SsnPorch</th><th scope=col>MiscVal</th><th scope=col>OverallCond</th><th scope=col>LotShape_IR2</th></tr></thead>\n",
       "<tbody>\n",
       "\t<tr><th scope=row>388</th><td>-0.09423743</td><td>-0.7470902 </td><td>-0.06201711</td><td>-0.108574  </td><td>-0.9763774 </td><td>-0.5683105 </td><td>-1.0707010 </td><td>-0.4480077 </td><td>-0.3212315 </td><td>0.1227521  </td><td>...        </td><td>-0.3683924 </td><td> 0.6140872 </td><td>0.1035     </td><td>-0.2291288 </td><td>-0.3559642 </td><td>-0.2798042 </td><td>-0.117066  </td><td>-0.1506729 </td><td> 0.3556585 </td><td>-0.1599279 </td></tr>\n",
       "\t<tr><th scope=row>543</th><td> 0.59112569</td><td> 0.2952237 </td><td> 1.38021372</td><td> 1.346596  </td><td> 0.2753885 </td><td> 0.4394986 </td><td> 0.7595571 </td><td> 0.6441150 </td><td> 0.2906380 </td><td>0.8516444  </td><td>...        </td><td>-0.4352562 </td><td>-0.8436866 </td><td>0.1035     </td><td>-0.2291288 </td><td>-0.3559642 </td><td>-0.2798042 </td><td>-0.117066  </td><td>-0.1506729 </td><td>-0.4811850 </td><td>-0.1599279 </td></tr>\n",
       "</tbody>\n",
       "</table>\n"
      ],
      "text/latex": [
       "\\begin{tabular}{r|lllllllllllllllllllllllllllllllllll}\n",
       "  & OverallQual & GrLivArea & TotalBsmtSF & X1stFlrSF & GarageCars & GarageArea & FullBath & YearRemodAdd & TotRmsAbvGrd & YearBuilt & ... & BsmtUnfSF & MSSubClass & BedroomAbvGr & KitchenAbvGr & EnclosedPorch & ScreenPorch & X3SsnPorch & MiscVal & OverallCond & LotShape\\_IR2\\\\\n",
       "\\hline\n",
       "\t388 & -0.09423743 & -0.7470902  & -0.06201711 & -0.108574   & -0.9763774  & -0.5683105  & -1.0707010  & -0.4480077  & -0.3212315  & 0.1227521   & ...         & -0.3683924  &  0.6140872  & 0.1035      & -0.2291288  & -0.3559642  & -0.2798042  & -0.117066   & -0.1506729  &  0.3556585  & -0.1599279 \\\\\n",
       "\t543 &  0.59112569 &  0.2952237  &  1.38021372 &  1.346596   &  0.2753885  &  0.4394986  &  0.7595571  &  0.6441150  &  0.2906380  & 0.8516444   & ...         & -0.4352562  & -0.8436866  & 0.1035      & -0.2291288  & -0.3559642  & -0.2798042  & -0.117066   & -0.1506729  & -0.4811850  & -0.1599279 \\\\\n",
       "\\end{tabular}\n"
      ],
      "text/markdown": [
       "\n",
       "| <!--/--> | OverallQual | GrLivArea | TotalBsmtSF | X1stFlrSF | GarageCars | GarageArea | FullBath | YearRemodAdd | TotRmsAbvGrd | YearBuilt | ... | BsmtUnfSF | MSSubClass | BedroomAbvGr | KitchenAbvGr | EnclosedPorch | ScreenPorch | X3SsnPorch | MiscVal | OverallCond | LotShape_IR2 | \n",
       "|---|---|\n",
       "| 388 | -0.09423743 | -0.7470902  | -0.06201711 | -0.108574   | -0.9763774  | -0.5683105  | -1.0707010  | -0.4480077  | -0.3212315  | 0.1227521   | ...         | -0.3683924  |  0.6140872  | 0.1035      | -0.2291288  | -0.3559642  | -0.2798042  | -0.117066   | -0.1506729  |  0.3556585  | -0.1599279  | \n",
       "| 543 |  0.59112569 |  0.2952237  |  1.38021372 |  1.346596   |  0.2753885  |  0.4394986  |  0.7595571  |  0.6441150  |  0.2906380  | 0.8516444   | ...         | -0.4352562  | -0.8436866  | 0.1035      | -0.2291288  | -0.3559642  | -0.2798042  | -0.117066   | -0.1506729  | -0.4811850  | -0.1599279  | \n",
       "\n",
       "\n"
      ],
      "text/plain": [
       "    OverallQual GrLivArea  TotalBsmtSF X1stFlrSF GarageCars GarageArea\n",
       "388 -0.09423743 -0.7470902 -0.06201711 -0.108574 -0.9763774 -0.5683105\n",
       "543  0.59112569  0.2952237  1.38021372  1.346596  0.2753885  0.4394986\n",
       "    FullBath   YearRemodAdd TotRmsAbvGrd YearBuilt ... BsmtUnfSF  MSSubClass\n",
       "388 -1.0707010 -0.4480077   -0.3212315   0.1227521 ... -0.3683924  0.6140872\n",
       "543  0.7595571  0.6441150    0.2906380   0.8516444 ... -0.4352562 -0.8436866\n",
       "    BedroomAbvGr KitchenAbvGr EnclosedPorch ScreenPorch X3SsnPorch MiscVal   \n",
       "388 0.1035       -0.2291288   -0.3559642    -0.2798042  -0.117066  -0.1506729\n",
       "543 0.1035       -0.2291288   -0.3559642    -0.2798042  -0.117066  -0.1506729\n",
       "    OverallCond LotShape_IR2\n",
       "388  0.3556585  -0.1599279  \n",
       "543 -0.4811850  -0.1599279  "
      ]
     },
     "metadata": {},
     "output_type": "display_data"
    }
   ],
   "source": [
    "X.filtre = X.scale[,features.filtre]\n",
    "dim(X.filtre)\n",
    "X.filtre[1:2,]"
   ]
  },
  {
   "cell_type": "code",
   "execution_count": 12,
   "metadata": {
    "collapsed": false
   },
   "outputs": [],
   "source": [
    "source(\"functions/mRMR.R\")\n",
    "features.mrmr <- mrmr(X.scale, Y.scale)    # return the idx of the more correlated features where #feature = argmin(CV error)"
   ]
  },
  {
   "cell_type": "code",
   "execution_count": 13,
   "metadata": {
    "collapsed": false
   },
   "outputs": [
    {
     "data": {
      "text/html": [
       "<ol class=list-inline>\n",
       "\t<li>400</li>\n",
       "\t<li>40</li>\n",
       "</ol>\n"
      ],
      "text/latex": [
       "\\begin{enumerate*}\n",
       "\\item 400\n",
       "\\item 40\n",
       "\\end{enumerate*}\n"
      ],
      "text/markdown": [
       "1. 400\n",
       "2. 40\n",
       "\n",
       "\n"
      ],
      "text/plain": [
       "[1] 400  40"
      ]
     },
     "metadata": {},
     "output_type": "display_data"
    }
   ],
   "source": [
    "X.mrmr <- X.scale[,features.mrmr]\n",
    "dim(X.mrmr)"
   ]
  },
  {
   "cell_type": "code",
   "execution_count": 14,
   "metadata": {
    "collapsed": false
   },
   "outputs": [
    {
     "data": {
      "text/html": [
       "<ol class=list-inline>\n",
       "\t<li>400</li>\n",
       "\t<li>40</li>\n",
       "</ol>\n"
      ],
      "text/latex": [
       "\\begin{enumerate*}\n",
       "\\item 400\n",
       "\\item 40\n",
       "\\end{enumerate*}\n"
      ],
      "text/markdown": [
       "1. 400\n",
       "2. 40\n",
       "\n",
       "\n"
      ],
      "text/plain": [
       "[1] 400  40"
      ]
     },
     "metadata": {},
     "output_type": "display_data"
    }
   ],
   "source": [
    "source(\"functions/pca.R\")\n",
    "X.pca <- pca(X.scale, Y.scale)   # return X_pca with nb of columns = argmin(CV error)\n",
    "dim(X.pca)"
   ]
  },
  {
   "cell_type": "markdown",
   "metadata": {},
   "source": [
    "### 3.3 Wrapper method\n",
    "\n",
    "Its a cyclic method where a subset of variable is created and evaluated by the Learning Algorithm, modifying the chosen subset. This is done until the best subset is generated.  "
   ]
  },
  {
   "cell_type": "code",
   "execution_count": 15,
   "metadata": {
    "collapsed": false
   },
   "outputs": [
    {
     "ename": "ERROR",
     "evalue": "Error in source(\"functions/wrapper.R\"): functions/wrapper.R:45:5: unexpected symbol\n44:     nb_features.best <- which.min(round(CV.err.mean[selected_current],digits=4)\n45:     print\n        ^\n",
     "output_type": "error",
     "traceback": [
      "Error in source(\"functions/wrapper.R\"): functions/wrapper.R:45:5: unexpected symbol\n44:     nb_features.best <- which.min(round(CV.err.mean[selected_current],digits=4)\n45:     print\n        ^\nTraceback:\n",
      "1. source(\"functions/wrapper.R\")"
     ]
    }
   ],
   "source": [
    "source(\"functions/wrapper.R\")\n",
    "features.wrapper <- wrapper(X.scale, Y.scale)"
   ]
  },
  {
   "cell_type": "code",
   "execution_count": null,
   "metadata": {
    "collapsed": false
   },
   "outputs": [],
   "source": [
    "X.wrapper <- X[,features.wrapper]\n",
    "dim(X.wrapper)"
   ]
  },
  {
   "cell_type": "markdown",
   "metadata": {},
   "source": [
    "### 3.4 Hybrid method\n",
    "The filter method is used to select a first \"big\" set of features, that is then refined by the wrapper method. This gives us the possibility use advantages of both method to get a good subset in a relatively correct computational time."
   ]
  },
  {
   "cell_type": "code",
   "execution_count": null,
   "metadata": {
    "collapsed": false
   },
   "outputs": [],
   "source": [
    "features.wrapper.pca <- wrapper(X.pca, Y.scale)\n"
   ]
  },
  {
   "cell_type": "code",
   "execution_count": null,
   "metadata": {
    "collapsed": true
   },
   "outputs": [],
   "source": []
  },
  {
   "cell_type": "code",
   "execution_count": null,
   "metadata": {
    "collapsed": true
   },
   "outputs": [],
   "source": []
  },
  {
   "cell_type": "markdown",
   "metadata": {},
   "source": [
    "## 4. Model selection  \n",
    "> Methodology and main results\n",
    "\n",
    "> For the learning method, the only packages that may be used are those seen during the exercise classes : stats, nnet, tree, lazy, and e1071, for linear models, neural networks, decision trees, nearest neighbours and SVM, respectively.\n",
    "\n",
    "> The accuracy of the regression models during the selection process should be assessed by using the root mean squared error between the logarithm of the predicted value and the logarithm of the observed sale price.\n",
    "\n",
    "> The text must mention the different (and at least three) models which have been taken into consideration and the procedure used for model assessment and selection. The use of formulas, tables and pseudo-code to describe the feature selection procedure is encouraged"
   ]
  },
  {
   "cell_type": "markdown",
   "metadata": {},
   "source": [
    "### 4.1 Linear Model"
   ]
  },
  {
   "cell_type": "code",
   "execution_count": 16,
   "metadata": {
    "collapsed": true
   },
   "outputs": [],
   "source": [
    "library(stats)"
   ]
  },
  {
   "cell_type": "code",
   "execution_count": 9,
   "metadata": {
    "collapsed": false
   },
   "outputs": [
    {
     "name": "stdout",
     "output_type": "stream",
     "text": [
      "[1] \"Empirical error= 0.0916\"\n"
     ]
    }
   ],
   "source": [
    "DS<-cbind(X.scale,SalePrice=Y.scale)\n",
    "model.linear <- lm(SalePrice~.,DS) ### IMDB score given all the other ones (~.) over the dataset DS\n",
    "\n",
    "Y.hat <- predict(model.linear, X.scale)\n",
    "\n",
    "empirical_error<-mean((Y.hat-Y.scale)^2) ### MSE for prediction of that model.\n",
    "print(paste(\"Empirical error=\",round(empirical_error,digits=4)))"
   ]
  },
  {
   "cell_type": "code",
   "execution_count": 54,
   "metadata": {
    "collapsed": false
   },
   "outputs": [
    {
     "name": "stdout",
     "output_type": "stream",
     "text": [
      "[1] \"CV error= 0.1744  ; std dev= 0.1945\"\n"
     ]
    }
   ],
   "source": [
    "size.CV<-floor(N/10)\n",
    "\n",
    "CV.err<-numeric(10)\n",
    "\n",
    "for (i in 1:10) {\n",
    "    # 1/10 for testing\n",
    "     i.ts<-(((i-1)*size.CV+1):(i*size.CV))  ### i.ts = indices of the test set for the i-th fold\n",
    "     X.ts<-X[i.ts,]  \n",
    "     Y.ts<-Y[i.ts]    \n",
    "    \n",
    "    #9/10 for training\n",
    "     i.tr<-setdiff(1:N,i.ts)                ###i.tr = indices of the training set for the i-th fold\n",
    "     X.tr<-X[i.tr,]\n",
    "     Y.tr<-Y[i.tr]         \n",
    "     \n",
    "    #scaling\n",
    "     X.tr.mean <- colMeans(X.tr)\n",
    "     X.tr.sd <- apply(X.tr,2,sd)\n",
    "    Y.tr.mean <- mean(Y.tr)\n",
    "    Y.tr.sd <- sd(Y.tr)\n",
    "\n",
    "    Y.tr <- cbind(Y.tr - Y.tr.mean)/Y.tr.sd \n",
    "    X.tr <- t(apply(sweep(X.tr,2,X.tr.mean,\"-\"), 1, function(x) x/X.tr.sd))\n",
    "    \n",
    "    #scaling the testing test by the same scaling as of the training set\n",
    "    X.ts <- t(apply(sweep(X.ts,2,X.tr.mean,\"-\"), 1, function(x) x/X.tr.sd))\n",
    "    Y.ts <- cbind(Y.ts - Y.tr.mean)/Y.tr.sd \n",
    "    \n",
    "    X.ts <-data.frame(X.ts)\n",
    "    X.tr <-data.frame(X.tr)\n",
    "        \n",
    "\n",
    "    DS<-cbind(X.tr,SalePrice=Y.tr)\n",
    "    \n",
    "    model.linear<- lm(SalePrice~.,DS)      # create model with the training set\n",
    "        \n",
    "    Y.hat.ts<- predict(model.linear,X.ts)  # predict value for the test set\n",
    "        \n",
    "    CV.err[i]<-mean((Y.hat.ts-Y.ts)^2)  # MSE for test set\n",
    "}\n",
    "    \n",
    "print(paste(\"CV error=\",round(mean(CV.err),digits=4), \" ; std dev=\",round(sd(CV.err),digits=4)))"
   ]
  },
  {
   "cell_type": "markdown",
   "metadata": {},
   "source": [
    "### 4.2 Decision tree"
   ]
  },
  {
   "cell_type": "code",
   "execution_count": 56,
   "metadata": {
    "collapsed": true
   },
   "outputs": [],
   "source": []
  },
  {
   "cell_type": "code",
   "execution_count": 57,
   "metadata": {
    "collapsed": false
   },
   "outputs": [
    {
     "name": "stdout",
     "output_type": "stream",
     "text": [
      "[1] \"Empirical error= 0.1923\"\n"
     ]
    }
   ],
   "source": [
    "DS<-cbind(X.scale,SalePrice=Y.scale)\n",
    "model.tree <- rpart(SalePrice~.,DS)\n",
    "        \n",
    "Y.hat <- predict(model.tree,X.scale)\n",
    "        \n",
    "empirical_error<-mean((Y.hat-Y.scale)^2) \n",
    "print(paste(\"Empirical error=\",round(empirical_error,digits=4)))"
   ]
  },
  {
   "cell_type": "markdown",
   "metadata": {},
   "source": [
    "Cross validation"
   ]
  },
  {
   "cell_type": "code",
   "execution_count": 58,
   "metadata": {
    "collapsed": false
   },
   "outputs": [
    {
     "data": {
      "image/png": "[encoded data removed]",
      "text/plain": [
       "plot without title"
      ]
     },
     "metadata": {},
     "output_type": "display_data"
    }
   ],
   "source": [
    "library(rpart.plot)\n",
    "prp(model.tree)"
   ]
  },
  {
   "cell_type": "code",
   "execution_count": 59,
   "metadata": {
    "collapsed": false
   },
   "outputs": [
    {
     "name": "stdout",
     "output_type": "stream",
     "text": [
      "[1] \"CV error = 0.2325  std dev = 0.2906\"\n"
     ]
    }
   ],
   "source": [
    "size.CV<-floor(N/10)\n",
    "\n",
    "CV.err<-numeric(10)\n",
    "\n",
    "for (i in 1:10) {\n",
    "    # 1/10 for testing\n",
    "     i.ts<-(((i-1)*size.CV+1):(i*size.CV))  ### i.ts = indices of the test set for the i-th fold\n",
    "     X.ts<-X[i.ts,]  \n",
    "     Y.ts<-Y[i.ts]    \n",
    "    \n",
    "    #9/10 for training\n",
    "     i.tr<-setdiff(1:N,i.ts)                ###i.tr = indices of the training set for the i-th fold\n",
    "     X.tr<-X[i.tr,]\n",
    "     Y.tr<-Y[i.tr]         \n",
    "     \n",
    "    #scaling\n",
    "     X.tr.mean <- colMeans(X.tr)\n",
    "     X.tr.sd <- apply(X.tr,2,sd)\n",
    "    Y.tr.mean <- mean(Y.tr)\n",
    "    Y.tr.sd <- sd(Y.tr)\n",
    "\n",
    "    Y.tr <- cbind(Y.tr - Y.tr.mean)/Y.tr.sd \n",
    "    X.tr <- t(apply(sweep(X.tr,2,X.tr.mean,\"-\"), 1, function(x) x/X.tr.sd))\n",
    "    \n",
    "    #scaling the testing test by the same scaling as of the training set\n",
    "    X.ts <- t(apply(sweep(X.ts,2,X.tr.mean,\"-\"), 1, function(x) x/X.tr.sd))\n",
    "    Y.ts <- cbind(Y.ts - Y.tr.mean)/Y.tr.sd \n",
    "    \n",
    "    X.ts <-data.frame(X.ts)\n",
    "    X.tr <-data.frame(X.tr)                       \n",
    "     \n",
    "     DS<-cbind(X.tr,SalePrice=Y.tr)\n",
    "    \n",
    "     model<- rpart(SalePrice~.,DS)\n",
    "        \n",
    "     Y.hat.ts<- predict(model.tree,X.ts)\n",
    "        \n",
    "     CV.err[i]<-mean((Y.hat.ts-Y.ts)^2)\n",
    "    }\n",
    "    \n",
    "\n",
    "print(paste(\"CV error =\",round(mean(CV.err),digits=4), \" std dev =\",round(sd(CV.err),digits=4)))\n"
   ]
  },
  {
   "cell_type": "code",
   "execution_count": 33,
   "metadata": {
    "collapsed": true
   },
   "outputs": [],
   "source": [
    "?nnet"
   ]
  },
  {
   "cell_type": "markdown",
   "metadata": {},
   "source": [
    "### 4.3 Neural network"
   ]
  },
  {
   "cell_type": "code",
   "execution_count": 10,
   "metadata": {
    "collapsed": true
   },
   "outputs": [],
   "source": [
    "library(nnet)"
   ]
  },
  {
   "cell_type": "code",
   "execution_count": 11,
   "metadata": {
    "collapsed": false
   },
   "outputs": [
    {
     "name": "stdout",
     "output_type": "stream",
     "text": [
      "# weights:  221\n",
      "initial  value 482.169307 \n",
      "iter  10 value 83.591382\n",
      "iter  20 value 51.205708\n",
      "iter  30 value 42.132795\n",
      "iter  40 value 34.754309\n",
      "iter  50 value 27.572751\n",
      "iter  60 value 23.183973\n",
      "iter  70 value 17.539671\n",
      "iter  80 value 13.653254\n",
      "iter  90 value 11.221008\n",
      "iter 100 value 9.986719\n",
      "iter 110 value 9.071293\n",
      "iter 120 value 8.476875\n",
      "iter 130 value 8.073844\n",
      "iter 140 value 7.895714\n",
      "iter 150 value 7.734080\n",
      "iter 160 value 7.516339\n",
      "iter 170 value 7.229372\n",
      "iter 180 value 6.998418\n",
      "iter 190 value 6.731336\n",
      "iter 200 value 6.541693\n",
      "iter 210 value 6.253488\n",
      "iter 220 value 6.107651\n",
      "iter 230 value 6.039122\n",
      "iter 240 value 5.995854\n",
      "iter 250 value 5.895951\n",
      "iter 260 value 5.858728\n",
      "iter 270 value 5.828831\n",
      "iter 280 value 5.814106\n",
      "iter 290 value 5.797464\n",
      "iter 300 value 5.790562\n",
      "iter 310 value 5.783974\n",
      "iter 320 value 5.779930\n",
      "iter 330 value 5.778029\n",
      "iter 340 value 5.776181\n",
      "iter 350 value 5.773637\n",
      "iter 360 value 5.771632\n",
      "iter 370 value 5.770405\n",
      "iter 380 value 5.768526\n",
      "iter 390 value 5.766889\n",
      "iter 400 value 5.766267\n",
      "iter 410 value 5.765786\n",
      "iter 420 value 5.765463\n",
      "iter 430 value 5.765015\n",
      "iter 440 value 5.764620\n",
      "iter 450 value 5.764397\n",
      "iter 460 value 5.764375\n",
      "iter 470 value 5.764345\n",
      "iter 480 value 5.764312\n",
      "iter 490 value 5.764284\n",
      "iter 500 value 5.764252\n",
      "iter 510 value 5.764223\n",
      "iter 520 value 5.764192\n",
      "iter 530 value 5.764157\n",
      "iter 540 value 5.764116\n",
      "iter 550 value 5.764022\n",
      "iter 560 value 5.763942\n",
      "iter 570 value 5.763473\n",
      "iter 580 value 5.763093\n",
      "iter 590 value 5.762837\n",
      "iter 600 value 5.762603\n",
      "iter 610 value 5.760820\n",
      "iter 620 value 5.758963\n",
      "iter 630 value 5.758125\n",
      "iter 640 value 5.757631\n",
      "iter 650 value 5.757535\n",
      "iter 660 value 5.757366\n",
      "iter 670 value 5.757244\n",
      "iter 680 value 5.756931\n",
      "iter 690 value 5.756606\n",
      "iter 700 value 5.756418\n",
      "iter 710 value 5.755975\n",
      "iter 720 value 5.755957\n",
      "iter 730 value 5.755902\n",
      "iter 740 value 5.755799\n",
      "iter 750 value 5.755705\n",
      "iter 760 value 5.755654\n",
      "iter 770 value 5.755621\n",
      "iter 780 value 5.755580\n",
      "iter 790 value 5.755535\n",
      "iter 800 value 5.755368\n",
      "iter 810 value 5.754980\n",
      "iter 820 value 5.753896\n",
      "iter 830 value 5.753280\n",
      "iter 840 value 5.752944\n",
      "iter 850 value 5.752651\n",
      "iter 860 value 5.752371\n",
      "iter 870 value 5.751734\n",
      "iter 880 value 5.751577\n",
      "iter 890 value 5.751419\n",
      "iter 900 value 5.751377\n",
      "iter 910 value 5.751337\n",
      "iter 920 value 5.751315\n",
      "iter 930 value 5.751271\n",
      "iter 940 value 5.751208\n",
      "iter 950 value 5.751060\n",
      "iter 960 value 5.750898\n",
      "iter 970 value 5.749939\n",
      "iter 980 value 5.749343\n",
      "iter 990 value 5.748481\n",
      "iter1000 value 5.746845\n",
      "final  value 5.746845 \n",
      "stopped after 1000 iterations\n",
      "[1] \"Number of neurones:  5 Empirical error =  0.0144\"\n",
      "# weights:  265\n",
      "initial  value 1662.200644 \n",
      "iter  10 value 133.345214\n",
      "iter  20 value 69.588125\n",
      "iter  30 value 56.042999\n",
      "iter  40 value 46.982583\n",
      "iter  50 value 39.729988\n",
      "iter  60 value 35.633858\n",
      "iter  70 value 31.973529\n",
      "iter  80 value 28.195745\n",
      "iter  90 value 24.166454\n",
      "iter 100 value 22.160548\n",
      "iter 110 value 20.502928\n",
      "iter 120 value 18.038169\n",
      "iter 130 value 16.411232\n",
      "iter 140 value 14.424100\n",
      "iter 150 value 13.169828\n",
      "iter 160 value 12.384060\n",
      "iter 170 value 11.633043\n",
      "iter 180 value 10.679717\n",
      "iter 190 value 10.214582\n",
      "iter 200 value 9.722144\n",
      "iter 210 value 9.393015\n",
      "iter 220 value 9.121836\n",
      "iter 230 value 8.870295\n",
      "iter 240 value 8.642969\n",
      "iter 250 value 8.351857\n",
      "iter 260 value 8.026752\n",
      "iter 270 value 7.531980\n",
      "iter 280 value 7.274055\n",
      "iter 290 value 7.193423\n",
      "iter 300 value 7.120894\n",
      "iter 310 value 7.048352\n",
      "iter 320 value 6.931438\n",
      "iter 330 value 6.851061\n",
      "iter 340 value 6.782113\n",
      "iter 350 value 6.728061\n",
      "iter 360 value 6.656642\n",
      "iter 370 value 6.569288\n",
      "iter 380 value 6.528188\n",
      "iter 390 value 6.508608\n",
      "iter 400 value 6.489230\n",
      "iter 410 value 6.480436\n",
      "iter 420 value 6.464486\n",
      "iter 430 value 6.446421\n",
      "iter 440 value 6.413848\n",
      "iter 450 value 6.369769\n",
      "iter 460 value 6.339638\n",
      "iter 470 value 6.316651\n",
      "iter 480 value 6.301440\n",
      "iter 490 value 6.293090\n",
      "iter 500 value 6.288942\n",
      "iter 510 value 6.284119\n",
      "iter 520 value 6.278021\n",
      "iter 530 value 6.251268\n",
      "iter 540 value 6.248704\n",
      "iter 550 value 6.247743\n",
      "iter 560 value 6.245827\n",
      "iter 570 value 6.243976\n",
      "iter 580 value 6.242240\n",
      "iter 590 value 6.239788\n",
      "iter 600 value 6.237041\n",
      "iter 610 value 6.233709\n",
      "iter 620 value 6.228770\n",
      "iter 630 value 6.220412\n",
      "iter 640 value 6.214527\n",
      "iter 650 value 6.207487\n",
      "iter 660 value 6.203185\n",
      "iter 670 value 6.199264\n",
      "iter 680 value 6.195234\n",
      "iter 690 value 6.187090\n",
      "iter 700 value 6.183282\n",
      "iter 710 value 6.179015\n",
      "iter 720 value 6.177697\n",
      "iter 730 value 6.177032\n",
      "iter 740 value 6.176492\n",
      "iter 750 value 6.175826\n",
      "iter 760 value 6.174828\n",
      "iter 770 value 6.172328\n",
      "iter 780 value 6.167831\n",
      "iter 790 value 6.155578\n",
      "iter 800 value 6.147771\n",
      "iter 810 value 6.142267\n",
      "iter 820 value 6.139004\n",
      "iter 830 value 6.137324\n",
      "iter 840 value 6.133413\n",
      "iter 850 value 6.123251\n",
      "iter 860 value 6.096544\n",
      "iter 870 value 6.060259\n",
      "iter 880 value 6.052511\n",
      "iter 890 value 6.049162\n",
      "iter 900 value 6.046095\n",
      "iter 910 value 6.044777\n",
      "iter 920 value 6.041973\n",
      "iter 930 value 6.038373\n",
      "iter 940 value 6.033391\n",
      "iter 950 value 6.029506\n",
      "iter 960 value 6.020083\n",
      "iter 970 value 6.015411\n",
      "iter 980 value 6.013650\n",
      "iter 990 value 6.010328\n",
      "iter1000 value 6.007778\n",
      "final  value 6.007778 \n",
      "stopped after 1000 iterations\n",
      "[1] \"Number of neurones:  6 Empirical error =  0.015\"\n",
      "# weights:  309\n",
      "initial  value 477.234333 \n",
      "iter  10 value 80.774178\n",
      "iter  20 value 47.667213\n",
      "iter  30 value 28.678172\n",
      "iter  40 value 18.466296\n",
      "iter  50 value 12.597718\n",
      "iter  60 value 9.260483\n",
      "iter  70 value 7.954071\n",
      "iter  80 value 7.168901\n",
      "iter  90 value 6.401215\n",
      "iter 100 value 5.472361\n",
      "iter 110 value 5.177697\n",
      "iter 120 value 4.894712\n",
      "iter 130 value 4.668651\n",
      "iter 140 value 4.517712\n",
      "iter 150 value 4.337169\n",
      "iter 160 value 4.181632\n",
      "iter 170 value 3.987976\n",
      "iter 180 value 3.852264\n",
      "iter 190 value 3.779319\n",
      "iter 200 value 3.701863\n",
      "iter 210 value 3.655631\n",
      "iter 220 value 3.606907\n",
      "iter 230 value 3.536049\n",
      "iter 240 value 3.467650\n",
      "iter 250 value 3.448979\n",
      "iter 260 value 3.426551\n",
      "iter 270 value 3.410865\n",
      "iter 280 value 3.400437\n",
      "iter 290 value 3.392278\n",
      "iter 300 value 3.385645\n",
      "iter 310 value 3.379173\n",
      "iter 320 value 3.371869\n",
      "iter 330 value 3.364319\n",
      "iter 340 value 3.359215\n",
      "iter 350 value 3.356428\n",
      "iter 360 value 3.353600\n",
      "iter 370 value 3.350552\n",
      "iter 380 value 3.348563\n",
      "iter 390 value 3.347142\n",
      "iter 400 value 3.346058\n",
      "iter 410 value 3.345192\n",
      "iter 420 value 3.338797\n",
      "iter 430 value 3.323086\n",
      "iter 440 value 3.317834\n",
      "iter 450 value 3.314661\n",
      "iter 460 value 3.312259\n",
      "iter 470 value 3.310503\n",
      "iter 480 value 3.309592\n",
      "iter 490 value 3.308745\n",
      "iter 500 value 3.307828\n",
      "iter 510 value 3.306338\n",
      "iter 520 value 3.305134\n",
      "iter 530 value 3.303946\n",
      "iter 540 value 3.302812\n",
      "iter 550 value 3.301734\n",
      "iter 560 value 3.300717\n",
      "iter 570 value 3.298999\n",
      "iter 580 value 3.297240\n",
      "iter 590 value 3.296086\n",
      "iter 600 value 3.295162\n",
      "iter 610 value 3.294750\n",
      "iter 620 value 3.294375\n",
      "iter 630 value 3.294371\n",
      "iter 640 value 3.294352\n",
      "iter 650 value 3.294322\n",
      "iter 660 value 3.294289\n",
      "iter 670 value 3.294248\n",
      "iter 680 value 3.294213\n",
      "iter 690 value 3.294190\n",
      "iter 700 value 3.294166\n",
      "iter 710 value 3.294140\n",
      "iter 720 value 3.294080\n",
      "iter 730 value 3.294011\n",
      "iter 740 value 3.293945\n",
      "iter 750 value 3.293880\n",
      "iter 760 value 3.293793\n",
      "iter 770 value 3.293622\n",
      "iter 780 value 3.293479\n",
      "iter 790 value 3.293081\n",
      "iter 800 value 3.291548\n",
      "iter 810 value 3.289701\n",
      "iter 820 value 3.288997\n",
      "iter 830 value 3.288560\n",
      "iter 840 value 3.288321\n",
      "iter 850 value 3.288149\n",
      "iter 860 value 3.288026\n",
      "iter 870 value 3.287906\n",
      "iter 880 value 3.287789\n",
      "iter 890 value 3.287662\n",
      "iter 900 value 3.287602\n",
      "iter 910 value 3.287518\n",
      "iter 920 value 3.287474\n",
      "iter 930 value 3.287433\n",
      "iter 940 value 3.287412\n",
      "iter 950 value 3.287392\n",
      "iter 960 value 3.287378\n",
      "iter 970 value 3.287367\n",
      "iter 980 value 3.287360\n",
      "iter 990 value 3.287351\n",
      "iter1000 value 3.287340\n",
      "final  value 3.287340 \n",
      "stopped after 1000 iterations\n",
      "[1] \"Number of neurones:  7 Empirical error =  0.0082\"\n",
      "# weights:  353\n",
      "initial  value 632.118864 \n",
      "iter  10 value 106.900760\n",
      "iter  20 value 56.792992\n",
      "iter  30 value 36.879290\n",
      "iter  40 value 26.572477\n",
      "iter  50 value 18.706441\n",
      "iter  60 value 12.754873\n",
      "iter  70 value 9.954439\n",
      "iter  80 value 7.303242\n",
      "iter  90 value 6.239476\n",
      "iter 100 value 5.347459\n",
      "iter 110 value 5.012904\n",
      "iter 120 value 4.874954\n",
      "iter 130 value 4.752463\n",
      "iter 140 value 4.598202\n",
      "iter 150 value 4.394463\n",
      "iter 160 value 4.141000\n",
      "iter 170 value 3.535754\n",
      "iter 180 value 3.204951\n",
      "iter 190 value 3.035408\n",
      "iter 200 value 2.908902\n",
      "iter 210 value 2.760655\n",
      "iter 220 value 2.671241\n",
      "iter 230 value 2.604396\n",
      "iter 240 value 2.519622\n",
      "iter 250 value 2.459178\n",
      "iter 260 value 2.411047\n",
      "iter 270 value 2.379279\n",
      "iter 280 value 2.344617\n",
      "iter 290 value 2.315283\n",
      "iter 300 value 2.286385\n",
      "iter 310 value 2.267744\n",
      "iter 320 value 2.257914\n",
      "iter 330 value 2.250170\n",
      "iter 340 value 2.243859\n",
      "iter 350 value 2.237125\n",
      "iter 360 value 2.229442\n",
      "iter 370 value 2.214351\n",
      "iter 380 value 2.209334\n",
      "iter 390 value 2.205189\n",
      "iter 400 value 2.202857\n",
      "iter 410 value 2.199393\n",
      "iter 420 value 2.197772\n",
      "iter 430 value 2.196392\n",
      "iter 440 value 2.195034\n",
      "iter 450 value 2.193939\n",
      "iter 460 value 2.193331\n",
      "iter 470 value 2.192776\n",
      "iter 480 value 2.192368\n",
      "iter 490 value 2.192002\n",
      "iter 500 value 2.191712\n",
      "iter 510 value 2.191498\n",
      "iter 520 value 2.191265\n",
      "iter 530 value 2.190861\n",
      "iter 540 value 2.190173\n",
      "iter 550 value 2.189490\n",
      "iter 560 value 2.187789\n",
      "iter 570 value 2.183960\n",
      "iter 580 value 2.181247\n",
      "iter 590 value 2.179462\n",
      "iter 600 value 2.178366\n",
      "iter 610 value 2.177462\n",
      "iter 620 value 2.176841\n",
      "iter 630 value 2.176113\n",
      "iter 640 value 2.175502\n",
      "iter 650 value 2.175053\n",
      "iter 660 value 2.174696\n",
      "iter 670 value 2.174369\n",
      "iter 680 value 2.174026\n",
      "iter 690 value 2.173693\n",
      "iter 700 value 2.173275\n",
      "iter 710 value 2.172702\n",
      "iter 720 value 2.172325\n",
      "iter 730 value 2.171903\n",
      "iter 740 value 2.171500\n",
      "iter 750 value 2.171157\n",
      "iter 760 value 2.170748\n",
      "iter 770 value 2.170458\n",
      "iter 780 value 2.170216\n",
      "iter 790 value 2.169973\n",
      "iter 800 value 2.169784\n",
      "iter 810 value 2.169213\n",
      "iter 820 value 2.169203\n",
      "iter 830 value 2.169179\n",
      "iter 840 value 2.169139\n",
      "iter 850 value 2.169099\n",
      "iter 860 value 2.169056\n",
      "iter 870 value 2.168990\n",
      "iter 880 value 2.168943\n",
      "iter 890 value 2.168898\n",
      "iter 900 value 2.168852\n",
      "iter 910 value 2.168806\n",
      "iter 920 value 2.168736\n",
      "iter 930 value 2.168640\n",
      "iter 940 value 2.168534\n",
      "iter 950 value 2.168462\n",
      "iter 960 value 2.168381\n",
      "iter 970 value 2.168278\n",
      "iter 980 value 2.168182\n",
      "iter 990 value 2.168122\n",
      "iter1000 value 2.168030\n",
      "final  value 2.168030 \n",
      "stopped after 1000 iterations\n",
      "[1] \"Number of neurones:  8 Empirical error =  0.0054\"\n",
      "# weights:  397\n",
      "initial  value 505.589377 \n",
      "iter  10 value 79.117370\n",
      "iter  20 value 37.587475\n",
      "iter  30 value 23.485466\n",
      "iter  40 value 13.359670\n",
      "iter  50 value 8.165105\n",
      "iter  60 value 5.389608\n",
      "iter  70 value 4.203699\n",
      "iter  80 value 3.252846\n",
      "iter  90 value 2.656303\n",
      "iter 100 value 2.229509\n",
      "iter 110 value 1.871641\n",
      "iter 120 value 1.625377\n",
      "iter 130 value 1.478128\n",
      "iter 140 value 1.369107\n",
      "iter 150 value 1.304863\n",
      "iter 160 value 1.245829\n",
      "iter 170 value 1.197352\n",
      "iter 180 value 1.155907\n",
      "iter 190 value 1.111821\n",
      "iter 200 value 1.066801\n",
      "iter 210 value 1.015421\n",
      "iter 220 value 0.979315\n",
      "iter 230 value 0.955885\n",
      "iter 240 value 0.936090\n",
      "iter 250 value 0.922556\n",
      "iter 260 value 0.908841\n",
      "iter 270 value 0.898919\n",
      "iter 280 value 0.888564\n",
      "iter 290 value 0.877204\n",
      "iter 300 value 0.868115\n",
      "iter 310 value 0.861214\n",
      "iter 320 value 0.848844\n",
      "iter 330 value 0.835573\n",
      "iter 340 value 0.822714\n",
      "iter 350 value 0.814311\n",
      "iter 360 value 0.807457\n",
      "iter 370 value 0.801704\n",
      "iter 380 value 0.796884\n",
      "iter 390 value 0.789112\n",
      "iter 400 value 0.781199\n",
      "iter 410 value 0.773202\n",
      "iter 420 value 0.764592\n",
      "iter 430 value 0.756356\n",
      "iter 440 value 0.746418\n",
      "iter 450 value 0.732616\n",
      "iter 460 value 0.719470\n",
      "iter 470 value 0.705811\n",
      "iter 480 value 0.692965\n",
      "iter 490 value 0.683700\n",
      "iter 500 value 0.675799\n",
      "iter 510 value 0.670057\n",
      "iter 520 value 0.666161\n",
      "iter 530 value 0.662328\n",
      "iter 540 value 0.658921\n",
      "iter 550 value 0.654816\n",
      "iter 560 value 0.652182\n",
      "iter 570 value 0.650088\n",
      "iter 580 value 0.647735\n",
      "iter 590 value 0.645280\n",
      "iter 600 value 0.642559\n",
      "iter 610 value 0.639848\n",
      "iter 620 value 0.637162\n",
      "iter 630 value 0.634094\n",
      "iter 640 value 0.631042\n",
      "iter 650 value 0.628595\n",
      "iter 660 value 0.626157\n",
      "iter 670 value 0.623381\n",
      "iter 680 value 0.620606\n",
      "iter 690 value 0.617491\n",
      "iter 700 value 0.614012\n",
      "iter 710 value 0.610859\n",
      "iter 720 value 0.607703\n",
      "iter 730 value 0.603271\n",
      "iter 740 value 0.599301\n",
      "iter 750 value 0.596052\n",
      "iter 760 value 0.592864\n",
      "iter 770 value 0.590537\n",
      "iter 780 value 0.587772\n",
      "iter 790 value 0.584857\n",
      "iter 800 value 0.583036\n",
      "iter 810 value 0.582848\n",
      "iter 820 value 0.582598\n",
      "iter 830 value 0.582264\n",
      "iter 840 value 0.581998\n",
      "iter 850 value 0.581682\n",
      "iter 860 value 0.581252\n",
      "iter 870 value 0.580743\n",
      "iter 880 value 0.579893\n",
      "iter 890 value 0.578944\n",
      "iter 900 value 0.577995\n",
      "iter 910 value 0.577150\n",
      "iter 920 value 0.576278\n",
      "iter 930 value 0.575401\n",
      "iter 940 value 0.574784\n",
      "iter 950 value 0.574211\n",
      "iter 960 value 0.573412\n",
      "iter 970 value 0.572199\n",
      "iter 980 value 0.571036\n",
      "iter 990 value 0.569943\n",
      "iter1000 value 0.568912\n",
      "final  value 0.568912 \n",
      "stopped after 1000 iterations\n",
      "[1] \"Number of neurones:  9 Empirical error =  0.0014\"\n",
      "# weights:  441\n",
      "initial  value 929.929202 \n",
      "iter  10 value 55.737453\n",
      "iter  20 value 23.978647\n",
      "iter  30 value 14.465741\n",
      "iter  40 value 10.445879\n",
      "iter  50 value 6.896369\n",
      "iter  60 value 4.639768\n",
      "iter  70 value 3.350363\n",
      "iter  80 value 2.523427\n",
      "iter  90 value 1.987839\n",
      "iter 100 value 1.543505\n",
      "iter 110 value 1.293024\n",
      "iter 120 value 1.063453\n",
      "iter 130 value 0.862789\n",
      "iter 140 value 0.675212\n",
      "iter 150 value 0.550355\n",
      "iter 160 value 0.452688\n",
      "iter 170 value 0.379481\n",
      "iter 180 value 0.325281\n",
      "iter 190 value 0.282242\n",
      "iter 200 value 0.248431\n",
      "iter 210 value 0.219281\n",
      "iter 220 value 0.202957\n",
      "iter 230 value 0.187232\n",
      "iter 240 value 0.172495\n",
      "iter 250 value 0.158403\n",
      "iter 260 value 0.146422\n",
      "iter 270 value 0.136262\n",
      "iter 280 value 0.127262\n",
      "iter 290 value 0.119049\n",
      "iter 300 value 0.113319\n",
      "iter 310 value 0.108082\n",
      "iter 320 value 0.102602\n",
      "iter 330 value 0.096279\n",
      "iter 340 value 0.090475\n",
      "iter 350 value 0.085894\n",
      "iter 360 value 0.081238\n",
      "iter 370 value 0.076572\n",
      "iter 380 value 0.073188\n",
      "iter 390 value 0.070354\n",
      "iter 400 value 0.067977\n",
      "iter 410 value 0.065900\n",
      "iter 420 value 0.063409\n",
      "iter 430 value 0.061870\n",
      "iter 440 value 0.060679\n",
      "iter 450 value 0.059819\n",
      "iter 460 value 0.058489\n",
      "iter 470 value 0.057341\n",
      "iter 480 value 0.056047\n",
      "iter 490 value 0.054497\n",
      "iter 500 value 0.052912\n",
      "iter 510 value 0.050787\n",
      "iter 520 value 0.049049\n",
      "iter 530 value 0.047634\n",
      "iter 540 value 0.045850\n",
      "iter 550 value 0.044090\n",
      "iter 560 value 0.042079\n",
      "iter 570 value 0.040199\n",
      "iter 580 value 0.038484\n",
      "iter 590 value 0.037214\n",
      "iter 600 value 0.035702\n",
      "iter 610 value 0.034251\n",
      "iter 620 value 0.033064\n",
      "iter 630 value 0.032062\n",
      "iter 640 value 0.031247\n",
      "iter 650 value 0.030526\n",
      "iter 660 value 0.029832\n",
      "iter 670 value 0.029220\n",
      "iter 680 value 0.028622\n",
      "iter 690 value 0.028057\n",
      "iter 700 value 0.027297\n",
      "iter 710 value 0.026666\n",
      "iter 720 value 0.026200\n",
      "iter 730 value 0.025581\n",
      "iter 740 value 0.024868\n",
      "iter 750 value 0.024476\n",
      "iter 760 value 0.024253\n",
      "iter 770 value 0.024037\n",
      "iter 780 value 0.023837\n",
      "iter 790 value 0.023634\n",
      "iter 800 value 0.023391\n",
      "iter 810 value 0.023113\n",
      "iter 820 value 0.022858\n",
      "iter 830 value 0.022696\n",
      "iter 840 value 0.022525\n",
      "iter 850 value 0.022346\n",
      "iter 860 value 0.022162\n",
      "iter 870 value 0.022011\n",
      "iter 880 value 0.021792\n",
      "iter 890 value 0.021696\n",
      "iter 900 value 0.021676\n",
      "iter 910 value 0.021650\n",
      "iter 920 value 0.021618\n",
      "iter 930 value 0.021567\n",
      "iter 940 value 0.021505\n",
      "iter 950 value 0.021436\n",
      "iter 960 value 0.021380\n",
      "iter 970 value 0.021315\n",
      "iter 980 value 0.021211\n",
      "iter 990 value 0.021101\n",
      "iter1000 value 0.021006\n",
      "final  value 0.021006 \n",
      "stopped after 1000 iterations\n",
      "[1] \"Number of neurones:  10 Empirical error =  1e-04\"\n",
      "# weights:  485\n",
      "initial  value 548.701898 \n",
      "iter  10 value 58.716853\n",
      "iter  20 value 25.168212\n",
      "iter  30 value 13.636407\n",
      "iter  40 value 7.317404\n",
      "iter  50 value 4.666886\n",
      "iter  60 value 3.366027\n",
      "iter  70 value 2.290069\n",
      "iter  80 value 1.790859\n",
      "iter  90 value 1.544452\n",
      "iter 100 value 1.304173\n",
      "iter 110 value 1.067987\n",
      "iter 120 value 0.864679\n",
      "iter 130 value 0.655254\n",
      "iter 140 value 0.512094\n",
      "iter 150 value 0.420395\n",
      "iter 160 value 0.344712\n",
      "iter 170 value 0.270300\n",
      "iter 180 value 0.221864\n",
      "iter 190 value 0.183678\n",
      "iter 200 value 0.149730\n",
      "iter 210 value 0.125640\n",
      "iter 220 value 0.109027\n",
      "iter 230 value 0.097176\n",
      "iter 240 value 0.088291\n",
      "iter 250 value 0.079704\n",
      "iter 260 value 0.074560\n",
      "iter 270 value 0.070345\n",
      "iter 280 value 0.064620\n",
      "iter 290 value 0.060108\n",
      "iter 300 value 0.054652\n",
      "iter 310 value 0.048263\n",
      "iter 320 value 0.041775\n",
      "iter 330 value 0.035969\n",
      "iter 340 value 0.032537\n",
      "iter 350 value 0.029065\n",
      "iter 360 value 0.026191\n",
      "iter 370 value 0.024111\n",
      "iter 380 value 0.021938\n",
      "iter 390 value 0.020109\n",
      "iter 400 value 0.018689\n",
      "iter 410 value 0.017344\n",
      "iter 420 value 0.015503\n",
      "iter 430 value 0.013975\n",
      "iter 440 value 0.012443\n",
      "iter 450 value 0.010681\n",
      "iter 460 value 0.009492\n",
      "iter 470 value 0.008713\n",
      "iter 480 value 0.007863\n",
      "iter 490 value 0.007089\n",
      "iter 500 value 0.006474\n",
      "iter 510 value 0.005988\n",
      "iter 520 value 0.005455\n",
      "iter 530 value 0.004970\n",
      "iter 540 value 0.004566\n",
      "iter 550 value 0.004235\n",
      "iter 560 value 0.003963\n",
      "iter 570 value 0.003786\n",
      "iter 580 value 0.003636\n",
      "iter 590 value 0.003492\n",
      "iter 600 value 0.003395\n",
      "iter 610 value 0.003267\n",
      "iter 620 value 0.003101\n",
      "iter 630 value 0.002917\n",
      "iter 640 value 0.002738\n",
      "iter 650 value 0.002586\n",
      "iter 660 value 0.002443\n",
      "iter 670 value 0.002288\n",
      "iter 680 value 0.002152\n",
      "iter 690 value 0.002019\n",
      "iter 700 value 0.001933\n",
      "iter 710 value 0.001844\n",
      "iter 720 value 0.001765\n",
      "iter 730 value 0.001665\n",
      "iter 740 value 0.001571\n",
      "iter 750 value 0.001487\n",
      "iter 760 value 0.001411\n",
      "iter 770 value 0.001342\n",
      "iter 780 value 0.001280\n",
      "iter 790 value 0.001230\n",
      "iter 800 value 0.001169\n",
      "iter 810 value 0.001105\n",
      "iter 820 value 0.001050\n",
      "iter 830 value 0.000998\n",
      "iter 840 value 0.000954\n",
      "iter 850 value 0.000920\n",
      "iter 860 value 0.000889\n",
      "iter 870 value 0.000864\n",
      "iter 880 value 0.000834\n",
      "iter 890 value 0.000804\n",
      "iter 900 value 0.000776\n",
      "iter 910 value 0.000755\n",
      "iter 920 value 0.000734\n",
      "iter 930 value 0.000713\n",
      "iter 940 value 0.000692\n",
      "iter 950 value 0.000667\n",
      "iter 960 value 0.000646\n",
      "iter 970 value 0.000622\n",
      "iter 980 value 0.000616\n",
      "iter 990 value 0.000615\n",
      "iter1000 value 0.000612\n",
      "final  value 0.000612 \n",
      "stopped after 1000 iterations\n",
      "[1] \"Number of neurones:  11 Empirical error =  0\"\n",
      "# weights:  529\n",
      "initial  value 888.201315 \n",
      "iter  10 value 73.662161\n",
      "iter  20 value 34.587193\n",
      "iter  30 value 25.654552\n",
      "iter  40 value 12.842885\n",
      "iter  50 value 6.445008\n",
      "iter  60 value 3.648917\n",
      "iter  70 value 2.246585\n",
      "iter  80 value 1.593100\n",
      "iter  90 value 1.153779\n",
      "iter 100 value 0.904463\n",
      "iter 110 value 0.668053\n",
      "iter 120 value 0.549464\n",
      "iter 130 value 0.451402\n",
      "iter 140 value 0.329293\n",
      "iter 150 value 0.251250\n",
      "iter 160 value 0.199907\n",
      "iter 170 value 0.164511\n",
      "iter 180 value 0.136166\n",
      "iter 190 value 0.110130\n",
      "iter 200 value 0.092677\n",
      "iter 210 value 0.078812\n",
      "iter 220 value 0.067394\n",
      "iter 230 value 0.056932\n",
      "iter 240 value 0.048084\n",
      "iter 250 value 0.041865\n",
      "iter 260 value 0.036689\n",
      "iter 270 value 0.033127\n",
      "iter 280 value 0.028585\n",
      "iter 290 value 0.024863\n",
      "iter 300 value 0.020730\n",
      "iter 310 value 0.016689\n",
      "iter 320 value 0.014186\n",
      "iter 330 value 0.011815\n",
      "iter 340 value 0.009852\n",
      "iter 350 value 0.008424\n",
      "iter 360 value 0.007153\n",
      "iter 370 value 0.005825\n",
      "iter 380 value 0.004584\n",
      "iter 390 value 0.003563\n",
      "iter 400 value 0.002992\n",
      "iter 410 value 0.002495\n",
      "iter 420 value 0.002016\n",
      "iter 430 value 0.001690\n",
      "iter 440 value 0.001475\n",
      "iter 450 value 0.001261\n",
      "iter 460 value 0.001085\n",
      "iter 470 value 0.000928\n",
      "iter 480 value 0.000804\n",
      "iter 490 value 0.000721\n",
      "iter 500 value 0.000645\n",
      "iter 510 value 0.000579\n",
      "iter 520 value 0.000508\n",
      "iter 530 value 0.000459\n",
      "iter 540 value 0.000411\n",
      "iter 550 value 0.000354\n",
      "iter 560 value 0.000317\n",
      "iter 570 value 0.000278\n",
      "iter 580 value 0.000245\n",
      "iter 590 value 0.000212\n",
      "iter 600 value 0.000180\n",
      "iter 610 value 0.000145\n",
      "iter 620 value 0.000126\n",
      "iter 630 value 0.000115\n",
      "iter 640 value 0.000103\n",
      "final  value 0.000099 \n",
      "converged\n",
      "[1] \"Number of neurones:  12 Empirical error =  0\"\n",
      "# weights:  573\n",
      "initial  value 1391.076283 \n",
      "iter  10 value 60.172458\n",
      "iter  20 value 23.869970\n",
      "iter  30 value 11.389979\n",
      "iter  40 value 5.213795\n",
      "iter  50 value 2.781025\n",
      "iter  60 value 1.534070\n",
      "iter  70 value 0.982541\n",
      "iter  80 value 0.654242\n",
      "iter  90 value 0.457662\n",
      "iter 100 value 0.325091\n",
      "iter 110 value 0.214902\n",
      "iter 120 value 0.142506\n",
      "iter 130 value 0.091960\n",
      "iter 140 value 0.062264\n",
      "iter 150 value 0.043837\n",
      "iter 160 value 0.028405\n",
      "iter 170 value 0.016514\n",
      "iter 180 value 0.009505\n",
      "iter 190 value 0.005698\n",
      "iter 200 value 0.003209\n",
      "iter 210 value 0.001691\n",
      "iter 220 value 0.000827\n",
      "iter 230 value 0.000428\n",
      "iter 240 value 0.000173\n",
      "final  value 0.000095 \n",
      "converged\n",
      "[1] \"Number of neurones:  13 Empirical error =  0\"\n",
      "# weights:  617\n",
      "initial  value 1217.541135 \n",
      "iter  10 value 60.567299\n",
      "iter  20 value 22.272345\n",
      "iter  30 value 12.468055\n",
      "iter  40 value 5.474752\n",
      "iter  50 value 2.684692\n",
      "iter  60 value 1.322748\n",
      "iter  70 value 0.789153\n",
      "iter  80 value 0.525658\n",
      "iter  90 value 0.348667\n",
      "iter 100 value 0.235773\n",
      "iter 110 value 0.130993\n",
      "iter 120 value 0.066799\n",
      "iter 130 value 0.034367\n",
      "iter 140 value 0.018706\n",
      "iter 150 value 0.010255\n",
      "iter 160 value 0.005726\n",
      "iter 170 value 0.003377\n",
      "iter 180 value 0.002054\n",
      "iter 190 value 0.001265\n",
      "iter 200 value 0.000801\n",
      "iter 210 value 0.000453\n",
      "iter 220 value 0.000228\n",
      "final  value 0.000099 \n",
      "converged\n",
      "[1] \"Number of neurones:  14 Empirical error =  0\"\n",
      "# weights:  661\n",
      "initial  value 625.271196 \n",
      "iter  10 value 54.174085\n",
      "iter  20 value 23.935428\n",
      "iter  30 value 11.287958\n",
      "iter  40 value 6.595969\n",
      "iter  50 value 3.289589\n",
      "iter  60 value 1.672551\n",
      "iter  70 value 0.858704\n",
      "iter  80 value 0.423895\n",
      "iter  90 value 0.211441\n",
      "iter 100 value 0.135276\n",
      "iter 110 value 0.069850\n",
      "iter 120 value 0.039485\n",
      "iter 130 value 0.020675\n",
      "iter 140 value 0.009370\n",
      "iter 150 value 0.004221\n",
      "iter 160 value 0.001888\n",
      "iter 170 value 0.000807\n",
      "iter 180 value 0.000296\n",
      "iter 190 value 0.000102\n",
      "iter 190 value 0.000091\n",
      "iter 190 value 0.000091\n",
      "final  value 0.000091 \n",
      "converged\n",
      "[1] \"Number of neurones:  15 Empirical error =  0\"\n",
      "# weights:  705\n",
      "initial  value 536.737498 \n",
      "iter  10 value 56.155669\n",
      "iter  20 value 20.712883\n",
      "iter  30 value 9.552513\n",
      "iter  40 value 5.822060\n",
      "iter  50 value 3.657205\n",
      "iter  60 value 1.962678\n",
      "iter  70 value 1.076958\n",
      "iter  80 value 0.564658\n",
      "iter  90 value 0.303774\n",
      "iter 100 value 0.179633\n",
      "iter 110 value 0.107529\n",
      "iter 120 value 0.058971\n",
      "iter 130 value 0.032943\n",
      "iter 140 value 0.018132\n",
      "iter 150 value 0.008896\n",
      "iter 160 value 0.003896\n",
      "iter 170 value 0.001645\n",
      "iter 180 value 0.000625\n",
      "iter 190 value 0.000237\n",
      "final  value 0.000092 \n",
      "converged\n",
      "[1] \"Number of neurones:  16 Empirical error =  0\"\n",
      "# weights:  749\n",
      "initial  value 478.476588 \n",
      "iter  10 value 57.234506\n",
      "iter  20 value 24.455009\n",
      "iter  30 value 12.293854\n",
      "iter  40 value 5.336719\n",
      "iter  50 value 2.599581\n",
      "iter  60 value 1.344643\n",
      "iter  70 value 0.601699\n",
      "iter  80 value 0.267793\n",
      "iter  90 value 0.133675\n",
      "iter 100 value 0.069978\n",
      "iter 110 value 0.043154\n",
      "iter 120 value 0.024789\n",
      "iter 130 value 0.013519\n",
      "iter 140 value 0.005884\n",
      "iter 150 value 0.002186\n",
      "iter 160 value 0.000864\n",
      "iter 170 value 0.000351\n",
      "iter 180 value 0.000128\n",
      "final  value 0.000098 \n",
      "converged\n",
      "[1] \"Number of neurones:  17 Empirical error =  0\"\n",
      "# weights:  793\n",
      "initial  value 1391.008677 \n",
      "iter  10 value 190.641440\n",
      "iter  20 value 63.170663\n",
      "iter  30 value 26.541619\n",
      "iter  40 value 14.663523\n",
      "iter  50 value 8.460467\n",
      "iter  60 value 5.730224\n",
      "iter  70 value 4.158716\n",
      "iter  80 value 3.033885\n",
      "iter  90 value 2.260580\n",
      "iter 100 value 1.599233\n",
      "iter 110 value 1.150477\n",
      "iter 120 value 0.818849\n",
      "iter 130 value 0.597080\n",
      "iter 140 value 0.418634\n",
      "iter 150 value 0.281985\n",
      "iter 160 value 0.219934\n",
      "iter 170 value 0.161405\n",
      "iter 180 value 0.117605\n",
      "iter 190 value 0.067670\n",
      "iter 200 value 0.038519\n",
      "iter 210 value 0.029473\n",
      "iter 220 value 0.023176\n",
      "iter 230 value 0.017818\n",
      "iter 240 value 0.014859\n",
      "iter 250 value 0.012068\n",
      "iter 260 value 0.009258\n",
      "iter 270 value 0.007442\n",
      "iter 280 value 0.006115\n",
      "iter 290 value 0.004889\n",
      "iter 300 value 0.003897\n",
      "iter 310 value 0.003305\n",
      "iter 320 value 0.002873\n",
      "iter 330 value 0.002469\n",
      "iter 340 value 0.002171\n",
      "iter 350 value 0.001833\n",
      "iter 360 value 0.001631\n",
      "iter 370 value 0.001343\n",
      "iter 380 value 0.001124\n",
      "iter 390 value 0.000948\n",
      "iter 400 value 0.000783\n",
      "iter 410 value 0.000652\n",
      "iter 420 value 0.000530\n",
      "iter 430 value 0.000347\n",
      "iter 440 value 0.000192\n",
      "final  value 0.000099 \n",
      "converged\n",
      "[1] \"Number of neurones:  18 Empirical error =  0\"\n",
      "# weights:  837\n",
      "initial  value 760.883144 \n",
      "iter  10 value 60.956625\n",
      "iter  20 value 24.155272\n",
      "iter  30 value 11.177547\n",
      "iter  40 value 4.979296\n",
      "iter  50 value 1.961388\n",
      "iter  60 value 0.787699\n",
      "iter  70 value 0.300532\n",
      "iter  80 value 0.124677\n",
      "iter  90 value 0.059356\n",
      "iter 100 value 0.021435\n",
      "iter 110 value 0.006652\n",
      "iter 120 value 0.002193\n",
      "iter 130 value 0.000519\n",
      "iter 140 value 0.000130\n",
      "final  value 0.000096 \n",
      "converged\n",
      "[1] \"Number of neurones:  19 Empirical error =  0\"\n",
      "# weights:  881\n",
      "initial  value 408.337868 \n",
      "iter  10 value 57.663771\n",
      "iter  20 value 16.481263\n",
      "iter  30 value 7.594324\n",
      "iter  40 value 4.076544\n",
      "iter  50 value 2.063037\n",
      "iter  60 value 0.874165\n",
      "iter  70 value 0.375572\n",
      "iter  80 value 0.149104\n",
      "iter  90 value 0.056090\n",
      "iter 100 value 0.020941\n",
      "iter 110 value 0.008525\n",
      "iter 120 value 0.002991\n",
      "iter 130 value 0.000934\n",
      "iter 140 value 0.000243\n",
      "final  value 0.000093 \n",
      "converged\n",
      "[1] \"Number of neurones:  20 Empirical error =  0\"\n",
      "# weights:  925\n",
      "initial  value 1663.082676 \n",
      "iter  10 value 65.445844\n",
      "iter  20 value 25.608391\n",
      "iter  30 value 12.671372\n",
      "iter  40 value 4.587839\n",
      "iter  50 value 1.619358\n",
      "iter  60 value 0.647548\n",
      "iter  70 value 0.238754\n",
      "iter  80 value 0.094250\n",
      "iter  90 value 0.054870\n",
      "iter 100 value 0.025514\n",
      "iter 110 value 0.010601\n",
      "iter 120 value 0.003026\n",
      "iter 130 value 0.000854\n",
      "iter 140 value 0.000202\n",
      "final  value 0.000096 \n",
      "converged\n",
      "[1] \"Number of neurones:  21 Empirical error =  0\"\n",
      "# weights:  969\n",
      "initial  value 589.369382 \n",
      "iter  10 value 70.770673\n",
      "iter  20 value 20.320507\n",
      "iter  30 value 8.421503\n",
      "iter  40 value 4.164976\n",
      "iter  50 value 1.778048\n",
      "iter  60 value 0.737460\n",
      "iter  70 value 0.327484\n",
      "iter  80 value 0.127328\n",
      "iter  90 value 0.054398\n",
      "iter 100 value 0.017663\n",
      "iter 110 value 0.005939\n",
      "iter 120 value 0.001415\n",
      "iter 130 value 0.000511\n",
      "iter 140 value 0.000145\n",
      "final  value 0.000090 \n",
      "converged\n",
      "[1] \"Number of neurones:  22 Empirical error =  0\"\n"
     ]
    },
    {
     "ename": "ERROR",
     "evalue": "Error in nnet.default(x, y, w, ...): too many (1013) weights\n",
     "output_type": "error",
     "traceback": [
      "Error in nnet.default(x, y, w, ...): too many (1013) weights\nTraceback:\n",
      "1. predict(nnet(SalePrice ~ ., DS, size = i, linout = T, maxit = 1000), \n .     X.scale)   # at line 4 of file <text>",
      "2. nnet(SalePrice ~ ., DS, size = i, linout = T, maxit = 1000)",
      "3. nnet.formula(SalePrice ~ ., DS, size = i, linout = T, maxit = 1000)",
      "4. nnet.default(x, y, w, ...)",
      "5. stop(gettextf(\"too many (%d) weights\", nwts), domain = NA)"
     ]
    }
   ],
   "source": [
    "DS<-cbind(X.scale,SalePrice=Y.scale)\n",
    "for (i in 5:22){\n",
    "    #model.neural[i] <- nnet(SalePrice~.,DS, size = i, linout=T, maxit = 1000)\n",
    "    Y.hat <- predict(nnet(SalePrice~.,DS, size = i, linout=T, maxit = 1000),X.scale)\n",
    "\n",
    "    empirical_error[i] <- mean((Y.hat-Y.scale)^2) \n",
    "    print(paste(\"Number of neurones: \", i, \"Empirical error = \",round(empirical_error[i],digits=4)))\n",
    "}"
   ]
  },
  {
   "cell_type": "markdown",
   "metadata": {},
   "source": [
    "An analysis of the number of neurones is done. The maximum of neurones used is 20 as more return an error (too many weights)."
   ]
  },
  {
   "cell_type": "code",
   "execution_count": 29,
   "metadata": {
    "collapsed": false
   },
   "outputs": [],
   "source": [
    "empirical_error <- c(0.0143671130358607, 0.015019445363705, 0.00821834907673351, 0.0054200745645435, 0.00142228029226354, 5.25161597874794e-05, 1.52899010549121e-06, 2.47317346679477e-07, 2.37597648006074e-07, 2.47841099771862e-07, 2.26350153783801e-07, 2.30675129791945e-07, 2.44205643742954e-07, 2.4713486169669e-07, 2.40667851762e-07, 2.31459671090645e-07, 2.39175596505192e-07, 2.24902711484879e-07) "
   ]
  },
  {
   "cell_type": "code",
   "execution_count": 30,
   "metadata": {
    "collapsed": false
   },
   "outputs": [
    {
     "data": {
      "image/png": "[encoded data removed]",
      "text/plain": [
       "plot without title"
      ]
     },
     "metadata": {},
     "output_type": "display_data"
    }
   ],
   "source": [
    "plot(c(5:22),empirical_error)"
   ]
  },
  {
   "cell_type": "code",
   "execution_count": 32,
   "metadata": {
    "collapsed": false
   },
   "outputs": [
    {
     "data": {
      "image/png": "[encoded data removed]",
      "text/plain": [
       "plot without title"
      ]
     },
     "metadata": {},
     "output_type": "display_data"
    }
   ],
   "source": [
    "plot(c(12:22),empirical_error[8:18])  # zoom"
   ]
  },
  {
   "cell_type": "code",
   "execution_count": null,
   "metadata": {
    "collapsed": false
   },
   "outputs": [],
   "source": [
    "size.CV<-floor(N/10)\n",
    "\n",
    "CV.err<-numeric(10)\n",
    "\n",
    "for (j in 10:22){\n",
    "    \n",
    "    for (i in 1:10) {\n",
    "        # 1/10 for testing\n",
    "         i.ts<-(((i-1)*size.CV+1):(i*size.CV))  ### i.ts = indices of the test set for the i-th fold\n",
    "         X.ts<-X[i.ts,]  \n",
    "         Y.ts<-Y[i.ts]    \n",
    "\n",
    "        #9/10 for training\n",
    "         i.tr<-setdiff(1:N,i.ts)                ###i.tr = indices of the training set for the i-th fold\n",
    "         X.tr<-X[i.tr,]\n",
    "         Y.tr<-Y[i.tr]         \n",
    "\n",
    "        #scaling\n",
    "         X.tr.mean <- colMeans(X.tr)\n",
    "         X.tr.sd <- apply(X.tr,2,sd)\n",
    "        Y.tr.mean <- mean(Y.tr)\n",
    "        Y.tr.sd <- sd(Y.tr)\n",
    "\n",
    "        Y.tr <- cbind(Y.tr - Y.tr.mean)/Y.tr.sd \n",
    "        X.tr <- t(apply(sweep(X.tr,2,X.tr.mean,\"-\"), 1, function(x) x/X.tr.sd))\n",
    "\n",
    "        #scaling the testing test by the same scaling as of the training set\n",
    "        X.ts <- t(apply(sweep(X.ts,2,X.tr.mean,\"-\"), 1, function(x) x/X.tr.sd))\n",
    "        Y.ts <- cbind(Y.ts - Y.tr.mean)/Y.tr.sd \n",
    "\n",
    "        X.ts <-data.frame(X.ts)\n",
    "        X.tr <-data.frame(X.tr)                       \n",
    "\n",
    "         DS <- cbind(X.tr,SalePrice=Y.tr)\n",
    "        \n",
    "         model.neural <- nnet(SalePrice~.,DS, size = j, linout=T, maxit = 1000)\n",
    "\n",
    "         Y.hat.ts<- predict(model.neural,X.ts)\n",
    "\n",
    "         CV.err[i]<-mean((Y.hat.ts-Y.ts)^2)\n",
    "        }\n",
    "    mean.size[j-9] = round(mean(CV.err),digits=4)\n",
    "    print(paste(\"Number of neurones: \", j, \" CV error = \",mean.size[j-9], \" std dev = \",round(sd(CV.err),digits=4)))\n",
    "}"
   ]
  },
  {
   "cell_type": "markdown",
   "metadata": {},
   "source": [
    "Cross validations"
   ]
  },
  {
   "cell_type": "code",
   "execution_count": null,
   "metadata": {
    "collapsed": true
   },
   "outputs": [],
   "source": []
  },
  {
   "cell_type": "code",
   "execution_count": null,
   "metadata": {
    "collapsed": true
   },
   "outputs": [],
   "source": []
  },
  {
   "cell_type": "code",
   "execution_count": null,
   "metadata": {
    "collapsed": true
   },
   "outputs": [],
   "source": [
    "size.CV<-floor(N/10)\n",
    "\n",
    "CV.err<-numeric(10)\n",
    "\n",
    "for (i in 1:10) {\n",
    "    # 1/10 for testing\n",
    "     i.ts<-(((i-1)*size.CV+1):(i*size.CV))  ### i.ts = indices of the test set for the i-th fold\n",
    "     X.ts<-X[i.ts,]  \n",
    "     Y.ts<-Y[i.ts]    \n",
    "    \n",
    "    #9/10 for training\n",
    "     i.tr<-setdiff(1:N,i.ts)                ###i.tr = indices of the training set for the i-th fold\n",
    "     X.tr<-X[i.tr,]\n",
    "     Y.tr<-Y[i.tr]         \n",
    "     \n",
    "    #scaling\n",
    "     X.tr.mean <- colMeans(X.tr)\n",
    "     X.tr.sd <- apply(X.tr,2,sd)\n",
    "    Y.tr.mean <- mean(Y.tr)\n",
    "    Y.tr.sd <- sd(Y.tr)\n",
    "\n",
    "    Y.tr <- cbind(Y.tr - Y.tr.mean)/Y.tr.sd \n",
    "    X.tr <- t(apply(sweep(X.tr,2,X.tr.mean,\"-\"), 1, function(x) x/X.tr.sd))\n",
    "    \n",
    "    #scaling the testing test by the same scaling as of the training set\n",
    "    X.ts <- t(apply(sweep(X.ts,2,X.tr.mean,\"-\"), 1, function(x) x/X.tr.sd))\n",
    "    Y.ts <- cbind(Y.ts - Y.tr.mean)/Y.tr.sd \n",
    "    \n",
    "    X.ts <-data.frame(X.ts)\n",
    "    X.tr <-data.frame(X.tr)\n",
    "        \n",
    "\n",
    "    DS<-cbind(X.tr,SalePrice=Y.tr)\n",
    "    \n",
    "    model.linear<- lm(SalePrice~.,DS)      # create model with the training set\n",
    "        \n",
    "    Y.hat.ts<- predict(model.linear,X.ts)  # predict value for the test set\n",
    "        \n",
    "    CV.err[i]<-mean((Y.hat.ts-Y.ts)^2)  # MSE for test set\n",
    "}\n",
    "    \n",
    "print(paste(\"CV error=\",round(mean(CV.err),digits=4), \" ; std dev=\",round(sd(CV.err),digits=4)))"
   ]
  },
  {
   "cell_type": "markdown",
   "metadata": {},
   "source": [
    "## Ensemble techniques : Combination of models strategy\n",
    "> Methodology and main results\n",
    "\n",
    "> The text should mention the different models taken into consideration as well as the techniques used for the combination."
   ]
  },
  {
   "cell_type": "markdown",
   "metadata": {},
   "source": [
    "## Discussion and conclusion: \n",
    "> Summary of your work, and discussion of what worked well, not well, why, what insights you got from the analyses you made. "
   ]
  },
  {
   "cell_type": "code",
   "execution_count": null,
   "metadata": {
    "collapsed": true
   },
   "outputs": [],
   "source": []
  }
 ],
 "metadata": {
  "kernelspec": {
   "display_name": "R 3.3",
   "language": "R",
   "name": "ir33"
  },
  "language_info": {
   "codemirror_mode": "r",
   "file_extension": ".r",
   "mimetype": "text/x-r-source",
   "name": "R",
   "pygments_lexer": "r",
   "version": "3.3.2"
  }
 },
 "nbformat": 4,
 "nbformat_minor": 2
}
