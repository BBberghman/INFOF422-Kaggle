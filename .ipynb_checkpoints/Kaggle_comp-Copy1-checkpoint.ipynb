{
 "cells": [
  {
   "cell_type": "markdown",
   "metadata": {},
   "source": [
    "# Statistical foundations of Machine Learning\n",
    "\n",
    "## INFO-F-422 Project - \n",
    "\n",
    "Berghman, Erica\n",
    "\n",
    "May 19, 2017"
   ]
  },
  {
   "cell_type": "markdown",
   "metadata": {},
   "source": [
    "## Overview\n",
    "\n",
    "Ensembles of models and feature selection are two machine learning techniques which can be used to improve the accuracy of preditions. \n",
    "\n",
    "Ensembles of models consist in building several predictive models using resampled subsets of the original training set. The method works particularly well for predictive models with high variance (for example, decision trees or neural networks). The average prediction of the resulting models usually strongly decreases the variance component of the error, and as a consequence improves the prediction accuracy. \n",
    "\n",
    "Feature selection aims at reducing the dimensionality of the problem, and is useful when input variables contain redundant or irrelevant (noisy) information. Benefits are twofold: it decreases the training time by simplifying the problem, and it decreases the complexity of the predictive model. This in turn usually improves the prediction accuracy, since high-dimensionality makes predictive models more prone to overfitting, and estimates of parameters more variant. "
   ]
  },
  {
   "cell_type": "markdown",
   "metadata": {},
   "source": [
    "In this session, we will illustrate both techniques using the IMDB 5000 dataset, which contains 27 variables describing 5043 movies. The variables contain information about the director, actors, number of Facebook likes for each actor, duration, genre, language, country, etc... We will use them to predict the movie success (through the IMDB score). The dataset together with a description of the variables is at https://www.kaggle.com/deepmatrix/imdb-5000-movie-dataset.\n",
    "\n",
    "The dataset is on the github of the course, in datasets/movie_metadata.csv"
   ]
  },
  {
   "cell_type": "markdown",
   "metadata": {},
   "source": [
    "## Data overview and preprocessing"
   ]
  },
  {
   "cell_type": "markdown",
   "metadata": {},
   "source": [
    "Let us load and select a random subset of 1000 movies"
   ]
  },
  {
   "cell_type": "code",
   "execution_count": 86,
   "metadata": {
    "collapsed": false
   },
   "outputs": [],
   "source": [
    "data<-read.csv(\"input/train.csv\")\n",
    "set.seed(2)\n",
    "data<-data[sample(nrow(data),400),]"
   ]
  },
  {
   "cell_type": "markdown",
   "metadata": {},
   "source": [
    "### Dataset overview"
   ]
  },
  {
   "cell_type": "code",
   "execution_count": 87,
   "metadata": {
    "collapsed": false
   },
   "outputs": [
    {
     "data": {
      "text/html": [
       "<ol class=list-inline>\n",
       "\t<li>400</li>\n",
       "\t<li>81</li>\n",
       "</ol>\n"
      ],
      "text/latex": [
       "\\begin{enumerate*}\n",
       "\\item 400\n",
       "\\item 81\n",
       "\\end{enumerate*}\n"
      ],
      "text/markdown": [
       "1. 400\n",
       "2. 81\n",
       "\n",
       "\n"
      ],
      "text/plain": [
       "[1] 400  81"
      ]
     },
     "metadata": {},
     "output_type": "display_data"
    }
   ],
   "source": [
    "dim(data)\n"
   ]
  },
  {
   "cell_type": "code",
   "execution_count": 88,
   "metadata": {
    "collapsed": false
   },
   "outputs": [
    {
     "data": {
      "text/html": [
       "<table>\n",
       "<thead><tr><th></th><th scope=col>Id</th><th scope=col>MSSubClass</th><th scope=col>MSZoning</th><th scope=col>LotFrontage</th><th scope=col>LotArea</th><th scope=col>Street</th><th scope=col>Alley</th><th scope=col>LotShape</th><th scope=col>LandContour</th><th scope=col>Utilities</th><th scope=col>LotConfig</th><th scope=col>LandSlope</th><th scope=col>Neighborhood</th><th scope=col>Condition1</th><th scope=col>Condition2</th><th scope=col>BldgType</th><th scope=col>HouseStyle</th><th scope=col>OverallQual</th><th scope=col>OverallCond</th><th scope=col>YearBuilt</th><th scope=col>YearRemodAdd</th><th scope=col>RoofStyle</th><th scope=col>RoofMatl</th><th scope=col>Exterior1st</th><th scope=col>Exterior2nd</th><th scope=col>MasVnrType</th><th scope=col>MasVnrArea</th><th scope=col>ExterQual</th><th scope=col>ExterCond</th><th scope=col>Foundation</th><th scope=col>BsmtQual</th><th scope=col>BsmtCond</th><th scope=col>BsmtExposure</th><th scope=col>BsmtFinType1</th><th scope=col>BsmtFinSF1</th><th scope=col>BsmtFinType2</th><th scope=col>BsmtFinSF2</th><th scope=col>BsmtUnfSF</th><th scope=col>TotalBsmtSF</th><th scope=col>Heating</th><th scope=col>HeatingQC</th><th scope=col>CentralAir</th><th scope=col>Electrical</th><th scope=col>X1stFlrSF</th><th scope=col>X2ndFlrSF</th><th scope=col>LowQualFinSF</th><th scope=col>GrLivArea</th><th scope=col>BsmtFullBath</th><th scope=col>BsmtHalfBath</th><th scope=col>FullBath</th><th scope=col>HalfBath</th><th scope=col>BedroomAbvGr</th><th scope=col>KitchenAbvGr</th><th scope=col>KitchenQual</th><th scope=col>TotRmsAbvGrd</th><th scope=col>Functional</th><th scope=col>Fireplaces</th><th scope=col>FireplaceQu</th><th scope=col>GarageType</th><th scope=col>GarageYrBlt</th><th scope=col>GarageFinish</th><th scope=col>GarageCars</th><th scope=col>GarageArea</th><th scope=col>GarageQual</th><th scope=col>GarageCond</th><th scope=col>PavedDrive</th><th scope=col>WoodDeckSF</th><th scope=col>OpenPorchSF</th><th scope=col>EnclosedPorch</th><th scope=col>X3SsnPorch</th><th scope=col>ScreenPorch</th><th scope=col>PoolArea</th><th scope=col>PoolQC</th><th scope=col>Fence</th><th scope=col>MiscFeature</th><th scope=col>MiscVal</th><th scope=col>MoSold</th><th scope=col>YrSold</th><th scope=col>SaleType</th><th scope=col>SaleCondition</th><th scope=col>SalePrice</th></tr></thead>\n",
       "<tbody>\n",
       "\t<tr><th scope=row>270</th><td> 270   </td><td>20     </td><td>RL     </td><td>NA     </td><td> 7917  </td><td>Pave   </td><td>NA     </td><td>IR1    </td><td>Lvl    </td><td>AllPub </td><td>Corner </td><td>Gtl    </td><td>Edwards</td><td>Norm   </td><td>Norm   </td><td>1Fam   </td><td>1Story </td><td>6      </td><td>7      </td><td>1976   </td><td>1976   </td><td>Hip    </td><td>CompShg</td><td>HdBoard</td><td>HdBoard</td><td>BrkFace</td><td>174    </td><td>TA     </td><td>Gd     </td><td>CBlock </td><td>TA     </td><td>Gd     </td><td>No     </td><td>BLQ    </td><td> 751   </td><td>Unf    </td><td>  0    </td><td>392    </td><td>1143   </td><td>GasA   </td><td>TA     </td><td>Y      </td><td>SBrkr  </td><td>1113   </td><td>0      </td><td>0      </td><td>1113   </td><td>1      </td><td>0      </td><td>1      </td><td>1      </td><td>3      </td><td>1      </td><td>TA     </td><td> 6     </td><td>Typ    </td><td>1      </td><td>Fa     </td><td>Attchd </td><td>1987   </td><td>RFn    </td><td>1      </td><td>504    </td><td>TA     </td><td>Gd     </td><td>Y      </td><td>370    </td><td>30     </td><td>  0    </td><td>0      </td><td>0      </td><td>0      </td><td>NA     </td><td>GdPrv  </td><td>NA     </td><td>0      </td><td>5      </td><td>2007   </td><td>WD     </td><td>Normal </td><td>148000 </td></tr>\n",
       "\t<tr><th scope=row>1025</th><td>1025   </td><td>20     </td><td>RL     </td><td>NA     </td><td>15498  </td><td>Pave   </td><td>NA     </td><td>IR1    </td><td>Lvl    </td><td>AllPub </td><td>Corner </td><td>Gtl    </td><td>Timber </td><td>Norm   </td><td>Norm   </td><td>1Fam   </td><td>1Story </td><td>8      </td><td>6      </td><td>1976   </td><td>1976   </td><td>Hip    </td><td>WdShake</td><td>Stone  </td><td>HdBoard</td><td>None   </td><td>  0    </td><td>Gd     </td><td>TA     </td><td>CBlock </td><td>Gd     </td><td>TA     </td><td>Av     </td><td>ALQ    </td><td>1165   </td><td>LwQ    </td><td>400    </td><td>  0    </td><td>1565   </td><td>GasA   </td><td>TA     </td><td>Y      </td><td>SBrkr  </td><td>2898   </td><td>0      </td><td>0      </td><td>2898   </td><td>1      </td><td>0      </td><td>2      </td><td>0      </td><td>2      </td><td>1      </td><td>Gd     </td><td>10     </td><td>Typ    </td><td>1      </td><td>Gd     </td><td>Attchd </td><td>1976   </td><td>Fin    </td><td>2      </td><td>665    </td><td>TA     </td><td>TA     </td><td>Y      </td><td>  0    </td><td>72     </td><td>174    </td><td>0      </td><td>0      </td><td>0      </td><td>NA     </td><td>NA     </td><td>NA     </td><td>0      </td><td>5      </td><td>2008   </td><td>COD    </td><td>Abnorml</td><td>287000 </td></tr>\n",
       "</tbody>\n",
       "</table>\n"
      ],
      "text/latex": [
       "\\begin{tabular}{r|lllllllllllllllllllllllllllllllllllllllllllllllllllllllllllllllllllllllllllllllll}\n",
       "  & Id & MSSubClass & MSZoning & LotFrontage & LotArea & Street & Alley & LotShape & LandContour & Utilities & LotConfig & LandSlope & Neighborhood & Condition1 & Condition2 & BldgType & HouseStyle & OverallQual & OverallCond & YearBuilt & YearRemodAdd & RoofStyle & RoofMatl & Exterior1st & Exterior2nd & MasVnrType & MasVnrArea & ExterQual & ExterCond & Foundation & BsmtQual & BsmtCond & BsmtExposure & BsmtFinType1 & BsmtFinSF1 & BsmtFinType2 & BsmtFinSF2 & BsmtUnfSF & TotalBsmtSF & Heating & HeatingQC & CentralAir & Electrical & X1stFlrSF & X2ndFlrSF & LowQualFinSF & GrLivArea & BsmtFullBath & BsmtHalfBath & FullBath & HalfBath & BedroomAbvGr & KitchenAbvGr & KitchenQual & TotRmsAbvGrd & Functional & Fireplaces & FireplaceQu & GarageType & GarageYrBlt & GarageFinish & GarageCars & GarageArea & GarageQual & GarageCond & PavedDrive & WoodDeckSF & OpenPorchSF & EnclosedPorch & X3SsnPorch & ScreenPorch & PoolArea & PoolQC & Fence & MiscFeature & MiscVal & MoSold & YrSold & SaleType & SaleCondition & SalePrice\\\\\n",
       "\\hline\n",
       "\t270 &  270    & 20      & RL      & NA      &  7917   & Pave    & NA      & IR1     & Lvl     & AllPub  & Corner  & Gtl     & Edwards & Norm    & Norm    & 1Fam    & 1Story  & 6       & 7       & 1976    & 1976    & Hip     & CompShg & HdBoard & HdBoard & BrkFace & 174     & TA      & Gd      & CBlock  & TA      & Gd      & No      & BLQ     &  751    & Unf     &   0     & 392     & 1143    & GasA    & TA      & Y       & SBrkr   & 1113    & 0       & 0       & 1113    & 1       & 0       & 1       & 1       & 3       & 1       & TA      &  6      & Typ     & 1       & Fa      & Attchd  & 1987    & RFn     & 1       & 504     & TA      & Gd      & Y       & 370     & 30      &   0     & 0       & 0       & 0       & NA      & GdPrv   & NA      & 0       & 5       & 2007    & WD      & Normal  & 148000 \\\\\n",
       "\t1025 & 1025    & 20      & RL      & NA      & 15498   & Pave    & NA      & IR1     & Lvl     & AllPub  & Corner  & Gtl     & Timber  & Norm    & Norm    & 1Fam    & 1Story  & 8       & 6       & 1976    & 1976    & Hip     & WdShake & Stone   & HdBoard & None    &   0     & Gd      & TA      & CBlock  & Gd      & TA      & Av      & ALQ     & 1165    & LwQ     & 400     &   0     & 1565    & GasA    & TA      & Y       & SBrkr   & 2898    & 0       & 0       & 2898    & 1       & 0       & 2       & 0       & 2       & 1       & Gd      & 10      & Typ     & 1       & Gd      & Attchd  & 1976    & Fin     & 2       & 665     & TA      & TA      & Y       &   0     & 72      & 174     & 0       & 0       & 0       & NA      & NA      & NA      & 0       & 5       & 2008    & COD     & Abnorml & 287000 \\\\\n",
       "\\end{tabular}\n"
      ],
      "text/markdown": [
       "\n",
       "| <!--/--> | Id | MSSubClass | MSZoning | LotFrontage | LotArea | Street | Alley | LotShape | LandContour | Utilities | LotConfig | LandSlope | Neighborhood | Condition1 | Condition2 | BldgType | HouseStyle | OverallQual | OverallCond | YearBuilt | YearRemodAdd | RoofStyle | RoofMatl | Exterior1st | Exterior2nd | MasVnrType | MasVnrArea | ExterQual | ExterCond | Foundation | BsmtQual | BsmtCond | BsmtExposure | BsmtFinType1 | BsmtFinSF1 | BsmtFinType2 | BsmtFinSF2 | BsmtUnfSF | TotalBsmtSF | Heating | HeatingQC | CentralAir | Electrical | X1stFlrSF | X2ndFlrSF | LowQualFinSF | GrLivArea | BsmtFullBath | BsmtHalfBath | FullBath | HalfBath | BedroomAbvGr | KitchenAbvGr | KitchenQual | TotRmsAbvGrd | Functional | Fireplaces | FireplaceQu | GarageType | GarageYrBlt | GarageFinish | GarageCars | GarageArea | GarageQual | GarageCond | PavedDrive | WoodDeckSF | OpenPorchSF | EnclosedPorch | X3SsnPorch | ScreenPorch | PoolArea | PoolQC | Fence | MiscFeature | MiscVal | MoSold | YrSold | SaleType | SaleCondition | SalePrice | \n",
       "|---|---|\n",
       "| 270 |  270    | 20      | RL      | NA      |  7917   | Pave    | NA      | IR1     | Lvl     | AllPub  | Corner  | Gtl     | Edwards | Norm    | Norm    | 1Fam    | 1Story  | 6       | 7       | 1976    | 1976    | Hip     | CompShg | HdBoard | HdBoard | BrkFace | 174     | TA      | Gd      | CBlock  | TA      | Gd      | No      | BLQ     |  751    | Unf     |   0     | 392     | 1143    | GasA    | TA      | Y       | SBrkr   | 1113    | 0       | 0       | 1113    | 1       | 0       | 1       | 1       | 3       | 1       | TA      |  6      | Typ     | 1       | Fa      | Attchd  | 1987    | RFn     | 1       | 504     | TA      | Gd      | Y       | 370     | 30      |   0     | 0       | 0       | 0       | NA      | GdPrv   | NA      | 0       | 5       | 2007    | WD      | Normal  | 148000  | \n",
       "| 1025 | 1025    | 20      | RL      | NA      | 15498   | Pave    | NA      | IR1     | Lvl     | AllPub  | Corner  | Gtl     | Timber  | Norm    | Norm    | 1Fam    | 1Story  | 8       | 6       | 1976    | 1976    | Hip     | WdShake | Stone   | HdBoard | None    |   0     | Gd      | TA      | CBlock  | Gd      | TA      | Av      | ALQ     | 1165    | LwQ     | 400     |   0     | 1565    | GasA    | TA      | Y       | SBrkr   | 2898    | 0       | 0       | 2898    | 1       | 0       | 2       | 0       | 2       | 1       | Gd      | 10      | Typ     | 1       | Gd      | Attchd  | 1976    | Fin     | 2       | 665     | TA      | TA      | Y       |   0     | 72      | 174     | 0       | 0       | 0       | NA      | NA      | NA      | 0       | 5       | 2008    | COD     | Abnorml | 287000  | \n",
       "\n",
       "\n"
      ],
      "text/plain": [
       "     Id   MSSubClass MSZoning LotFrontage LotArea Street Alley LotShape\n",
       "270   270 20         RL       NA           7917   Pave   NA    IR1     \n",
       "1025 1025 20         RL       NA          15498   Pave   NA    IR1     \n",
       "     LandContour Utilities LotConfig LandSlope Neighborhood Condition1\n",
       "270  Lvl         AllPub    Corner    Gtl       Edwards      Norm      \n",
       "1025 Lvl         AllPub    Corner    Gtl       Timber       Norm      \n",
       "     Condition2 BldgType HouseStyle OverallQual OverallCond YearBuilt\n",
       "270  Norm       1Fam     1Story     6           7           1976     \n",
       "1025 Norm       1Fam     1Story     8           6           1976     \n",
       "     YearRemodAdd RoofStyle RoofMatl Exterior1st Exterior2nd MasVnrType\n",
       "270  1976         Hip       CompShg  HdBoard     HdBoard     BrkFace   \n",
       "1025 1976         Hip       WdShake  Stone       HdBoard     None      \n",
       "     MasVnrArea ExterQual ExterCond Foundation BsmtQual BsmtCond BsmtExposure\n",
       "270  174        TA        Gd        CBlock     TA       Gd       No          \n",
       "1025   0        Gd        TA        CBlock     Gd       TA       Av          \n",
       "     BsmtFinType1 BsmtFinSF1 BsmtFinType2 BsmtFinSF2 BsmtUnfSF TotalBsmtSF\n",
       "270  BLQ           751       Unf            0        392       1143       \n",
       "1025 ALQ          1165       LwQ          400          0       1565       \n",
       "     Heating HeatingQC CentralAir Electrical X1stFlrSF X2ndFlrSF LowQualFinSF\n",
       "270  GasA    TA        Y          SBrkr      1113      0         0           \n",
       "1025 GasA    TA        Y          SBrkr      2898      0         0           \n",
       "     GrLivArea BsmtFullBath BsmtHalfBath FullBath HalfBath BedroomAbvGr\n",
       "270  1113      1            0            1        1        3           \n",
       "1025 2898      1            0            2        0        2           \n",
       "     KitchenAbvGr KitchenQual TotRmsAbvGrd Functional Fireplaces FireplaceQu\n",
       "270  1            TA           6           Typ        1          Fa         \n",
       "1025 1            Gd          10           Typ        1          Gd         \n",
       "     GarageType GarageYrBlt GarageFinish GarageCars GarageArea GarageQual\n",
       "270  Attchd     1987        RFn          1          504        TA        \n",
       "1025 Attchd     1976        Fin          2          665        TA        \n",
       "     GarageCond PavedDrive WoodDeckSF OpenPorchSF EnclosedPorch X3SsnPorch\n",
       "270  Gd         Y          370        30            0           0         \n",
       "1025 TA         Y            0        72          174           0         \n",
       "     ScreenPorch PoolArea PoolQC Fence MiscFeature MiscVal MoSold YrSold\n",
       "270  0           0        NA     GdPrv NA          0       5      2007  \n",
       "1025 0           0        NA     NA    NA          0       5      2008  \n",
       "     SaleType SaleCondition SalePrice\n",
       "270  WD       Normal        148000   \n",
       "1025 COD      Abnorml       287000   "
      ]
     },
     "metadata": {},
     "output_type": "display_data"
    }
   ],
   "source": [
    "options(repr.matrix.max.cols=100)\n",
    "data[1:2,]"
   ]
  },
  {
   "cell_type": "code",
   "execution_count": 89,
   "metadata": {
    "collapsed": false
   },
   "outputs": [],
   "source": [
    "#summary(data)"
   ]
  },
  {
   "cell_type": "markdown",
   "metadata": {},
   "source": [
    "We see there is a mix of categorical and numerical variables, and some missing values. In order to simplify the analysis, let us remove the categorical variables, and replace the NA values with the mean values of the variables."
   ]
  },
  {
   "cell_type": "markdown",
   "metadata": {},
   "source": [
    "### Remove categorical variables"
   ]
  },
  {
   "cell_type": "markdown",
   "metadata": {},
   "source": [
    "Check the type of input variables"
   ]
  },
  {
   "cell_type": "code",
   "execution_count": 90,
   "metadata": {
    "collapsed": false
   },
   "outputs": [
    {
     "data": {
      "text/html": [
       "<dl class=dl-horizontal>\n",
       "\t<dt>Id</dt>\n",
       "\t\t<dd>'integer'</dd>\n",
       "\t<dt>MSSubClass</dt>\n",
       "\t\t<dd>'integer'</dd>\n",
       "\t<dt>MSZoning</dt>\n",
       "\t\t<dd>'factor'</dd>\n",
       "\t<dt>LotFrontage</dt>\n",
       "\t\t<dd>'integer'</dd>\n",
       "\t<dt>LotArea</dt>\n",
       "\t\t<dd>'integer'</dd>\n",
       "\t<dt>Street</dt>\n",
       "\t\t<dd>'factor'</dd>\n",
       "\t<dt>Alley</dt>\n",
       "\t\t<dd>'factor'</dd>\n",
       "\t<dt>LotShape</dt>\n",
       "\t\t<dd>'factor'</dd>\n",
       "\t<dt>LandContour</dt>\n",
       "\t\t<dd>'factor'</dd>\n",
       "\t<dt>Utilities</dt>\n",
       "\t\t<dd>'factor'</dd>\n",
       "\t<dt>LotConfig</dt>\n",
       "\t\t<dd>'factor'</dd>\n",
       "\t<dt>LandSlope</dt>\n",
       "\t\t<dd>'factor'</dd>\n",
       "\t<dt>Neighborhood</dt>\n",
       "\t\t<dd>'factor'</dd>\n",
       "\t<dt>Condition1</dt>\n",
       "\t\t<dd>'factor'</dd>\n",
       "\t<dt>Condition2</dt>\n",
       "\t\t<dd>'factor'</dd>\n",
       "\t<dt>BldgType</dt>\n",
       "\t\t<dd>'factor'</dd>\n",
       "\t<dt>HouseStyle</dt>\n",
       "\t\t<dd>'factor'</dd>\n",
       "\t<dt>OverallQual</dt>\n",
       "\t\t<dd>'integer'</dd>\n",
       "\t<dt>OverallCond</dt>\n",
       "\t\t<dd>'integer'</dd>\n",
       "\t<dt>YearBuilt</dt>\n",
       "\t\t<dd>'integer'</dd>\n",
       "\t<dt>YearRemodAdd</dt>\n",
       "\t\t<dd>'integer'</dd>\n",
       "\t<dt>RoofStyle</dt>\n",
       "\t\t<dd>'factor'</dd>\n",
       "\t<dt>RoofMatl</dt>\n",
       "\t\t<dd>'factor'</dd>\n",
       "\t<dt>Exterior1st</dt>\n",
       "\t\t<dd>'factor'</dd>\n",
       "\t<dt>Exterior2nd</dt>\n",
       "\t\t<dd>'factor'</dd>\n",
       "\t<dt>MasVnrType</dt>\n",
       "\t\t<dd>'factor'</dd>\n",
       "\t<dt>MasVnrArea</dt>\n",
       "\t\t<dd>'integer'</dd>\n",
       "\t<dt>ExterQual</dt>\n",
       "\t\t<dd>'factor'</dd>\n",
       "\t<dt>ExterCond</dt>\n",
       "\t\t<dd>'factor'</dd>\n",
       "\t<dt>Foundation</dt>\n",
       "\t\t<dd>'factor'</dd>\n",
       "\t<dt>BsmtQual</dt>\n",
       "\t\t<dd>'factor'</dd>\n",
       "\t<dt>BsmtCond</dt>\n",
       "\t\t<dd>'factor'</dd>\n",
       "\t<dt>BsmtExposure</dt>\n",
       "\t\t<dd>'factor'</dd>\n",
       "\t<dt>BsmtFinType1</dt>\n",
       "\t\t<dd>'factor'</dd>\n",
       "\t<dt>BsmtFinSF1</dt>\n",
       "\t\t<dd>'integer'</dd>\n",
       "\t<dt>BsmtFinType2</dt>\n",
       "\t\t<dd>'factor'</dd>\n",
       "\t<dt>BsmtFinSF2</dt>\n",
       "\t\t<dd>'integer'</dd>\n",
       "\t<dt>BsmtUnfSF</dt>\n",
       "\t\t<dd>'integer'</dd>\n",
       "\t<dt>TotalBsmtSF</dt>\n",
       "\t\t<dd>'integer'</dd>\n",
       "\t<dt>Heating</dt>\n",
       "\t\t<dd>'factor'</dd>\n",
       "\t<dt>HeatingQC</dt>\n",
       "\t\t<dd>'factor'</dd>\n",
       "\t<dt>CentralAir</dt>\n",
       "\t\t<dd>'factor'</dd>\n",
       "\t<dt>Electrical</dt>\n",
       "\t\t<dd>'factor'</dd>\n",
       "\t<dt>X1stFlrSF</dt>\n",
       "\t\t<dd>'integer'</dd>\n",
       "\t<dt>X2ndFlrSF</dt>\n",
       "\t\t<dd>'integer'</dd>\n",
       "\t<dt>LowQualFinSF</dt>\n",
       "\t\t<dd>'integer'</dd>\n",
       "\t<dt>GrLivArea</dt>\n",
       "\t\t<dd>'integer'</dd>\n",
       "\t<dt>BsmtFullBath</dt>\n",
       "\t\t<dd>'integer'</dd>\n",
       "\t<dt>BsmtHalfBath</dt>\n",
       "\t\t<dd>'integer'</dd>\n",
       "\t<dt>FullBath</dt>\n",
       "\t\t<dd>'integer'</dd>\n",
       "\t<dt>HalfBath</dt>\n",
       "\t\t<dd>'integer'</dd>\n",
       "\t<dt>BedroomAbvGr</dt>\n",
       "\t\t<dd>'integer'</dd>\n",
       "\t<dt>KitchenAbvGr</dt>\n",
       "\t\t<dd>'integer'</dd>\n",
       "\t<dt>KitchenQual</dt>\n",
       "\t\t<dd>'factor'</dd>\n",
       "\t<dt>TotRmsAbvGrd</dt>\n",
       "\t\t<dd>'integer'</dd>\n",
       "\t<dt>Functional</dt>\n",
       "\t\t<dd>'factor'</dd>\n",
       "\t<dt>Fireplaces</dt>\n",
       "\t\t<dd>'integer'</dd>\n",
       "\t<dt>FireplaceQu</dt>\n",
       "\t\t<dd>'factor'</dd>\n",
       "\t<dt>GarageType</dt>\n",
       "\t\t<dd>'factor'</dd>\n",
       "\t<dt>GarageYrBlt</dt>\n",
       "\t\t<dd>'integer'</dd>\n",
       "\t<dt>GarageFinish</dt>\n",
       "\t\t<dd>'factor'</dd>\n",
       "\t<dt>GarageCars</dt>\n",
       "\t\t<dd>'integer'</dd>\n",
       "\t<dt>GarageArea</dt>\n",
       "\t\t<dd>'integer'</dd>\n",
       "\t<dt>GarageQual</dt>\n",
       "\t\t<dd>'factor'</dd>\n",
       "\t<dt>GarageCond</dt>\n",
       "\t\t<dd>'factor'</dd>\n",
       "\t<dt>PavedDrive</dt>\n",
       "\t\t<dd>'factor'</dd>\n",
       "\t<dt>WoodDeckSF</dt>\n",
       "\t\t<dd>'integer'</dd>\n",
       "\t<dt>OpenPorchSF</dt>\n",
       "\t\t<dd>'integer'</dd>\n",
       "\t<dt>EnclosedPorch</dt>\n",
       "\t\t<dd>'integer'</dd>\n",
       "\t<dt>X3SsnPorch</dt>\n",
       "\t\t<dd>'integer'</dd>\n",
       "\t<dt>ScreenPorch</dt>\n",
       "\t\t<dd>'integer'</dd>\n",
       "\t<dt>PoolArea</dt>\n",
       "\t\t<dd>'integer'</dd>\n",
       "\t<dt>PoolQC</dt>\n",
       "\t\t<dd>'factor'</dd>\n",
       "\t<dt>Fence</dt>\n",
       "\t\t<dd>'factor'</dd>\n",
       "\t<dt>MiscFeature</dt>\n",
       "\t\t<dd>'factor'</dd>\n",
       "\t<dt>MiscVal</dt>\n",
       "\t\t<dd>'integer'</dd>\n",
       "\t<dt>MoSold</dt>\n",
       "\t\t<dd>'integer'</dd>\n",
       "\t<dt>YrSold</dt>\n",
       "\t\t<dd>'integer'</dd>\n",
       "\t<dt>SaleType</dt>\n",
       "\t\t<dd>'factor'</dd>\n",
       "\t<dt>SaleCondition</dt>\n",
       "\t\t<dd>'factor'</dd>\n",
       "\t<dt>SalePrice</dt>\n",
       "\t\t<dd>'integer'</dd>\n",
       "</dl>\n"
      ],
      "text/latex": [
       "\\begin{description*}\n",
       "\\item[Id] 'integer'\n",
       "\\item[MSSubClass] 'integer'\n",
       "\\item[MSZoning] 'factor'\n",
       "\\item[LotFrontage] 'integer'\n",
       "\\item[LotArea] 'integer'\n",
       "\\item[Street] 'factor'\n",
       "\\item[Alley] 'factor'\n",
       "\\item[LotShape] 'factor'\n",
       "\\item[LandContour] 'factor'\n",
       "\\item[Utilities] 'factor'\n",
       "\\item[LotConfig] 'factor'\n",
       "\\item[LandSlope] 'factor'\n",
       "\\item[Neighborhood] 'factor'\n",
       "\\item[Condition1] 'factor'\n",
       "\\item[Condition2] 'factor'\n",
       "\\item[BldgType] 'factor'\n",
       "\\item[HouseStyle] 'factor'\n",
       "\\item[OverallQual] 'integer'\n",
       "\\item[OverallCond] 'integer'\n",
       "\\item[YearBuilt] 'integer'\n",
       "\\item[YearRemodAdd] 'integer'\n",
       "\\item[RoofStyle] 'factor'\n",
       "\\item[RoofMatl] 'factor'\n",
       "\\item[Exterior1st] 'factor'\n",
       "\\item[Exterior2nd] 'factor'\n",
       "\\item[MasVnrType] 'factor'\n",
       "\\item[MasVnrArea] 'integer'\n",
       "\\item[ExterQual] 'factor'\n",
       "\\item[ExterCond] 'factor'\n",
       "\\item[Foundation] 'factor'\n",
       "\\item[BsmtQual] 'factor'\n",
       "\\item[BsmtCond] 'factor'\n",
       "\\item[BsmtExposure] 'factor'\n",
       "\\item[BsmtFinType1] 'factor'\n",
       "\\item[BsmtFinSF1] 'integer'\n",
       "\\item[BsmtFinType2] 'factor'\n",
       "\\item[BsmtFinSF2] 'integer'\n",
       "\\item[BsmtUnfSF] 'integer'\n",
       "\\item[TotalBsmtSF] 'integer'\n",
       "\\item[Heating] 'factor'\n",
       "\\item[HeatingQC] 'factor'\n",
       "\\item[CentralAir] 'factor'\n",
       "\\item[Electrical] 'factor'\n",
       "\\item[X1stFlrSF] 'integer'\n",
       "\\item[X2ndFlrSF] 'integer'\n",
       "\\item[LowQualFinSF] 'integer'\n",
       "\\item[GrLivArea] 'integer'\n",
       "\\item[BsmtFullBath] 'integer'\n",
       "\\item[BsmtHalfBath] 'integer'\n",
       "\\item[FullBath] 'integer'\n",
       "\\item[HalfBath] 'integer'\n",
       "\\item[BedroomAbvGr] 'integer'\n",
       "\\item[KitchenAbvGr] 'integer'\n",
       "\\item[KitchenQual] 'factor'\n",
       "\\item[TotRmsAbvGrd] 'integer'\n",
       "\\item[Functional] 'factor'\n",
       "\\item[Fireplaces] 'integer'\n",
       "\\item[FireplaceQu] 'factor'\n",
       "\\item[GarageType] 'factor'\n",
       "\\item[GarageYrBlt] 'integer'\n",
       "\\item[GarageFinish] 'factor'\n",
       "\\item[GarageCars] 'integer'\n",
       "\\item[GarageArea] 'integer'\n",
       "\\item[GarageQual] 'factor'\n",
       "\\item[GarageCond] 'factor'\n",
       "\\item[PavedDrive] 'factor'\n",
       "\\item[WoodDeckSF] 'integer'\n",
       "\\item[OpenPorchSF] 'integer'\n",
       "\\item[EnclosedPorch] 'integer'\n",
       "\\item[X3SsnPorch] 'integer'\n",
       "\\item[ScreenPorch] 'integer'\n",
       "\\item[PoolArea] 'integer'\n",
       "\\item[PoolQC] 'factor'\n",
       "\\item[Fence] 'factor'\n",
       "\\item[MiscFeature] 'factor'\n",
       "\\item[MiscVal] 'integer'\n",
       "\\item[MoSold] 'integer'\n",
       "\\item[YrSold] 'integer'\n",
       "\\item[SaleType] 'factor'\n",
       "\\item[SaleCondition] 'factor'\n",
       "\\item[SalePrice] 'integer'\n",
       "\\end{description*}\n"
      ],
      "text/markdown": [
       "Id\n",
       ":   'integer'MSSubClass\n",
       ":   'integer'MSZoning\n",
       ":   'factor'LotFrontage\n",
       ":   'integer'LotArea\n",
       ":   'integer'Street\n",
       ":   'factor'Alley\n",
       ":   'factor'LotShape\n",
       ":   'factor'LandContour\n",
       ":   'factor'Utilities\n",
       ":   'factor'LotConfig\n",
       ":   'factor'LandSlope\n",
       ":   'factor'Neighborhood\n",
       ":   'factor'Condition1\n",
       ":   'factor'Condition2\n",
       ":   'factor'BldgType\n",
       ":   'factor'HouseStyle\n",
       ":   'factor'OverallQual\n",
       ":   'integer'OverallCond\n",
       ":   'integer'YearBuilt\n",
       ":   'integer'YearRemodAdd\n",
       ":   'integer'RoofStyle\n",
       ":   'factor'RoofMatl\n",
       ":   'factor'Exterior1st\n",
       ":   'factor'Exterior2nd\n",
       ":   'factor'MasVnrType\n",
       ":   'factor'MasVnrArea\n",
       ":   'integer'ExterQual\n",
       ":   'factor'ExterCond\n",
       ":   'factor'Foundation\n",
       ":   'factor'BsmtQual\n",
       ":   'factor'BsmtCond\n",
       ":   'factor'BsmtExposure\n",
       ":   'factor'BsmtFinType1\n",
       ":   'factor'BsmtFinSF1\n",
       ":   'integer'BsmtFinType2\n",
       ":   'factor'BsmtFinSF2\n",
       ":   'integer'BsmtUnfSF\n",
       ":   'integer'TotalBsmtSF\n",
       ":   'integer'Heating\n",
       ":   'factor'HeatingQC\n",
       ":   'factor'CentralAir\n",
       ":   'factor'Electrical\n",
       ":   'factor'X1stFlrSF\n",
       ":   'integer'X2ndFlrSF\n",
       ":   'integer'LowQualFinSF\n",
       ":   'integer'GrLivArea\n",
       ":   'integer'BsmtFullBath\n",
       ":   'integer'BsmtHalfBath\n",
       ":   'integer'FullBath\n",
       ":   'integer'HalfBath\n",
       ":   'integer'BedroomAbvGr\n",
       ":   'integer'KitchenAbvGr\n",
       ":   'integer'KitchenQual\n",
       ":   'factor'TotRmsAbvGrd\n",
       ":   'integer'Functional\n",
       ":   'factor'Fireplaces\n",
       ":   'integer'FireplaceQu\n",
       ":   'factor'GarageType\n",
       ":   'factor'GarageYrBlt\n",
       ":   'integer'GarageFinish\n",
       ":   'factor'GarageCars\n",
       ":   'integer'GarageArea\n",
       ":   'integer'GarageQual\n",
       ":   'factor'GarageCond\n",
       ":   'factor'PavedDrive\n",
       ":   'factor'WoodDeckSF\n",
       ":   'integer'OpenPorchSF\n",
       ":   'integer'EnclosedPorch\n",
       ":   'integer'X3SsnPorch\n",
       ":   'integer'ScreenPorch\n",
       ":   'integer'PoolArea\n",
       ":   'integer'PoolQC\n",
       ":   'factor'Fence\n",
       ":   'factor'MiscFeature\n",
       ":   'factor'MiscVal\n",
       ":   'integer'MoSold\n",
       ":   'integer'YrSold\n",
       ":   'integer'SaleType\n",
       ":   'factor'SaleCondition\n",
       ":   'factor'SalePrice\n",
       ":   'integer'\n",
       "\n"
      ],
      "text/plain": [
       "           Id    MSSubClass      MSZoning   LotFrontage       LotArea \n",
       "    \"integer\"     \"integer\"      \"factor\"     \"integer\"     \"integer\" \n",
       "       Street         Alley      LotShape   LandContour     Utilities \n",
       "     \"factor\"      \"factor\"      \"factor\"      \"factor\"      \"factor\" \n",
       "    LotConfig     LandSlope  Neighborhood    Condition1    Condition2 \n",
       "     \"factor\"      \"factor\"      \"factor\"      \"factor\"      \"factor\" \n",
       "     BldgType    HouseStyle   OverallQual   OverallCond     YearBuilt \n",
       "     \"factor\"      \"factor\"     \"integer\"     \"integer\"     \"integer\" \n",
       " YearRemodAdd     RoofStyle      RoofMatl   Exterior1st   Exterior2nd \n",
       "    \"integer\"      \"factor\"      \"factor\"      \"factor\"      \"factor\" \n",
       "   MasVnrType    MasVnrArea     ExterQual     ExterCond    Foundation \n",
       "     \"factor\"     \"integer\"      \"factor\"      \"factor\"      \"factor\" \n",
       "     BsmtQual      BsmtCond  BsmtExposure  BsmtFinType1    BsmtFinSF1 \n",
       "     \"factor\"      \"factor\"      \"factor\"      \"factor\"     \"integer\" \n",
       " BsmtFinType2    BsmtFinSF2     BsmtUnfSF   TotalBsmtSF       Heating \n",
       "     \"factor\"     \"integer\"     \"integer\"     \"integer\"      \"factor\" \n",
       "    HeatingQC    CentralAir    Electrical     X1stFlrSF     X2ndFlrSF \n",
       "     \"factor\"      \"factor\"      \"factor\"     \"integer\"     \"integer\" \n",
       " LowQualFinSF     GrLivArea  BsmtFullBath  BsmtHalfBath      FullBath \n",
       "    \"integer\"     \"integer\"     \"integer\"     \"integer\"     \"integer\" \n",
       "     HalfBath  BedroomAbvGr  KitchenAbvGr   KitchenQual  TotRmsAbvGrd \n",
       "    \"integer\"     \"integer\"     \"integer\"      \"factor\"     \"integer\" \n",
       "   Functional    Fireplaces   FireplaceQu    GarageType   GarageYrBlt \n",
       "     \"factor\"     \"integer\"      \"factor\"      \"factor\"     \"integer\" \n",
       " GarageFinish    GarageCars    GarageArea    GarageQual    GarageCond \n",
       "     \"factor\"     \"integer\"     \"integer\"      \"factor\"      \"factor\" \n",
       "   PavedDrive    WoodDeckSF   OpenPorchSF EnclosedPorch    X3SsnPorch \n",
       "     \"factor\"     \"integer\"     \"integer\"     \"integer\"     \"integer\" \n",
       "  ScreenPorch      PoolArea        PoolQC         Fence   MiscFeature \n",
       "    \"integer\"     \"integer\"      \"factor\"      \"factor\"      \"factor\" \n",
       "      MiscVal        MoSold        YrSold      SaleType SaleCondition \n",
       "    \"integer\"     \"integer\"     \"integer\"      \"factor\"      \"factor\" \n",
       "    SalePrice \n",
       "    \"integer\" "
      ]
     },
     "metadata": {},
     "output_type": "display_data"
    }
   ],
   "source": [
    "#sapply(data[1,],class)"
   ]
  },
  {
   "cell_type": "markdown",
   "metadata": {},
   "source": [
    "Get indices of categorical (factor) variables"
   ]
  },
  {
   "cell_type": "code",
   "execution_count": 91,
   "metadata": {
    "collapsed": false
   },
   "outputs": [],
   "source": [
    "factor_variables<-which(sapply(data[1,],class)==\"factor\")\n",
    "#factor_variables"
   ]
  },
  {
   "cell_type": "markdown",
   "metadata": {},
   "source": [
    "Remove categorical variables"
   ]
  },
  {
   "cell_type": "code",
   "execution_count": 92,
   "metadata": {
    "collapsed": false
   },
   "outputs": [],
   "source": [
    "data_nofactor<-data[,-factor_variables]"
   ]
  },
  {
   "cell_type": "code",
   "execution_count": 93,
   "metadata": {
    "collapsed": false
   },
   "outputs": [],
   "source": [
    "data_preprocessed<-data_nofactor[,-1]  #delete the index column\n",
    "#summary(data_preprocessed)"
   ]
  },
  {
   "cell_type": "markdown",
   "metadata": {},
   "source": [
    "### Replace NA values with mean values"
   ]
  },
  {
   "cell_type": "code",
   "execution_count": 94,
   "metadata": {
    "collapsed": true
   },
   "outputs": [],
   "source": [
    "replace_na_with_mean_value<-function(vec) {\n",
    "    mean_vec<-mean(vec,na.rm=T)\n",
    "    vec[is.na(vec)]<-mean_vec\n",
    "    vec\n",
    "}"
   ]
  },
  {
   "cell_type": "code",
   "execution_count": 95,
   "metadata": {
    "collapsed": false
   },
   "outputs": [],
   "source": [
    "data_preprocessed<-data.frame(apply(data_preprocessed,2,replace_na_with_mean_value))\n",
    "#summary(data_preprocessed)"
   ]
  },
  {
   "cell_type": "markdown",
   "metadata": {},
   "source": [
    "### Delete combili in the data"
   ]
  },
  {
   "cell_type": "code",
   "execution_count": 96,
   "metadata": {
    "collapsed": false
   },
   "outputs": [
    {
     "data": {
      "text/html": [
       "<dl>\n",
       "\t<dt>$linearCombos</dt>\n",
       "\t\t<dd><ol>\n",
       "\t<li><ol class=list-inline>\n",
       "\t<li>12</li>\n",
       "\t<li>9</li>\n",
       "\t<li>10</li>\n",
       "\t<li>11</li>\n",
       "</ol>\n",
       "</li>\n",
       "\t<li><ol class=list-inline>\n",
       "\t<li>16</li>\n",
       "\t<li>13</li>\n",
       "\t<li>14</li>\n",
       "\t<li>15</li>\n",
       "</ol>\n",
       "</li>\n",
       "</ol>\n",
       "</dd>\n",
       "\t<dt>$remove</dt>\n",
       "\t\t<dd><ol class=list-inline>\n",
       "\t<li>12</li>\n",
       "\t<li>16</li>\n",
       "</ol>\n",
       "</dd>\n",
       "</dl>\n"
      ],
      "text/latex": [
       "\\begin{description}\n",
       "\\item[\\$linearCombos] \\begin{enumerate}\n",
       "\\item \\begin{enumerate*}\n",
       "\\item 12\n",
       "\\item 9\n",
       "\\item 10\n",
       "\\item 11\n",
       "\\end{enumerate*}\n",
       "\n",
       "\\item \\begin{enumerate*}\n",
       "\\item 16\n",
       "\\item 13\n",
       "\\item 14\n",
       "\\item 15\n",
       "\\end{enumerate*}\n",
       "\n",
       "\\end{enumerate}\n",
       "\n",
       "\\item[\\$remove] \\begin{enumerate*}\n",
       "\\item 12\n",
       "\\item 16\n",
       "\\end{enumerate*}\n",
       "\n",
       "\\end{description}\n"
      ],
      "text/markdown": [
       "$linearCombos\n",
       ":   1. 1. 12\n",
       "2. 9\n",
       "3. 10\n",
       "4. 11\n",
       "\n",
       "\n",
       "\n",
       "2. 1. 16\n",
       "2. 13\n",
       "3. 14\n",
       "4. 15\n",
       "\n",
       "\n",
       "\n",
       "\n",
       "\n",
       "\n",
       "$remove\n",
       ":   1. 12\n",
       "2. 16\n",
       "\n",
       "\n",
       "\n",
       "\n",
       "\n"
      ],
      "text/plain": [
       "$linearCombos\n",
       "$linearCombos[[1]]\n",
       "[1] 12  9 10 11\n",
       "\n",
       "$linearCombos[[2]]\n",
       "[1] 16 13 14 15\n",
       "\n",
       "\n",
       "$remove\n",
       "[1] 12 16\n"
      ]
     },
     "metadata": {},
     "output_type": "display_data"
    }
   ],
   "source": [
    "library(caret)\n",
    "findLinearCombos(data_preprocessed)"
   ]
  },
  {
   "cell_type": "code",
   "execution_count": 97,
   "metadata": {
    "collapsed": false
   },
   "outputs": [
    {
     "data": {
      "text/plain": [
       "$linearCombos\n",
       "list()\n",
       "\n",
       "$remove\n",
       "NULL\n"
      ]
     },
     "metadata": {},
     "output_type": "display_data"
    }
   ],
   "source": [
    "data_preprocessed<-data_preprocessed[,-c(12,16)]  #delete combili\n",
    "findLinearCombos(data_preprocessed)  # no more combili"
   ]
  },
  {
   "cell_type": "markdown",
   "metadata": {},
   "source": [
    "### Input and output variables"
   ]
  },
  {
   "cell_type": "markdown",
   "metadata": {},
   "source": [
    "The output variable (Y) is the `imdb_score`, and all other variables (X) are considered as inputs."
   ]
  },
  {
   "cell_type": "code",
   "execution_count": 98,
   "metadata": {
    "collapsed": false
   },
   "outputs": [],
   "source": [
    "set.seed(3)\n",
    "\n",
    "X<-data_preprocessed[,setdiff(colnames(data_preprocessed),\"SalePrice\")]\n",
    "Y<-data_preprocessed[,\"SalePrice\"]\n",
    "\n",
    "N<-nrow(X)    #Number of examples\n",
    "n<-ncol(X)    #Number of input variables\n"
   ]
  },
  {
   "cell_type": "markdown",
   "metadata": {},
   "source": [
    "Distribution of the `imdb_score`"
   ]
  },
  {
   "cell_type": "code",
   "execution_count": 99,
   "metadata": {
    "collapsed": false
   },
   "outputs": [
    {
     "data": {
      "image/png": "[encoded data removed]",
      "text/plain": [
       "Plot with title \"Histogram of Y\""
      ]
     },
     "metadata": {},
     "output_type": "display_data"
    }
   ],
   "source": [
    "#hist(Y)"
   ]
  },
  {
   "cell_type": "code",
   "execution_count": 100,
   "metadata": {
    "collapsed": false
   },
   "outputs": [
    {
     "data": {
      "text/html": [
       "185977.48"
      ],
      "text/latex": [
       "185977.48"
      ],
      "text/markdown": [
       "185977.48"
      ],
      "text/plain": [
       "[1] 185977.5"
      ]
     },
     "metadata": {},
     "output_type": "display_data"
    }
   ],
   "source": [
    "mean(Y)"
   ]
  },
  {
   "cell_type": "code",
   "execution_count": 101,
   "metadata": {
    "collapsed": false
   },
   "outputs": [
    {
     "data": {
      "text/html": [
       "87717.0425014295"
      ],
      "text/latex": [
       "87717.0425014295"
      ],
      "text/markdown": [
       "87717.0425014295"
      ],
      "text/plain": [
       "[1] 87717.04"
      ]
     },
     "metadata": {},
     "output_type": "display_data"
    }
   ],
   "source": [
    "sd(Y)"
   ]
  },
  {
   "cell_type": "markdown",
   "metadata": {},
   "source": [
    "### 1) Modelling with linear and decision tree models\n",
    "\n",
    "#### Linear model"
   ]
  },
  {
   "cell_type": "markdown",
   "metadata": {},
   "source": [
    "* Let us create a linear model for predicting the IMDB score on the basis of the other variables, and compute its empricial mean square error"
   ]
  },
  {
   "cell_type": "code",
   "execution_count": 102,
   "metadata": {
    "collapsed": false
   },
   "outputs": [
    {
     "name": "stdout",
     "output_type": "stream",
     "text": [
      "[1] \"Empirical error= 753866633.3015\"\n"
     ]
    }
   ],
   "source": [
    "DS<-cbind(X,SalePrice=Y)\n",
    "    \n",
    "model<- lm(SalePrice~.,DS) ### IMDB score given all the other ones (~.) over the dataset DS\n",
    "\n",
    "Y.hat<- predict(model,X)\n",
    "        \n",
    "empirical_error<-mean((Y.hat-Y)^2) ### MSE for prediction of that model.\n",
    "\n",
    "print(paste(\"Empirical error=\",round(empirical_error,digits=4)))\n",
    "\n"
   ]
  },
  {
   "cell_type": "markdown",
   "metadata": {},
   "source": [
    "* Which input variables are statistically correlated with the output?"
   ]
  },
  {
   "cell_type": "code",
   "execution_count": 103,
   "metadata": {
    "collapsed": false
   },
   "outputs": [
    {
     "data": {
      "text/plain": [
       "\n",
       "Call:\n",
       "lm(formula = SalePrice ~ ., data = DS)\n",
       "\n",
       "Residuals:\n",
       "   Min     1Q Median     3Q    Max \n",
       "-71441 -15237  -1596  13211 184837 \n",
       "\n",
       "Coefficients:\n",
       "                Estimate Std. Error t value Pr(>|t|)    \n",
       "(Intercept)    1.931e+06  2.378e+06   0.812  0.41722    \n",
       "MSSubClass    -8.394e+01  4.478e+01  -1.875  0.06164 .  \n",
       "LotFrontage    2.734e+02  9.224e+01   2.964  0.00323 ** \n",
       "LotArea        5.184e-01  2.342e-01   2.213  0.02749 *  \n",
       "OverallQual    1.487e+04  1.936e+03   7.679 1.49e-13 ***\n",
       "OverallCond    3.867e+03  1.675e+03   2.309  0.02152 *  \n",
       "YearBuilt      2.646e+02  1.057e+02   2.504  0.01270 *  \n",
       "YearRemodAdd   2.619e+02  1.158e+02   2.262  0.02429 *  \n",
       "MasVnrArea     2.756e+01  9.246e+00   2.980  0.00307 ** \n",
       "BsmtFinSF1     6.613e+01  8.864e+00   7.460 6.37e-13 ***\n",
       "BsmtFinSF2     4.329e+01  1.378e+01   3.142  0.00181 ** \n",
       "BsmtUnfSF      4.063e+01  7.537e+00   5.391 1.26e-07 ***\n",
       "X1stFlrSF      3.985e+01  1.019e+01   3.911  0.00011 ***\n",
       "X2ndFlrSF      5.511e+01  8.861e+00   6.220 1.36e-09 ***\n",
       "LowQualFinSF   3.966e+01  3.331e+01   1.191  0.23453    \n",
       "BsmtFullBath  -4.260e+03  4.492e+03  -0.948  0.34357    \n",
       "BsmtHalfBath  -7.049e+03  7.397e+03  -0.953  0.34125    \n",
       "FullBath      -2.536e+03  4.884e+03  -0.519  0.60393    \n",
       "HalfBath      -2.300e+03  4.208e+03  -0.547  0.58498    \n",
       "BedroomAbvGr  -1.221e+04  2.733e+03  -4.468 1.05e-05 ***\n",
       "KitchenAbvGr  -1.291e+04  8.297e+03  -1.556  0.12054    \n",
       "TotRmsAbvGrd   6.930e+03  2.122e+03   3.265  0.00120 ** \n",
       "Fireplaces     1.706e+03  3.033e+03   0.563  0.57397    \n",
       "GarageYrBlt    1.420e+02  1.143e+02   1.242  0.21519    \n",
       "GarageCars     5.451e+03  4.572e+03   1.192  0.23389    \n",
       "GarageArea     5.851e+00  1.554e+01   0.376  0.70685    \n",
       "WoodDeckSF     2.106e+00  1.526e+01   0.138  0.89026    \n",
       "OpenPorchSF    3.701e+01  2.360e+01   1.569  0.11760    \n",
       "EnclosedPorch  3.848e+01  2.832e+01   1.359  0.17508    \n",
       "X3SsnPorch     4.700e+01  5.540e+01   0.848  0.39679    \n",
       "ScreenPorch    5.591e+01  2.867e+01   1.950  0.05191 .  \n",
       "PoolArea       3.890e+02  6.070e+01   6.410 4.50e-10 ***\n",
       "MiscVal       -2.173e-01  1.867e+00  -0.116  0.90739    \n",
       "MoSold         6.749e+01  5.848e+02   0.115  0.90818    \n",
       "YrSold        -1.661e+03  1.181e+03  -1.407  0.16028    \n",
       "---\n",
       "Signif. codes:  0 '***' 0.001 '**' 0.01 '*' 0.05 '.' 0.1 ' ' 1\n",
       "\n",
       "Residual standard error: 28740 on 365 degrees of freedom\n",
       "Multiple R-squared:  0.9018,\tAdjusted R-squared:  0.8926 \n",
       "F-statistic: 98.56 on 34 and 365 DF,  p-value: < 2.2e-16\n"
      ]
     },
     "metadata": {},
     "output_type": "display_data"
    }
   ],
   "source": [
    "summary(model)"
   ]
  },
  {
   "cell_type": "markdown",
   "metadata": {},
   "source": [
    "* Compute the validation error with a 10-fold cross-validation"
   ]
  },
  {
   "cell_type": "code",
   "execution_count": 104,
   "metadata": {
    "collapsed": false
   },
   "outputs": [
    {
     "name": "stderr",
     "output_type": "stream",
     "text": [
      "Warning message in predict.lm(model, X.ts):\n",
      "\"prediction from a rank-deficient fit may be misleading\""
     ]
    },
    {
     "name": "stdout",
     "output_type": "stream",
     "text": [
      "[1] \"CV error= 1091831511.6253  ; std dev= 466020446.078\"\n"
     ]
    }
   ],
   "source": [
    "size.CV<-floor(N/10)\n",
    "\n",
    "CV.err<-numeric(10)\n",
    "\n",
    "for (i in 1:10) {\n",
    "     i.ts<-(((i-1)*size.CV+1):(i*size.CV))  ### i.ts = indices of the test set for the i-th fold\n",
    "     X.ts<-X[i.ts,]  \n",
    "     Y.ts<-Y[i.ts]  \n",
    "     \n",
    "     i.tr<-setdiff(1:N,i.ts)                ###i.tr = indices of the training set for the i-th fold\n",
    "     X.tr<-X[i.tr,]\n",
    "     Y.tr<-Y[i.tr]                          \n",
    "     \n",
    "     DS<-cbind(X.tr,imdb_score=Y.tr)\n",
    "    \n",
    "     model<- lm(imdb_score~.,DS)      # create model with the training set\n",
    "        \n",
    "     Y.hat.ts<- predict(model,X.ts)  # predict value for the test set\n",
    "        \n",
    "     CV.err[i]<-mean((Y.hat.ts-Y.ts)^2)  # MSE for test set\n",
    "}\n",
    "    \n",
    "\n",
    "print(paste(\"CV error=\",round(mean(CV.err),digits=4), \" ; std dev=\",round(sd(CV.err),digits=4)))\n",
    "\n"
   ]
  },
  {
   "cell_type": "markdown",
   "metadata": {},
   "source": [
    "#### Decision tree"
   ]
  },
  {
   "cell_type": "markdown",
   "metadata": {},
   "source": [
    "* Modify the previous code to compute the empirical error using a decision tree model. Use the rpart package (see `?rpart` for help)"
   ]
  },
  {
   "cell_type": "code",
   "execution_count": 105,
   "metadata": {
    "collapsed": false
   },
   "outputs": [],
   "source": [
    "library(rpart)       ### Run install.packages(\"rpart\") to install"
   ]
  },
  {
   "cell_type": "code",
   "execution_count": 106,
   "metadata": {
    "collapsed": false
   },
   "outputs": [
    {
     "name": "stdout",
     "output_type": "stream",
     "text": [
      "[1] \"Empirical error= 1448707343.4798\"\n"
     ]
    }
   ],
   "source": [
    "DS<-cbind(X,imdb_score=Y)\n",
    "\n",
    "model<- rpart(imdb_score~.,DS)\n",
    "        \n",
    "Y.hat<- predict(model,X)\n",
    "        \n",
    "empirical_error<-mean((Y.hat-Y)^2) \n",
    "\n",
    "print(paste(\"Empirical error=\",round(empirical_error,digits=4)))\n",
    "\n"
   ]
  },
  {
   "cell_type": "markdown",
   "metadata": {},
   "source": [
    "* Plot the resulting tree using the `prp` function from the library `rpart.plot`"
   ]
  },
  {
   "cell_type": "code",
   "execution_count": 107,
   "metadata": {
    "collapsed": false
   },
   "outputs": [],
   "source": [
    "library(rpart.plot)  ### Run install.packages(\"rpart.plot\") to install"
   ]
  },
  {
   "cell_type": "code",
   "execution_count": 108,
   "metadata": {
    "collapsed": false
   },
   "outputs": [
    {
     "data": {
      "image/png": "[encoded data removed]",
      "text/plain": [
       "plot without title"
      ]
     },
     "metadata": {},
     "output_type": "display_data"
    }
   ],
   "source": [
    "prp(model)"
   ]
  },
  {
   "cell_type": "markdown",
   "metadata": {},
   "source": [
    "* What is the 10-fold cross-validation error using a decision tree model?"
   ]
  },
  {
   "cell_type": "code",
   "execution_count": 109,
   "metadata": {
    "collapsed": false
   },
   "outputs": [
    {
     "name": "stdout",
     "output_type": "stream",
     "text": [
      "[1] \"CV error= 2288961701.4792  ; std dev= 944081416.2133\"\n"
     ]
    }
   ],
   "source": [
    "size.CV<-floor(N/10)\n",
    "\n",
    "CV.err<-numeric(10)\n",
    "\n",
    "for (i in 1:10) {\n",
    "     i.ts<-(((i-1)*size.CV+1):(i*size.CV))  \n",
    "     X.ts<-X[i.ts,]  \n",
    "     Y.ts<-Y[i.ts]  \n",
    "     \n",
    "     i.tr<-setdiff(1:N,i.ts)                \n",
    "     X.tr<-X[i.tr,]\n",
    "     Y.tr<-Y[i.tr]                          \n",
    "     \n",
    "     DS<-cbind(X.tr,imdb_score=Y.tr)\n",
    "    \n",
    "     model<- rpart(imdb_score~.,DS)\n",
    "        \n",
    "     Y.hat.ts<- predict(model,X.ts)\n",
    "        \n",
    "     CV.err[i]<-mean((Y.hat.ts-Y.ts)^2)\n",
    "    }\n",
    "    \n",
    "\n",
    "print(paste(\"CV error=\",round(mean(CV.err),digits=4), \" ; std dev=\",round(sd(CV.err),digits=4)))\n",
    "\n"
   ]
  },
  {
   "cell_type": "markdown",
   "metadata": {},
   "source": [
    "## 2) Ensemble of models"
   ]
  },
  {
   "cell_type": "markdown",
   "metadata": {},
   "source": [
    "Let us now create an ensemble of R linear models to make predictions. Complete the code below so that\n",
    "\n",
    "* The training set is resampled before building a model\n",
    "* The predictions of all model are averaged before testing"
   ]
  },
  {
   "cell_type": "code",
   "execution_count": 110,
   "metadata": {
    "collapsed": false,
    "scrolled": true
   },
   "outputs": [
    {
     "name": "stderr",
     "output_type": "stream",
     "text": [
      "Warning message in predict.lm(model, X.ts):\n",
      "\"prediction from a rank-deficient fit may be misleading\"Warning message in predict.lm(model, X.ts):\n",
      "\"prediction from a rank-deficient fit may be misleading\"Warning message in predict.lm(model, X.ts):\n",
      "\"prediction from a rank-deficient fit may be misleading\"Warning message in predict.lm(model, X.ts):\n",
      "\"prediction from a rank-deficient fit may be misleading\"Warning message in predict.lm(model, X.ts):\n",
      "\"prediction from a rank-deficient fit may be misleading\"Warning message in predict.lm(model, X.ts):\n",
      "\"prediction from a rank-deficient fit may be misleading\"Warning message in predict.lm(model, X.ts):\n",
      "\"prediction from a rank-deficient fit may be misleading\"Warning message in predict.lm(model, X.ts):\n",
      "\"prediction from a rank-deficient fit may be misleading\"Warning message in predict.lm(model, X.ts):\n",
      "\"prediction from a rank-deficient fit may be misleading\"Warning message in predict.lm(model, X.ts):\n",
      "\"prediction from a rank-deficient fit may be misleading\"Warning message in predict.lm(model, X.ts):\n",
      "\"prediction from a rank-deficient fit may be misleading\"Warning message in predict.lm(model, X.ts):\n",
      "\"prediction from a rank-deficient fit may be misleading\"Warning message in predict.lm(model, X.ts):\n",
      "\"prediction from a rank-deficient fit may be misleading\"Warning message in predict.lm(model, X.ts):\n",
      "\"prediction from a rank-deficient fit may be misleading\"Warning message in predict.lm(model, X.ts):\n",
      "\"prediction from a rank-deficient fit may be misleading\"Warning message in predict.lm(model, X.ts):\n",
      "\"prediction from a rank-deficient fit may be misleading\"Warning message in predict.lm(model, X.ts):\n",
      "\"prediction from a rank-deficient fit may be misleading\"Warning message in predict.lm(model, X.ts):\n",
      "\"prediction from a rank-deficient fit may be misleading\"Warning message in predict.lm(model, X.ts):\n",
      "\"prediction from a rank-deficient fit may be misleading\"Warning message in predict.lm(model, X.ts):\n",
      "\"prediction from a rank-deficient fit may be misleading\"Warning message in predict.lm(model, X.ts):\n",
      "\"prediction from a rank-deficient fit may be misleading\"Warning message in predict.lm(model, X.ts):\n",
      "\"prediction from a rank-deficient fit may be misleading\"Warning message in predict.lm(model, X.ts):\n",
      "\"prediction from a rank-deficient fit may be misleading\"Warning message in predict.lm(model, X.ts):\n",
      "\"prediction from a rank-deficient fit may be misleading\"Warning message in predict.lm(model, X.ts):\n",
      "\"prediction from a rank-deficient fit may be misleading\"Warning message in predict.lm(model, X.ts):\n",
      "\"prediction from a rank-deficient fit may be misleading\"Warning message in predict.lm(model, X.ts):\n",
      "\"prediction from a rank-deficient fit may be misleading\"Warning message in predict.lm(model, X.ts):\n",
      "\"prediction from a rank-deficient fit may be misleading\"Warning message in predict.lm(model, X.ts):\n",
      "\"prediction from a rank-deficient fit may be misleading\"Warning message in predict.lm(model, X.ts):\n",
      "\"prediction from a rank-deficient fit may be misleading\"Warning message in predict.lm(model, X.ts):\n",
      "\"prediction from a rank-deficient fit may be misleading\"Warning message in predict.lm(model, X.ts):\n",
      "\"prediction from a rank-deficient fit may be misleading\"Warning message in predict.lm(model, X.ts):\n",
      "\"prediction from a rank-deficient fit may be misleading\"Warning message in predict.lm(model, X.ts):\n",
      "\"prediction from a rank-deficient fit may be misleading\"Warning message in predict.lm(model, X.ts):\n",
      "\"prediction from a rank-deficient fit may be misleading\"Warning message in predict.lm(model, X.ts):\n",
      "\"prediction from a rank-deficient fit may be misleading\"Warning message in predict.lm(model, X.ts):\n",
      "\"prediction from a rank-deficient fit may be misleading\"Warning message in predict.lm(model, X.ts):\n",
      "\"prediction from a rank-deficient fit may be misleading\"Warning message in predict.lm(model, X.ts):\n",
      "\"prediction from a rank-deficient fit may be misleading\"Warning message in predict.lm(model, X.ts):\n",
      "\"prediction from a rank-deficient fit may be misleading\"Warning message in predict.lm(model, X.ts):\n",
      "\"prediction from a rank-deficient fit may be misleading\"Warning message in predict.lm(model, X.ts):\n",
      "\"prediction from a rank-deficient fit may be misleading\"Warning message in predict.lm(model, X.ts):\n",
      "\"prediction from a rank-deficient fit may be misleading\"Warning message in predict.lm(model, X.ts):\n",
      "\"prediction from a rank-deficient fit may be misleading\"Warning message in predict.lm(model, X.ts):\n",
      "\"prediction from a rank-deficient fit may be misleading\"Warning message in predict.lm(model, X.ts):\n",
      "\"prediction from a rank-deficient fit may be misleading\"Warning message in predict.lm(model, X.ts):\n",
      "\"prediction from a rank-deficient fit may be misleading\"Warning message in predict.lm(model, X.ts):\n",
      "\"prediction from a rank-deficient fit may be misleading\"Warning message in predict.lm(model, X.ts):\n",
      "\"prediction from a rank-deficient fit may be misleading\"Warning message in predict.lm(model, X.ts):\n",
      "\"prediction from a rank-deficient fit may be misleading\"Warning message in predict.lm(model, X.ts):\n",
      "\"prediction from a rank-deficient fit may be misleading\"Warning message in predict.lm(model, X.ts):\n",
      "\"prediction from a rank-deficient fit may be misleading\"Warning message in predict.lm(model, X.ts):\n",
      "\"prediction from a rank-deficient fit may be misleading\"Warning message in predict.lm(model, X.ts):\n",
      "\"prediction from a rank-deficient fit may be misleading\"Warning message in predict.lm(model, X.ts):\n",
      "\"prediction from a rank-deficient fit may be misleading\"Warning message in predict.lm(model, X.ts):\n",
      "\"prediction from a rank-deficient fit may be misleading\"Warning message in predict.lm(model, X.ts):\n",
      "\"prediction from a rank-deficient fit may be misleading\"Warning message in predict.lm(model, X.ts):\n",
      "\"prediction from a rank-deficient fit may be misleading\"Warning message in predict.lm(model, X.ts):\n",
      "\"prediction from a rank-deficient fit may be misleading\"Warning message in predict.lm(model, X.ts):\n",
      "\"prediction from a rank-deficient fit may be misleading\"Warning message in predict.lm(model, X.ts):\n",
      "\"prediction from a rank-deficient fit may be misleading\"Warning message in predict.lm(model, X.ts):\n",
      "\"prediction from a rank-deficient fit may be misleading\"Warning message in predict.lm(model, X.ts):\n",
      "\"prediction from a rank-deficient fit may be misleading\"Warning message in predict.lm(model, X.ts):\n",
      "\"prediction from a rank-deficient fit may be misleading\"Warning message in predict.lm(model, X.ts):\n",
      "\"prediction from a rank-deficient fit may be misleading\"Warning message in predict.lm(model, X.ts):\n",
      "\"prediction from a rank-deficient fit may be misleading\"Warning message in predict.lm(model, X.ts):\n",
      "\"prediction from a rank-deficient fit may be misleading\"Warning message in predict.lm(model, X.ts):\n",
      "\"prediction from a rank-deficient fit may be misleading\"Warning message in predict.lm(model, X.ts):\n",
      "\"prediction from a rank-deficient fit may be misleading\"Warning message in predict.lm(model, X.ts):\n",
      "\"prediction from a rank-deficient fit may be misleading\"Warning message in predict.lm(model, X.ts):\n",
      "\"prediction from a rank-deficient fit may be misleading\"Warning message in predict.lm(model, X.ts):\n",
      "\"prediction from a rank-deficient fit may be misleading\"Warning message in predict.lm(model, X.ts):\n",
      "\"prediction from a rank-deficient fit may be misleading\"Warning message in predict.lm(model, X.ts):\n",
      "\"prediction from a rank-deficient fit may be misleading\"Warning message in predict.lm(model, X.ts):\n",
      "\"prediction from a rank-deficient fit may be misleading\"Warning message in predict.lm(model, X.ts):\n",
      "\"prediction from a rank-deficient fit may be misleading\"Warning message in predict.lm(model, X.ts):\n",
      "\"prediction from a rank-deficient fit may be misleading\"Warning message in predict.lm(model, X.ts):\n",
      "\"prediction from a rank-deficient fit may be misleading\"Warning message in predict.lm(model, X.ts):\n",
      "\"prediction from a rank-deficient fit may be misleading\""
     ]
    },
    {
     "name": "stdout",
     "output_type": "stream",
     "text": [
      "[1] \"CV error= 1073665597.0066  ; std dev= 445765996.2175\"\n"
     ]
    }
   ],
   "source": [
    "size.CV<-floor(N/10)\n",
    "R<-20   # R models\n",
    "\n",
    "CV.err<-numeric(10)\n",
    "\n",
    "for (i in 1:10) {\n",
    "     i.ts<-(((i-1)*size.CV+1):(i*size.CV))  \n",
    "     X.ts<-X[i.ts,]  \n",
    "     Y.ts<-Y[i.ts]  \n",
    "     \n",
    "     \n",
    "     i.tr<-setdiff(1:N,i.ts)                \n",
    "    \n",
    "     Y.hat.ts.R<-matrix(0,nrow=nrow(X.ts),ncol=R)\n",
    "    \n",
    "     for (r in 1:R) {\n",
    "         i.tr.resample<-sample(i.tr,rep=T)  #rep = replace\n",
    "         X.tr<-X[i.tr.resample,]\n",
    "         Y.tr<-Y[i.tr.resample]                          \n",
    "     \n",
    "         DS<-cbind(X.tr,imdb_score=Y.tr)\n",
    "    \n",
    "         model<- lm(imdb_score~.,DS)\n",
    "        \n",
    "         Y.hat.ts.R[,r]<- predict(model,X.ts)\n",
    "     \n",
    "     }\n",
    "    \n",
    "     Y.hat.ts<-apply(Y.hat.ts.R,1,mean)  #function will be applied over rows (1)\n",
    "     CV.err[i]<-mean((Y.hat.ts-Y.ts)^2)\n",
    "     }\n",
    "\n",
    "print(paste(\"CV error=\",round(mean(CV.err),digits=4), \" ; std dev=\",round(sd(CV.err),digits=4)))\n"
   ]
  },
  {
   "cell_type": "markdown",
   "metadata": {},
   "source": [
    "* Is the CV error lower than with a single linear model?\n",
    "* Use a decision tree as the base model. Is the CV error lower?"
   ]
  },
  {
   "cell_type": "markdown",
   "metadata": {},
   "source": [
    "## 3) Feature selection\n",
    "\n",
    "Two are the main approaches to feature selection:\n",
    "\n",
    "\n",
    "* **Filter methods:** they are preprocessing methods. They attempt to\n",
    "assess the merits of features from the data, ignoring the effects of\n",
    "the selected feature subset on the performance of the learning\n",
    "algorithm. Examples are methods that select variables by ranking them\n",
    "through compression techniques (like PCA), or by computing correlation or a more advanced similarity measure such as minimum redundancy maximum relevance (mRMR) with the output.\n",
    "\n",
    "*  **Wrapper methods:** these methods assess subsets of variables\n",
    "according to their usefulness to a given predictor. The method\n",
    "conducts a search for a good subset using the learning algorithm\n",
    "itself as part of the evaluation function. The problem boils \n",
    "down to a problem of stochastic state space search. Example\n",
    "are the stepwise methods proposed in linear regression analysis.\n",
    "\n"
   ]
  },
  {
   "cell_type": "markdown",
   "metadata": {},
   "source": [
    "### Filter methods"
   ]
  },
  {
   "cell_type": "markdown",
   "metadata": {},
   "source": [
    "#### Correlation with the output\n",
    "\n",
    "* The following code performs features selection by keeping the most correlated variables with the output. Compare the results for linear models and decision trees. What are the smallest CV errors, and how many features were needed?\n"
   ]
  },
  {
   "cell_type": "code",
   "execution_count": 31,
   "metadata": {
    "collapsed": false
   },
   "outputs": [
    {
     "name": "stderr",
     "output_type": "stream",
     "text": [
      "Warning message in predict.lm(model, X.ts[, ranking[1:nb_features], drop = F]):\n",
      "\"prediction from a rank-deficient fit may be misleading\"Warning message in predict.lm(model, X.ts[, ranking[1:nb_features], drop = F]):\n",
      "\"prediction from a rank-deficient fit may be misleading\"Warning message in predict.lm(model, X.ts[, ranking[1:nb_features], drop = F]):\n",
      "\"prediction from a rank-deficient fit may be misleading\"Warning message in predict.lm(model, X.ts[, ranking[1:nb_features], drop = F]):\n",
      "\"prediction from a rank-deficient fit may be misleading\"Warning message in predict.lm(model, X.ts[, ranking[1:nb_features], drop = F]):\n",
      "\"prediction from a rank-deficient fit may be misleading\"Warning message in predict.lm(model, X.ts[, ranking[1:nb_features], drop = F]):\n",
      "\"prediction from a rank-deficient fit may be misleading\"Warning message in predict.lm(model, X.ts[, ranking[1:nb_features], drop = F]):\n",
      "\"prediction from a rank-deficient fit may be misleading\"Warning message in predict.lm(model, X.ts[, ranking[1:nb_features], drop = F]):\n",
      "\"prediction from a rank-deficient fit may be misleading\"Warning message in predict.lm(model, X.ts[, ranking[1:nb_features], drop = F]):\n",
      "\"prediction from a rank-deficient fit may be misleading\"Warning message in predict.lm(model, X.ts[, ranking[1:nb_features], drop = F]):\n",
      "\"prediction from a rank-deficient fit may be misleading\"Warning message in predict.lm(model, X.ts[, ranking[1:nb_features], drop = F]):\n",
      "\"prediction from a rank-deficient fit may be misleading\"Warning message in predict.lm(model, X.ts[, ranking[1:nb_features], drop = F]):\n",
      "\"prediction from a rank-deficient fit may be misleading\"Warning message in predict.lm(model, X.ts[, ranking[1:nb_features], drop = F]):\n",
      "\"prediction from a rank-deficient fit may be misleading\"Warning message in predict.lm(model, X.ts[, ranking[1:nb_features], drop = F]):\n",
      "\"prediction from a rank-deficient fit may be misleading\"Warning message in cor(X.tr, Y.tr):\n",
      "\"l'écart type est nulle\"Warning message in predict.lm(model, X.ts[, ranking[1:nb_features], drop = F]):\n",
      "\"prediction from a rank-deficient fit may be misleading\"Warning message in predict.lm(model, X.ts[, ranking[1:nb_features], drop = F]):\n",
      "\"prediction from a rank-deficient fit may be misleading\"Warning message in predict.lm(model, X.ts[, ranking[1:nb_features], drop = F]):\n",
      "\"prediction from a rank-deficient fit may be misleading\"Warning message in predict.lm(model, X.ts[, ranking[1:nb_features], drop = F]):\n",
      "\"prediction from a rank-deficient fit may be misleading\"Warning message in predict.lm(model, X.ts[, ranking[1:nb_features], drop = F]):\n",
      "\"prediction from a rank-deficient fit may be misleading\"Warning message in predict.lm(model, X.ts[, ranking[1:nb_features], drop = F]):\n",
      "\"prediction from a rank-deficient fit may be misleading\"Warning message in predict.lm(model, X.ts[, ranking[1:nb_features], drop = F]):\n",
      "\"prediction from a rank-deficient fit may be misleading\"Warning message in predict.lm(model, X.ts[, ranking[1:nb_features], drop = F]):\n",
      "\"prediction from a rank-deficient fit may be misleading\"Warning message in predict.lm(model, X.ts[, ranking[1:nb_features], drop = F]):\n",
      "\"prediction from a rank-deficient fit may be misleading\""
     ]
    },
    {
     "ename": "ERROR",
     "evalue": "Error in `[.data.frame`(X.tr, , ranking[1:nb_features], drop = F): undefined columns selected\n",
     "output_type": "error",
     "traceback": [
      "Error in `[.data.frame`(X.tr, , ranking[1:nb_features], drop = F): undefined columns selected\nTraceback:\n",
      "1. cbind(X.tr[, ranking[1:nb_features], drop = F], imdb_score = Y.tr)   # at line 18 of file <text>",
      "2. X.tr[, ranking[1:nb_features], drop = F]",
      "3. `[.data.frame`(X.tr, , ranking[1:nb_features], drop = F)",
      "4. stop(\"undefined columns selected\")"
     ]
    }
   ],
   "source": [
    "size.CV<-floor(N/10)\n",
    "\n",
    "CV.err<-matrix(0,nrow=n,ncol=10)\n",
    "\n",
    "for (i in 1:10) {\n",
    "    i.ts<-(((i-1)*size.CV+1):(i*size.CV))  \n",
    "    X.ts<-X[i.ts,]  \n",
    "    Y.ts<-Y[i.ts]  \n",
    "     \n",
    "    i.tr<-setdiff(1:N,i.ts)\n",
    "    X.tr<-X[i.tr,]\n",
    "    Y.tr<-Y[i.tr]\n",
    "     \n",
    "    correlation<-abs(cor(X.tr,Y.tr))\n",
    "    ranking<-sort(correlation,dec=T,index.return=T)$ix\n",
    "     \n",
    "    for (nb_features in 1:n) {\n",
    "        DS<-cbind(X.tr[,ranking[1:nb_features],drop=F],imdb_score=Y.tr)\n",
    "        model<- lm(imdb_score~.,DS)\n",
    "        \n",
    "        Y.hat.ts<- predict(model,X.ts[,ranking[1:nb_features],drop=F])\n",
    "        \n",
    "        CV.err[nb_features,i]<-mean((Y.hat.ts-Y.ts)^2)\n",
    "    }\n",
    "}  \n",
    "\n",
    "print(paste(\"#Features: \",c(1:n),\" ; CV error=\",round(apply(CV.err,1,mean),digits=4), \" ; std dev=\",round(apply(CV.err,1,sd),digits=4)))\n",
    "\n"
   ]
  },
  {
   "cell_type": "code",
   "execution_count": 32,
   "metadata": {
    "collapsed": false
   },
   "outputs": [
    {
     "data": {
      "text/html": [
       "<ol class=list-inline>\n",
       "\t<li>5</li>\n",
       "\t<li>17</li>\n",
       "\t<li>13</li>\n",
       "\t<li>27</li>\n",
       "\t<li>14</li>\n",
       "\t<li>28</li>\n",
       "\t<li>20</li>\n",
       "\t<li>24</li>\n",
       "\t<li>25</li>\n",
       "\t<li>7</li>\n",
       "\t<li>8</li>\n",
       "\t<li>26</li>\n",
       "\t<li>9</li>\n",
       "\t<li>10</li>\n",
       "\t<li>4</li>\n",
       "\t<li>3</li>\n",
       "\t<li>30</li>\n",
       "\t<li>29</li>\n",
       "\t<li>15</li>\n",
       "\t<li>21</li>\n",
       "\t<li>12</li>\n",
       "\t<li>18</li>\n",
       "\t<li>33</li>\n",
       "\t<li>22</li>\n",
       "\t<li>23</li>\n",
       "\t<li>2</li>\n",
       "\t<li>31</li>\n",
       "\t<li>16</li>\n",
       "\t<li>35</li>\n",
       "\t<li>32</li>\n",
       "\t<li>19</li>\n",
       "\t<li>36</li>\n",
       "\t<li>6</li>\n",
       "\t<li>34</li>\n",
       "\t<li>11</li>\n",
       "\t<li>1</li>\n",
       "</ol>\n"
      ],
      "text/latex": [
       "\\begin{enumerate*}\n",
       "\\item 5\n",
       "\\item 17\n",
       "\\item 13\n",
       "\\item 27\n",
       "\\item 14\n",
       "\\item 28\n",
       "\\item 20\n",
       "\\item 24\n",
       "\\item 25\n",
       "\\item 7\n",
       "\\item 8\n",
       "\\item 26\n",
       "\\item 9\n",
       "\\item 10\n",
       "\\item 4\n",
       "\\item 3\n",
       "\\item 30\n",
       "\\item 29\n",
       "\\item 15\n",
       "\\item 21\n",
       "\\item 12\n",
       "\\item 18\n",
       "\\item 33\n",
       "\\item 22\n",
       "\\item 23\n",
       "\\item 2\n",
       "\\item 31\n",
       "\\item 16\n",
       "\\item 35\n",
       "\\item 32\n",
       "\\item 19\n",
       "\\item 36\n",
       "\\item 6\n",
       "\\item 34\n",
       "\\item 11\n",
       "\\item 1\n",
       "\\end{enumerate*}\n"
      ],
      "text/markdown": [
       "1. 5\n",
       "2. 17\n",
       "3. 13\n",
       "4. 27\n",
       "5. 14\n",
       "6. 28\n",
       "7. 20\n",
       "8. 24\n",
       "9. 25\n",
       "10. 7\n",
       "11. 8\n",
       "12. 26\n",
       "13. 9\n",
       "14. 10\n",
       "15. 4\n",
       "16. 3\n",
       "17. 30\n",
       "18. 29\n",
       "19. 15\n",
       "20. 21\n",
       "21. 12\n",
       "22. 18\n",
       "23. 33\n",
       "24. 22\n",
       "25. 23\n",
       "26. 2\n",
       "27. 31\n",
       "28. 16\n",
       "29. 35\n",
       "30. 32\n",
       "31. 19\n",
       "32. 36\n",
       "33. 6\n",
       "34. 34\n",
       "35. 11\n",
       "36. 1\n",
       "\n",
       "\n"
      ],
      "text/plain": [
       " [1]  5 17 13 27 14 28 20 24 25  7  8 26  9 10  4  3 30 29 15 21 12 18 33 22 23\n",
       "[26]  2 31 16 35 32 19 36  6 34 11  1"
      ]
     },
     "metadata": {},
     "output_type": "display_data"
    }
   ],
   "source": [
    "ranking"
   ]
  },
  {
   "cell_type": "markdown",
   "metadata": {},
   "source": [
    "#### mRMR\n",
    "\n",
    "* The following code performs features selection by using the mRMR approach (see slides 49-52 of the course http://uv.ulb.ac.be/pluginfile.php/874401/mod_resource/content/2/fsel.pdf). Compare the results for linear models and decision trees. What are the smallest CV errors, and how many features were needed?\n"
   ]
  },
  {
   "cell_type": "code",
   "execution_count": 33,
   "metadata": {
    "collapsed": false
   },
   "outputs": [
    {
     "name": "stderr",
     "output_type": "stream",
     "text": [
      "Warning message in predict.lm(model, X.ts[, ranking[1:nb_features], drop = F]):\n",
      "\"prediction from a rank-deficient fit may be misleading\"Warning message in predict.lm(model, X.ts[, ranking[1:nb_features], drop = F]):\n",
      "\"prediction from a rank-deficient fit may be misleading\"Warning message in predict.lm(model, X.ts[, ranking[1:nb_features], drop = F]):\n",
      "\"prediction from a rank-deficient fit may be misleading\"Warning message in predict.lm(model, X.ts[, ranking[1:nb_features], drop = F]):\n",
      "\"prediction from a rank-deficient fit may be misleading\"Warning message in predict.lm(model, X.ts[, ranking[1:nb_features], drop = F]):\n",
      "\"prediction from a rank-deficient fit may be misleading\"Warning message in predict.lm(model, X.ts[, ranking[1:nb_features], drop = F]):\n",
      "\"prediction from a rank-deficient fit may be misleading\"Warning message in predict.lm(model, X.ts[, ranking[1:nb_features], drop = F]):\n",
      "\"prediction from a rank-deficient fit may be misleading\"Warning message in predict.lm(model, X.ts[, ranking[1:nb_features], drop = F]):\n",
      "\"prediction from a rank-deficient fit may be misleading\"Warning message in predict.lm(model, X.ts[, ranking[1:nb_features], drop = F]):\n",
      "\"prediction from a rank-deficient fit may be misleading\"Warning message in predict.lm(model, X.ts[, ranking[1:nb_features], drop = F]):\n",
      "\"prediction from a rank-deficient fit may be misleading\"Warning message in cor(X.tr, Y.tr):\n",
      "\"l'écart type est nulle\"Warning message in cor(X.tr[, selected, drop = F], X.tr[, candidates, drop = F]):\n",
      "\"l'écart type est nulle\"Warning message in cor(X.tr[, selected, drop = F], X.tr[, candidates, drop = F]):\n",
      "\"l'écart type est nulle\"Warning message in cor(X.tr[, selected, drop = F], X.tr[, candidates, drop = F]):\n",
      "\"l'écart type est nulle\"Warning message in cor(X.tr[, selected, drop = F], X.tr[, candidates, drop = F]):\n",
      "\"l'écart type est nulle\"Warning message in cor(X.tr[, selected, drop = F], X.tr[, candidates, drop = F]):\n",
      "\"l'écart type est nulle\"Warning message in cor(X.tr[, selected, drop = F], X.tr[, candidates, drop = F]):\n",
      "\"l'écart type est nulle\"Warning message in cor(X.tr[, selected, drop = F], X.tr[, candidates, drop = F]):\n",
      "\"l'écart type est nulle\"Warning message in cor(X.tr[, selected, drop = F], X.tr[, candidates, drop = F]):\n",
      "\"l'écart type est nulle\"Warning message in cor(X.tr[, selected, drop = F], X.tr[, candidates, drop = F]):\n",
      "\"l'écart type est nulle\"Warning message in cor(X.tr[, selected, drop = F], X.tr[, candidates, drop = F]):\n",
      "\"l'écart type est nulle\"Warning message in cor(X.tr[, selected, drop = F], X.tr[, candidates, drop = F]):\n",
      "\"l'écart type est nulle\"Warning message in cor(X.tr[, selected, drop = F], X.tr[, candidates, drop = F]):\n",
      "\"l'écart type est nulle\"Warning message in cor(X.tr[, selected, drop = F], X.tr[, candidates, drop = F]):\n",
      "\"l'écart type est nulle\"Warning message in cor(X.tr[, selected, drop = F], X.tr[, candidates, drop = F]):\n",
      "\"l'écart type est nulle\"Warning message in cor(X.tr[, selected, drop = F], X.tr[, candidates, drop = F]):\n",
      "\"l'écart type est nulle\"Warning message in cor(X.tr[, selected, drop = F], X.tr[, candidates, drop = F]):\n",
      "\"l'écart type est nulle\"Warning message in cor(X.tr[, selected, drop = F], X.tr[, candidates, drop = F]):\n",
      "\"l'écart type est nulle\"Warning message in cor(X.tr[, selected, drop = F], X.tr[, candidates, drop = F]):\n",
      "\"l'écart type est nulle\"Warning message in cor(X.tr[, selected, drop = F], X.tr[, candidates, drop = F]):\n",
      "\"l'écart type est nulle\"Warning message in cor(X.tr[, selected, drop = F], X.tr[, candidates, drop = F]):\n",
      "\"l'écart type est nulle\"Warning message in cor(X.tr[, selected, drop = F], X.tr[, candidates, drop = F]):\n",
      "\"l'écart type est nulle\"Warning message in cor(X.tr[, selected, drop = F], X.tr[, candidates, drop = F]):\n",
      "\"l'écart type est nulle\"Warning message in cor(X.tr[, selected, drop = F], X.tr[, candidates, drop = F]):\n",
      "\"l'écart type est nulle\"Warning message in cor(X.tr[, selected, drop = F], X.tr[, candidates, drop = F]):\n",
      "\"l'écart type est nulle\"Warning message in cor(X.tr[, selected, drop = F], X.tr[, candidates, drop = F]):\n",
      "\"l'écart type est nulle\"Warning message in cor(X.tr[, selected, drop = F], X.tr[, candidates, drop = F]):\n",
      "\"l'écart type est nulle\"Warning message in cor(X.tr[, selected, drop = F], X.tr[, candidates, drop = F]):\n",
      "\"l'écart type est nulle\"Warning message in cor(X.tr[, selected, drop = F], X.tr[, candidates, drop = F]):\n",
      "\"l'écart type est nulle\"Warning message in cor(X.tr[, selected, drop = F], X.tr[, candidates, drop = F]):\n",
      "\"l'écart type est nulle\"Warning message in cor(X.tr[, selected, drop = F], X.tr[, candidates, drop = F]):\n",
      "\"l'écart type est nulle\"Warning message in cor(X.tr[, selected, drop = F], X.tr[, candidates, drop = F]):\n",
      "\"l'écart type est nulle\"Warning message in cor(X.tr[, selected, drop = F], X.tr[, candidates, drop = F]):\n",
      "\"l'écart type est nulle\"Warning message in cor(X.tr[, selected, drop = F], X.tr[, candidates, drop = F]):\n",
      "\"l'écart type est nulle\"Warning message in cor(X.tr[, selected, drop = F], X.tr[, candidates, drop = F]):\n",
      "\"l'écart type est nulle\"Warning message in cor(X.tr[, selected, drop = F], X.tr[, candidates, drop = F]):\n",
      "\"l'écart type est nulle\"Warning message in cor(X.tr[, selected, drop = F], X.tr[, candidates, drop = F]):\n",
      "\"l'écart type est nulle\"Warning message in predict.lm(model, X.ts[, ranking[1:nb_features], drop = F]):\n",
      "\"prediction from a rank-deficient fit may be misleading\"Warning message in predict.lm(model, X.ts[, ranking[1:nb_features], drop = F]):\n",
      "\"prediction from a rank-deficient fit may be misleading\"Warning message in predict.lm(model, X.ts[, ranking[1:nb_features], drop = F]):\n",
      "\"prediction from a rank-deficient fit may be misleading\"Warning message in predict.lm(model, X.ts[, ranking[1:nb_features], drop = F]):\n",
      "\"prediction from a rank-deficient fit may be misleading\"Warning message in predict.lm(model, X.ts[, ranking[1:nb_features], drop = F]):\n",
      "\"prediction from a rank-deficient fit may be misleading\"Warning message in predict.lm(model, X.ts[, ranking[1:nb_features], drop = F]):\n",
      "\"prediction from a rank-deficient fit may be misleading\"Warning message in predict.lm(model, X.ts[, ranking[1:nb_features], drop = F]):\n",
      "\"prediction from a rank-deficient fit may be misleading\""
     ]
    },
    {
     "ename": "ERROR",
     "evalue": "Error in `[.data.frame`(X.tr, , ranking[1:nb_features], drop = F): undefined columns selected\n",
     "output_type": "error",
     "traceback": [
      "Error in `[.data.frame`(X.tr, , ranking[1:nb_features], drop = F): undefined columns selected\nTraceback:\n",
      "1. cbind(X.tr[, ranking[1:nb_features], drop = F], imdb_score = Y.tr)   # at line 38 of file <text>",
      "2. X.tr[, ranking[1:nb_features], drop = F]",
      "3. `[.data.frame`(X.tr, , ranking[1:nb_features], drop = F)",
      "4. stop(\"undefined columns selected\")"
     ]
    }
   ],
   "source": [
    "size.CV<-floor(N/10)\n",
    "\n",
    "CV.err<-matrix(0,nrow=n,ncol=10)\n",
    "\n",
    "for (i in 1:10) {\n",
    "    i.ts<-(((i-1)*size.CV+1):(i*size.CV))  \n",
    "    X.ts<-X[i.ts,]  \n",
    "    Y.ts<-Y[i.ts]  \n",
    "     \n",
    "    i.tr<-setdiff(1:N,i.ts)\n",
    "    X.tr<-X[i.tr,]\n",
    "    Y.tr<-Y[i.tr]\n",
    "    \n",
    "    \n",
    "    correlation<-abs(cor(X.tr,Y.tr))\n",
    "    \n",
    "    selected<-c()\n",
    "    candidates<-1:n\n",
    "    \n",
    "    #mRMR ranks the variables by taking account not only the correlation with the output, but also by avoiding redudant variables\n",
    "    for (j in 1:n) {\n",
    "        redudancy.score<-numeric(length(candidates))\n",
    "        if (length(selected)>0) {\n",
    "            cor.selected.candidates<-cor(X.tr[,selected,drop=F],X.tr[,candidates,drop=F])\n",
    "            redudancy.score<-apply(cor.selected.candidates,2,mean)\n",
    "        }\n",
    "        \n",
    "        mRMR.score<-correlation[candidates]-redudancy.score\n",
    "        \n",
    "        selected_current<-candidates[which.max(mRMR.score)]\n",
    "        selected<-c(selected,selected_current)\n",
    "        candidates<-setdiff(candidates,selected_current)\n",
    "    }\n",
    "    \n",
    "    ranking<-selected\n",
    "     \n",
    "    for (nb_features in 1:n) {\n",
    "        DS<-cbind(X.tr[,ranking[1:nb_features],drop=F],imdb_score=Y.tr)\n",
    "        model<- lm(imdb_score~.,DS)\n",
    "        \n",
    "        Y.hat.ts<- predict(model,X.ts[,ranking[1:nb_features],drop=F])\n",
    "        \n",
    "        CV.err[nb_features,i]<-mean((Y.hat.ts-Y.ts)^2)\n",
    "    }\n",
    "}  \n",
    "\n",
    "print(paste(\"#Features: \",c(1:n),\" ; CV error=\",round(apply(CV.err,1,mean),digits=4), \" ; std dev=\",round(apply(CV.err,1,sd),digits=4)))\n",
    "\n"
   ]
  },
  {
   "cell_type": "code",
   "execution_count": 34,
   "metadata": {
    "collapsed": false
   },
   "outputs": [
    {
     "data": {
      "text/html": [
       "<ol class=list-inline>\n",
       "\t<li>5</li>\n",
       "\t<li>23</li>\n",
       "\t<li>13</li>\n",
       "\t<li>17</li>\n",
       "\t<li>27</li>\n",
       "\t<li>10</li>\n",
       "\t<li>8</li>\n",
       "\t<li>25</li>\n",
       "\t<li>20</li>\n",
       "\t<li>14</li>\n",
       "\t<li>28</li>\n",
       "\t<li>24</li>\n",
       "\t<li>7</li>\n",
       "\t<li>31</li>\n",
       "\t<li>9</li>\n",
       "\t<li>26</li>\n",
       "\t<li>4</li>\n",
       "\t<li>30</li>\n",
       "\t<li>3</li>\n",
       "\t<li>2</li>\n",
       "\t<li>33</li>\n",
       "\t<li>29</li>\n",
       "\t<li>15</li>\n",
       "\t<li>12</li>\n",
       "\t<li>18</li>\n",
       "\t<li>21</li>\n",
       "\t<li>6</li>\n",
       "\t<li>19</li>\n",
       "\t<li>37</li>\n",
       "\t<li>16</li>\n",
       "\t<li>36</li>\n",
       "\t<li>35</li>\n",
       "\t<li>32</li>\n",
       "\t<li>11</li>\n",
       "\t<li>22</li>\n",
       "\t<li>1</li>\n",
       "</ol>\n"
      ],
      "text/latex": [
       "\\begin{enumerate*}\n",
       "\\item 5\n",
       "\\item 23\n",
       "\\item 13\n",
       "\\item 17\n",
       "\\item 27\n",
       "\\item 10\n",
       "\\item 8\n",
       "\\item 25\n",
       "\\item 20\n",
       "\\item 14\n",
       "\\item 28\n",
       "\\item 24\n",
       "\\item 7\n",
       "\\item 31\n",
       "\\item 9\n",
       "\\item 26\n",
       "\\item 4\n",
       "\\item 30\n",
       "\\item 3\n",
       "\\item 2\n",
       "\\item 33\n",
       "\\item 29\n",
       "\\item 15\n",
       "\\item 12\n",
       "\\item 18\n",
       "\\item 21\n",
       "\\item 6\n",
       "\\item 19\n",
       "\\item 37\n",
       "\\item 16\n",
       "\\item 36\n",
       "\\item 35\n",
       "\\item 32\n",
       "\\item 11\n",
       "\\item 22\n",
       "\\item 1\n",
       "\\end{enumerate*}\n"
      ],
      "text/markdown": [
       "1. 5\n",
       "2. 23\n",
       "3. 13\n",
       "4. 17\n",
       "5. 27\n",
       "6. 10\n",
       "7. 8\n",
       "8. 25\n",
       "9. 20\n",
       "10. 14\n",
       "11. 28\n",
       "12. 24\n",
       "13. 7\n",
       "14. 31\n",
       "15. 9\n",
       "16. 26\n",
       "17. 4\n",
       "18. 30\n",
       "19. 3\n",
       "20. 2\n",
       "21. 33\n",
       "22. 29\n",
       "23. 15\n",
       "24. 12\n",
       "25. 18\n",
       "26. 21\n",
       "27. 6\n",
       "28. 19\n",
       "29. 37\n",
       "30. 16\n",
       "31. 36\n",
       "32. 35\n",
       "33. 32\n",
       "34. 11\n",
       "35. 22\n",
       "36. 1\n",
       "\n",
       "\n"
      ],
      "text/plain": [
       " [1]  5 23 13 17 27 10  8 25 20 14 28 24  7 31  9 26  4 30  3  2 33 29 15 12 18\n",
       "[26] 21  6 19 37 16 36 35 32 11 22  1"
      ]
     },
     "metadata": {},
     "output_type": "display_data"
    }
   ],
   "source": [
    "selected"
   ]
  },
  {
   "cell_type": "markdown",
   "metadata": {},
   "source": [
    "#### PCA\n",
    "\n",
    "* The following code performs features selection by first transforming the inputs using PCA, and then keeping the most relevant principal components in the model. Compare the results for linear models and decision trees. What are the smallest CV errors, and how many features were needed?\n",
    "\n"
   ]
  },
  {
   "cell_type": "code",
   "execution_count": 27,
   "metadata": {
    "collapsed": false
   },
   "outputs": [
    {
     "name": "stdout",
     "output_type": "stream",
     "text": [
      " [1] \"#Features:  1  ; CV error= 1.2051  ; std dev= 0.1211\" \n",
      " [2] \"#Features:  2  ; CV error= 1.199  ; std dev= 0.1282\"  \n",
      " [3] \"#Features:  3  ; CV error= 0.9963  ; std dev= 0.081\"  \n",
      " [4] \"#Features:  4  ; CV error= 1.0043  ; std dev= 0.0777\" \n",
      " [5] \"#Features:  5  ; CV error= 1.0046  ; std dev= 0.0815\" \n",
      " [6] \"#Features:  6  ; CV error= 1.0084  ; std dev= 0.0818\" \n",
      " [7] \"#Features:  7  ; CV error= 1.0063  ; std dev= 0.0753\" \n",
      " [8] \"#Features:  8  ; CV error= 0.9993  ; std dev= 0.0871\" \n",
      " [9] \"#Features:  9  ; CV error= 1.002  ; std dev= 0.0925\"  \n",
      "[10] \"#Features:  10  ; CV error= 1.0025  ; std dev= 0.095\" \n",
      "[11] \"#Features:  11  ; CV error= 0.9773  ; std dev= 0.1005\"\n",
      "[12] \"#Features:  12  ; CV error= 0.9661  ; std dev= 0.1263\"\n",
      "[13] \"#Features:  13  ; CV error= 0.9142  ; std dev= 0.1412\"\n",
      "[14] \"#Features:  14  ; CV error= 0.9157  ; std dev= 0.1426\"\n",
      "[15] \"#Features:  15  ; CV error= 0.9138  ; std dev= 0.1508\"\n"
     ]
    }
   ],
   "source": [
    "size.CV<-floor(N/10)\n",
    "\n",
    "CV.err<-matrix(0,nrow=n,ncol=10)\n",
    "\n",
    "X_pca<-data.frame(prcomp(X,retx=T)$x)\n",
    "\n",
    "for (i in 1:10) {\n",
    "    i.ts<-(((i-1)*size.CV+1):(i*size.CV))  \n",
    "    X.ts<-X_pca[i.ts,]  \n",
    "    Y.ts<-Y[i.ts]  \n",
    "     \n",
    "    i.tr<-setdiff(1:N,i.ts)\n",
    "    X.tr<-X_pca[i.tr,]\n",
    "    Y.tr<-Y[i.tr]\n",
    "     \n",
    "    for (nb_features in 1:n) {\n",
    "        DS<-cbind(X.tr[,1:nb_features,drop=F],imdb_score=Y.tr)\n",
    "        model<- lm(imdb_score~.,DS)\n",
    "        \n",
    "        Y.hat.ts<- predict(model,X.ts[,1:nb_features,drop=F])\n",
    "        \n",
    "        CV.err[nb_features,i]<-mean((Y.hat.ts-Y.ts)^2)\n",
    "    }\n",
    "}  \n",
    "\n",
    "print(paste(\"#Features: \",c(1:n),\" ; CV error=\",round(apply(CV.err,1,mean),digits=4), \" ; std dev=\",round(apply(CV.err,1,sd),digits=4)))\n"
   ]
  },
  {
   "cell_type": "markdown",
   "metadata": {},
   "source": [
    "### Wrapper method: Forward selection\n",
    "\n",
    "* The following code performs features selection by using a forward selection method (See slide 20 in http://uv.ulb.ac.be/pluginfile.php/874401/mod_resource/content/1/fsel.pdf). Compare the results for linear models and decision trees. What are the smallest CV errors, and how many features were needed?\n"
   ]
  },
  {
   "cell_type": "code",
   "execution_count": 28,
   "metadata": {
    "collapsed": false
   },
   "outputs": [
    {
     "name": "stdout",
     "output_type": "stream",
     "text": [
      "[1] \"Round  1  ; Selected feature:  7  ; CV error= 1.0018  ; std dev= 0.0678\"\n",
      "[1] \"Round  2  ; Selected feature:  12  ; CV error= 0.9618  ; std dev= 0.081\"\n",
      "[1] \"Round  3  ; Selected feature:  1  ; CV error= 0.9261  ; std dev= 0.0961\"\n",
      "[1] \"Round  4  ; Selected feature:  10  ; CV error= 0.912  ; std dev= 0.1088\"\n",
      "[1] \"Round  5  ; Selected feature:  11  ; CV error= 0.9062  ; std dev= 0.1085\"\n",
      "[1] \"Round  6  ; Selected feature:  2  ; CV error= 0.9016  ; std dev= 0.1243\"\n",
      "[1] \"Round  7  ; Selected feature:  14  ; CV error= 0.9004  ; std dev= 0.1337\"\n",
      "[1] \"Round  8  ; Selected feature:  4  ; CV error= 0.9  ; std dev= 0.1361\"\n",
      "[1] \"Round  9  ; Selected feature:  13  ; CV error= 0.8989  ; std dev= 0.1372\"\n",
      "[1] \"Round  10  ; Selected feature:  6  ; CV error= 0.899  ; std dev= 0.1342\"\n",
      "[1] \"Round  11  ; Selected feature:  3  ; CV error= 0.8992  ; std dev= 0.1333\"\n",
      "[1] \"Round  12  ; Selected feature:  15  ; CV error= 0.8996  ; std dev= 0.1336\"\n",
      "[1] \"Round  13  ; Selected feature:  9  ; CV error= 0.9017  ; std dev= 0.1355\"\n",
      "[1] \"Round  14  ; Selected feature:  8  ; CV error= 0.9078  ; std dev= 0.1331\"\n",
      "[1] \"Round  15  ; Selected feature:  5  ; CV error= 0.9138  ; std dev= 0.1508\"\n"
     ]
    }
   ],
   "source": [
    "size.CV<-floor(N/10)\n",
    "\n",
    "selected<-NULL\n",
    "\n",
    "for (round in 1:n) { \n",
    "    candidates<-setdiff(1:n,selected)\n",
    "    \n",
    "    CV.err<-matrix(0,nrow=length(candidates),ncol=10)\n",
    "    \n",
    "    for (j in 1:length(candidates)) {\n",
    "        features_to_include<-c(selected,candidates[j])\n",
    "        \n",
    "        for (i in 1:10) {\n",
    "            i.ts<-(((i-1)*size.CV+1):(i*size.CV))  \n",
    "            X.ts<-X[i.ts,features_to_include,drop=F]  \n",
    "            Y.ts<-Y[i.ts]  \n",
    "     \n",
    "            i.tr<-setdiff(1:N,i.ts)\n",
    "            X.tr<-X[i.tr,features_to_include,drop=F]\n",
    "            Y.tr<-Y[i.tr]\n",
    "     \n",
    "            DS<-cbind(X.tr,imdb_score=Y.tr)\n",
    "            model<- lm(imdb_score~.,DS)\n",
    "        \n",
    "            Y.hat.ts<- predict(model,X.ts)\n",
    "        \n",
    "            CV.err[j,i]<-mean((Y.hat.ts-Y.ts)^2)\n",
    "        }\n",
    "    }\n",
    "    CV.err.mean<-apply(CV.err,1,mean)\n",
    "    CV.err.sd<-apply(CV.err,1,sd)\n",
    "    selected_current<-which.min(CV.err.mean)              \n",
    "    selected<-c(selected,candidates[selected_current])\n",
    "    print(paste(\"Round \",round,\" ; Selected feature: \",candidates[selected_current],\" ; CV error=\",round(CV.err.mean[selected_current],digits=4), \" ; std dev=\",round(CV.err.sd[selected_current],digits=4)))\n",
    "\n",
    "}\n",
    "                   \n"
   ]
  },
  {
   "cell_type": "code",
   "execution_count": 29,
   "metadata": {
    "collapsed": false
   },
   "outputs": [
    {
     "data": {
      "text/html": [
       "<ol class=list-inline>\n",
       "\t<li>'num_voted_users'</li>\n",
       "\t<li>'title_year'</li>\n",
       "\t<li>'num_critic_for_reviews'</li>\n",
       "\t<li>'num_user_for_reviews'</li>\n",
       "\t<li>'budget'</li>\n",
       "\t<li>'duration'</li>\n",
       "\t<li>'aspect_ratio'</li>\n",
       "\t<li>'actor_3_facebook_likes'</li>\n",
       "\t<li>'actor_2_facebook_likes'</li>\n",
       "\t<li>'gross'</li>\n",
       "\t<li>'director_facebook_likes'</li>\n",
       "\t<li>'movie_facebook_likes'</li>\n",
       "\t<li>'facenumber_in_poster'</li>\n",
       "\t<li>'cast_total_facebook_likes'</li>\n",
       "\t<li>'actor_1_facebook_likes'</li>\n",
       "</ol>\n"
      ],
      "text/latex": [
       "\\begin{enumerate*}\n",
       "\\item 'num\\_voted\\_users'\n",
       "\\item 'title\\_year'\n",
       "\\item 'num\\_critic\\_for\\_reviews'\n",
       "\\item 'num\\_user\\_for\\_reviews'\n",
       "\\item 'budget'\n",
       "\\item 'duration'\n",
       "\\item 'aspect\\_ratio'\n",
       "\\item 'actor\\_3\\_facebook\\_likes'\n",
       "\\item 'actor\\_2\\_facebook\\_likes'\n",
       "\\item 'gross'\n",
       "\\item 'director\\_facebook\\_likes'\n",
       "\\item 'movie\\_facebook\\_likes'\n",
       "\\item 'facenumber\\_in\\_poster'\n",
       "\\item 'cast\\_total\\_facebook\\_likes'\n",
       "\\item 'actor\\_1\\_facebook\\_likes'\n",
       "\\end{enumerate*}\n"
      ],
      "text/markdown": [
       "1. 'num_voted_users'\n",
       "2. 'title_year'\n",
       "3. 'num_critic_for_reviews'\n",
       "4. 'num_user_for_reviews'\n",
       "5. 'budget'\n",
       "6. 'duration'\n",
       "7. 'aspect_ratio'\n",
       "8. 'actor_3_facebook_likes'\n",
       "9. 'actor_2_facebook_likes'\n",
       "10. 'gross'\n",
       "11. 'director_facebook_likes'\n",
       "12. 'movie_facebook_likes'\n",
       "13. 'facenumber_in_poster'\n",
       "14. 'cast_total_facebook_likes'\n",
       "15. 'actor_1_facebook_likes'\n",
       "\n",
       "\n"
      ],
      "text/plain": [
       " [1] \"num_voted_users\"           \"title_year\"               \n",
       " [3] \"num_critic_for_reviews\"    \"num_user_for_reviews\"     \n",
       " [5] \"budget\"                    \"duration\"                 \n",
       " [7] \"aspect_ratio\"              \"actor_3_facebook_likes\"   \n",
       " [9] \"actor_2_facebook_likes\"    \"gross\"                    \n",
       "[11] \"director_facebook_likes\"   \"movie_facebook_likes\"     \n",
       "[13] \"facenumber_in_poster\"      \"cast_total_facebook_likes\"\n",
       "[15] \"actor_1_facebook_likes\"   "
      ]
     },
     "metadata": {},
     "output_type": "display_data"
    }
   ],
   "source": [
    "colnames(X)[selected]"
   ]
  },
  {
   "cell_type": "markdown",
   "metadata": {},
   "source": [
    "## Further preprocessing to add categorical variables\n",
    "\n",
    "Categorical variables usually need to be transformed with 'one-hot-encoding' in order to be processed by a learning algorithm. That is, for each value of the categorical variable, a binary feature is created, which is set to one whenever that value is present. This can be done using the `dummy.data.frame` of the `dummies` package.\n",
    "\n",
    "```\n",
    "install.packages('dummies')\n",
    "library(dummies)\n",
    "```\n",
    "\n",
    "In the following, we add some categorical variables to the peprocessing dataset. The set of categorical variables is"
   ]
  },
  {
   "cell_type": "code",
   "execution_count": 30,
   "metadata": {
    "collapsed": false
   },
   "outputs": [
    {
     "name": "stderr",
     "output_type": "stream",
     "text": [
      "dummies-1.5.6 provided by Decision Patterns\n",
      "\n"
     ]
    }
   ],
   "source": [
    "library(dummies)"
   ]
  },
  {
   "cell_type": "code",
   "execution_count": 31,
   "metadata": {
    "collapsed": false
   },
   "outputs": [
    {
     "data": {
      "text/html": [
       "<dl class=dl-horizontal>\n",
       "\t<dt>color</dt>\n",
       "\t\t<dd>1</dd>\n",
       "\t<dt>director_name</dt>\n",
       "\t\t<dd>2</dd>\n",
       "\t<dt>actor_2_name</dt>\n",
       "\t\t<dd>7</dd>\n",
       "\t<dt>genres</dt>\n",
       "\t\t<dd>10</dd>\n",
       "\t<dt>actor_1_name</dt>\n",
       "\t\t<dd>11</dd>\n",
       "\t<dt>movie_title</dt>\n",
       "\t\t<dd>12</dd>\n",
       "\t<dt>actor_3_name</dt>\n",
       "\t\t<dd>15</dd>\n",
       "\t<dt>plot_keywords</dt>\n",
       "\t\t<dd>17</dd>\n",
       "\t<dt>movie_imdb_link</dt>\n",
       "\t\t<dd>18</dd>\n",
       "\t<dt>language</dt>\n",
       "\t\t<dd>20</dd>\n",
       "\t<dt>country</dt>\n",
       "\t\t<dd>21</dd>\n",
       "\t<dt>content_rating</dt>\n",
       "\t\t<dd>22</dd>\n",
       "</dl>\n"
      ],
      "text/latex": [
       "\\begin{description*}\n",
       "\\item[color] 1\n",
       "\\item[director\\textbackslash{}\\_name] 2\n",
       "\\item[actor\\textbackslash{}\\_2\\textbackslash{}\\_name] 7\n",
       "\\item[genres] 10\n",
       "\\item[actor\\textbackslash{}\\_1\\textbackslash{}\\_name] 11\n",
       "\\item[movie\\textbackslash{}\\_title] 12\n",
       "\\item[actor\\textbackslash{}\\_3\\textbackslash{}\\_name] 15\n",
       "\\item[plot\\textbackslash{}\\_keywords] 17\n",
       "\\item[movie\\textbackslash{}\\_imdb\\textbackslash{}\\_link] 18\n",
       "\\item[language] 20\n",
       "\\item[country] 21\n",
       "\\item[content\\textbackslash{}\\_rating] 22\n",
       "\\end{description*}\n"
      ],
      "text/markdown": [
       "color\n",
       ":   1director_name\n",
       ":   2actor_2_name\n",
       ":   7genres\n",
       ":   10actor_1_name\n",
       ":   11movie_title\n",
       ":   12actor_3_name\n",
       ":   15plot_keywords\n",
       ":   17movie_imdb_link\n",
       ":   18language\n",
       ":   20country\n",
       ":   21content_rating\n",
       ":   22\n",
       "\n"
      ],
      "text/plain": [
       "          color   director_name    actor_2_name          genres    actor_1_name \n",
       "              1               2               7              10              11 \n",
       "    movie_title    actor_3_name   plot_keywords movie_imdb_link        language \n",
       "             12              15              17              18              20 \n",
       "        country  content_rating \n",
       "             21              22 "
      ]
     },
     "metadata": {},
     "output_type": "display_data"
    }
   ],
   "source": [
    "factor_variables"
   ]
  },
  {
   "cell_type": "markdown",
   "metadata": {},
   "source": [
    "Let us have an overview of the their content"
   ]
  },
  {
   "cell_type": "code",
   "execution_count": 32,
   "metadata": {
    "collapsed": false
   },
   "outputs": [],
   "source": [
    "data_factor<-data[,factor_variables]"
   ]
  },
  {
   "cell_type": "code",
   "execution_count": 33,
   "metadata": {
    "collapsed": false
   },
   "outputs": [
    {
     "data": {
      "text/html": [
       "<ol class=list-inline>\n",
       "\t<li>1000</li>\n",
       "\t<li>12</li>\n",
       "</ol>\n"
      ],
      "text/latex": [
       "\\begin{enumerate*}\n",
       "\\item 1000\n",
       "\\item 12\n",
       "\\end{enumerate*}\n"
      ],
      "text/markdown": [
       "1. 1000\n",
       "2. 12\n",
       "\n",
       "\n"
      ],
      "text/plain": [
       "[1] 1000   12"
      ]
     },
     "metadata": {},
     "output_type": "display_data"
    }
   ],
   "source": [
    "dim(data_factor)"
   ]
  },
  {
   "cell_type": "code",
   "execution_count": 34,
   "metadata": {
    "collapsed": false
   },
   "outputs": [
    {
     "data": {
      "text/html": [
       "<table>\n",
       "<thead><tr><th></th><th scope=col>color</th><th scope=col>director_name</th><th scope=col>actor_2_name</th><th scope=col>genres</th><th scope=col>actor_1_name</th><th scope=col>movie_title</th><th scope=col>actor_3_name</th><th scope=col>plot_keywords</th><th scope=col>movie_imdb_link</th><th scope=col>language</th><th scope=col>country</th><th scope=col>content_rating</th></tr></thead>\n",
       "<tbody>\n",
       "\t<tr><th scope=row>933</th><td>Color                                               </td><td>James L. Brooks                                     </td><td>Yeardley Smith                                      </td><td>Comedy|Drama|Romance                                </td><td>Lupe Ontiveros                                      </td><td>As Good as It Gets<c2><a0>                          </td><td>Shirley Knight                                      </td><td>dog|friendship|neighbor|unlikely friendship|writer  </td><td>http://www.imdb.com/title/tt0119822/?ref_=fn_tt_tt_1</td><td>English                                             </td><td>USA                                                 </td><td>PG-13                                               </td></tr>\n",
       "\t<tr><th scope=row>3542</th><td>Color                                               </td><td>Robert C. Cooper                                    </td><td>Christopher Judge                                   </td><td>Action|Adventure|Drama|Fantasy|Sci-Fi               </td><td>Ben Browder                                         </td><td>Stargate: The Ark of Truth<c2><a0>                  </td><td>Julian Sands                                        </td><td>2000s|evil god|space opera|stargate|wormhole        </td><td>http://www.imdb.com/title/tt0942903/?ref_=fn_tt_tt_1</td><td>English                                             </td><td>USA                                                 </td><td>                                                    </td></tr>\n",
       "</tbody>\n",
       "</table>\n"
      ],
      "text/latex": [
       "\\begin{tabular}{r|llllllllllll}\n",
       "  & color & director\\_name & actor\\_2\\_name & genres & actor\\_1\\_name & movie\\_title & actor\\_3\\_name & plot\\_keywords & movie\\_imdb\\_link & language & country & content\\_rating\\\\\n",
       "\\hline\n",
       "\t933 & Color                                                                                      & James L. Brooks                                                                            & Yeardley Smith                                                                             & Comedy\\textbar{}Drama\\textbar{}Romance                                                   & Lupe Ontiveros                                                                             & As Good as It Gets<c2><a0>                                                                 & Shirley Knight                                                                             & dog\\textbar{}friendship\\textbar{}neighbor\\textbar{}unlikely friendship\\textbar{}writer & http://www.imdb.com/title/tt0119822/?ref\\_=fn\\_tt\\_tt\\_1                               & English                                                                                    & USA                                                                                        & PG-13                                                                                     \\\\\n",
       "\t3542 & Color                                                                                      & Robert C. Cooper                                                                           & Christopher Judge                                                                          & Action\\textbar{}Adventure\\textbar{}Drama\\textbar{}Fantasy\\textbar{}Sci-Fi              & Ben Browder                                                                                & Stargate: The Ark of Truth<c2><a0>                                                         & Julian Sands                                                                               & 2000s\\textbar{}evil god\\textbar{}space opera\\textbar{}stargate\\textbar{}wormhole       & http://www.imdb.com/title/tt0942903/?ref\\_=fn\\_tt\\_tt\\_1                               & English                                                                                    & USA                                                                                        &                                                                                           \\\\\n",
       "\\end{tabular}\n"
      ],
      "text/markdown": [
       "\n",
       "| <!--/--> | color | director_name | actor_2_name | genres | actor_1_name | movie_title | actor_3_name | plot_keywords | movie_imdb_link | language | country | content_rating | \n",
       "|---|---|\n",
       "| 933 | Color                                                | James L. Brooks                                      | Yeardley Smith                                       | Comedy|Drama|Romance                                 | Lupe Ontiveros                                       | As Good as It Gets<c2><a0>                           | Shirley Knight                                       | dog|friendship|neighbor|unlikely friendship|writer   | http://www.imdb.com/title/tt0119822/?ref_=fn_tt_tt_1 | English                                              | USA                                                  | PG-13                                                | \n",
       "| 3542 | Color                                                | Robert C. Cooper                                     | Christopher Judge                                    | Action|Adventure|Drama|Fantasy|Sci-Fi                | Ben Browder                                          | Stargate: The Ark of Truth<c2><a0>                   | Julian Sands                                         | 2000s|evil god|space opera|stargate|wormhole         | http://www.imdb.com/title/tt0942903/?ref_=fn_tt_tt_1 | English                                              | USA                                                  |                                                      | \n",
       "\n",
       "\n"
      ],
      "text/plain": [
       "     color director_name    actor_2_name     \n",
       "933  Color James L. Brooks  Yeardley Smith   \n",
       "3542 Color Robert C. Cooper Christopher Judge\n",
       "     genres                                actor_1_name  \n",
       "933  Comedy|Drama|Romance                  Lupe Ontiveros\n",
       "3542 Action|Adventure|Drama|Fantasy|Sci-Fi Ben Browder   \n",
       "     movie_title                        actor_3_name  \n",
       "933  As Good as It Gets\\302\\240         Shirley Knight\n",
       "3542 Stargate: The Ark of Truth\\302\\240 Julian Sands  \n",
       "     plot_keywords                                     \n",
       "933  dog|friendship|neighbor|unlikely friendship|writer\n",
       "3542 2000s|evil god|space opera|stargate|wormhole      \n",
       "     movie_imdb_link                                      language country\n",
       "933  http://www.imdb.com/title/tt0119822/?ref_=fn_tt_tt_1 English  USA    \n",
       "3542 http://www.imdb.com/title/tt0942903/?ref_=fn_tt_tt_1 English  USA    \n",
       "     content_rating\n",
       "933  PG-13         \n",
       "3542               "
      ]
     },
     "metadata": {},
     "output_type": "display_data"
    }
   ],
   "source": [
    "data_factor[1:2,]"
   ]
  },
  {
   "cell_type": "markdown",
   "metadata": {},
   "source": [
    "Let us keep four of them: Color, language, country and content_rating, and transform them with one-hot-encoding"
   ]
  },
  {
   "cell_type": "code",
   "execution_count": 35,
   "metadata": {
    "collapsed": true
   },
   "outputs": [],
   "source": [
    "variable_to_keep<-c(\"color\",\"language\",\"country\",\"content_rating\")"
   ]
  },
  {
   "cell_type": "code",
   "execution_count": 36,
   "metadata": {
    "collapsed": false
   },
   "outputs": [],
   "source": [
    "data_factor_onehot <- dummy.data.frame(data_factor[,variable_to_keep], sep=\"_\")"
   ]
  },
  {
   "cell_type": "code",
   "execution_count": 37,
   "metadata": {
    "collapsed": false
   },
   "outputs": [
    {
     "data": {
      "text/html": [
       "<ol class=list-inline>\n",
       "\t<li>1000</li>\n",
       "\t<li>76</li>\n",
       "</ol>\n"
      ],
      "text/latex": [
       "\\begin{enumerate*}\n",
       "\\item 1000\n",
       "\\item 76\n",
       "\\end{enumerate*}\n"
      ],
      "text/markdown": [
       "1. 1000\n",
       "2. 76\n",
       "\n",
       "\n"
      ],
      "text/plain": [
       "[1] 1000   76"
      ]
     },
     "metadata": {},
     "output_type": "display_data"
    }
   ],
   "source": [
    "dim(data_factor_onehot)"
   ]
  },
  {
   "cell_type": "code",
   "execution_count": 38,
   "metadata": {
    "collapsed": false
   },
   "outputs": [
    {
     "data": {
      "text/html": [
       "<table>\n",
       "<thead><tr><th></th><th scope=col>color_</th><th scope=col>color_ Black and White</th><th scope=col>color_Color</th><th scope=col>language_</th><th scope=col>language_Aboriginal</th><th scope=col>language_Arabic</th><th scope=col>language_Bosnian</th><th scope=col>language_Cantonese</th><th scope=col>language_Dutch</th><th scope=col>language_English</th><th scope=col>language_French</th><th scope=col>language_German</th><th scope=col>language_Hebrew</th><th scope=col>language_Hindi</th><th scope=col>language_Icelandic</th><th scope=col>language_Italian</th><th scope=col>language_Japanese</th><th scope=col>language_Mandarin</th><th scope=col>language_Mongolian</th><th scope=col>language_Persian</th><th scope=col>language_Polish</th><th scope=col>language_Portuguese</th><th scope=col>language_Spanish</th><th scope=col>language_Swahili</th><th scope=col>language_Swedish</th><th scope=col>⋯</th><th scope=col>country_Peru</th><th scope=col>country_Poland</th><th scope=col>country_Russia</th><th scope=col>country_South Korea</th><th scope=col>country_Spain</th><th scope=col>country_Sweden</th><th scope=col>country_UK</th><th scope=col>country_USA</th><th scope=col>country_United Arab Emirates</th><th scope=col>content_rating_</th><th scope=col>content_rating_Approved</th><th scope=col>content_rating_G</th><th scope=col>content_rating_M</th><th scope=col>content_rating_NC-17</th><th scope=col>content_rating_Not Rated</th><th scope=col>content_rating_PG</th><th scope=col>content_rating_PG-13</th><th scope=col>content_rating_Passed</th><th scope=col>content_rating_R</th><th scope=col>content_rating_TV-14</th><th scope=col>content_rating_TV-G</th><th scope=col>content_rating_TV-MA</th><th scope=col>content_rating_TV-PG</th><th scope=col>content_rating_Unrated</th><th scope=col>content_rating_X</th></tr></thead>\n",
       "<tbody>\n",
       "\t<tr><th scope=row>933</th><td>0       </td><td>0       </td><td>1       </td><td>0       </td><td>0       </td><td>0       </td><td>0       </td><td>0       </td><td>0       </td><td>1       </td><td>0       </td><td>0       </td><td>0       </td><td>0       </td><td>0       </td><td>0       </td><td>0       </td><td>0       </td><td>0       </td><td>0       </td><td>0       </td><td>0       </td><td>0       </td><td>0       </td><td>0       </td><td><U+22EF></td><td>0       </td><td>0       </td><td>0       </td><td>0       </td><td>0       </td><td>0       </td><td>0       </td><td>1       </td><td>0       </td><td>0       </td><td>0       </td><td>0       </td><td>0       </td><td>0       </td><td>0       </td><td>0       </td><td>1       </td><td>0       </td><td>0       </td><td>0       </td><td>0       </td><td>0       </td><td>0       </td><td>0       </td><td>0       </td></tr>\n",
       "\t<tr><th scope=row>3542</th><td>0       </td><td>0       </td><td>1       </td><td>0       </td><td>0       </td><td>0       </td><td>0       </td><td>0       </td><td>0       </td><td>1       </td><td>0       </td><td>0       </td><td>0       </td><td>0       </td><td>0       </td><td>0       </td><td>0       </td><td>0       </td><td>0       </td><td>0       </td><td>0       </td><td>0       </td><td>0       </td><td>0       </td><td>0       </td><td><U+22EF></td><td>0       </td><td>0       </td><td>0       </td><td>0       </td><td>0       </td><td>0       </td><td>0       </td><td>1       </td><td>0       </td><td>1       </td><td>0       </td><td>0       </td><td>0       </td><td>0       </td><td>0       </td><td>0       </td><td>0       </td><td>0       </td><td>0       </td><td>0       </td><td>0       </td><td>0       </td><td>0       </td><td>0       </td><td>0       </td></tr>\n",
       "</tbody>\n",
       "</table>\n"
      ],
      "text/latex": [
       "\\begin{tabular}{r|llllllllllllllllllllllllllllllllllllllllllllllllllllllllllllllllllllllllllll}\n",
       "  & color\\_ & color\\_ Black and White & color\\_Color & language\\_ & language\\_Aboriginal & language\\_Arabic & language\\_Bosnian & language\\_Cantonese & language\\_Dutch & language\\_English & language\\_French & language\\_German & language\\_Hebrew & language\\_Hindi & language\\_Icelandic & language\\_Italian & language\\_Japanese & language\\_Mandarin & language\\_Mongolian & language\\_Persian & language\\_Polish & language\\_Portuguese & language\\_Spanish & language\\_Swahili & language\\_Swedish & ⋯ & country\\_Peru & country\\_Poland & country\\_Russia & country\\_South Korea & country\\_Spain & country\\_Sweden & country\\_UK & country\\_USA & country\\_United Arab Emirates & content\\_rating\\_ & content\\_rating\\_Approved & content\\_rating\\_G & content\\_rating\\_M & content\\_rating\\_NC-17 & content\\_rating\\_Not Rated & content\\_rating\\_PG & content\\_rating\\_PG-13 & content\\_rating\\_Passed & content\\_rating\\_R & content\\_rating\\_TV-14 & content\\_rating\\_TV-G & content\\_rating\\_TV-MA & content\\_rating\\_TV-PG & content\\_rating\\_Unrated & content\\_rating\\_X\\\\\n",
       "\\hline\n",
       "\t933 & 0        & 0        & 1        & 0        & 0        & 0        & 0        & 0        & 0        & 1        & 0        & 0        & 0        & 0        & 0        & 0        & 0        & 0        & 0        & 0        & 0        & 0        & 0        & 0        & 0        & <U+22EF> & 0        & 0        & 0        & 0        & 0        & 0        & 0        & 1        & 0        & 0        & 0        & 0        & 0        & 0        & 0        & 0        & 1        & 0        & 0        & 0        & 0        & 0        & 0        & 0        & 0       \\\\\n",
       "\t3542 & 0        & 0        & 1        & 0        & 0        & 0        & 0        & 0        & 0        & 1        & 0        & 0        & 0        & 0        & 0        & 0        & 0        & 0        & 0        & 0        & 0        & 0        & 0        & 0        & 0        & <U+22EF> & 0        & 0        & 0        & 0        & 0        & 0        & 0        & 1        & 0        & 1        & 0        & 0        & 0        & 0        & 0        & 0        & 0        & 0        & 0        & 0        & 0        & 0        & 0        & 0        & 0       \\\\\n",
       "\\end{tabular}\n"
      ],
      "text/markdown": [
       "\n",
       "| <!--/--> | color_ | color_ Black and White | color_Color | language_ | language_Aboriginal | language_Arabic | language_Bosnian | language_Cantonese | language_Dutch | language_English | language_French | language_German | language_Hebrew | language_Hindi | language_Icelandic | language_Italian | language_Japanese | language_Mandarin | language_Mongolian | language_Persian | language_Polish | language_Portuguese | language_Spanish | language_Swahili | language_Swedish | ⋯ | country_Peru | country_Poland | country_Russia | country_South Korea | country_Spain | country_Sweden | country_UK | country_USA | country_United Arab Emirates | content_rating_ | content_rating_Approved | content_rating_G | content_rating_M | content_rating_NC-17 | content_rating_Not Rated | content_rating_PG | content_rating_PG-13 | content_rating_Passed | content_rating_R | content_rating_TV-14 | content_rating_TV-G | content_rating_TV-MA | content_rating_TV-PG | content_rating_Unrated | content_rating_X | \n",
       "|---|---|\n",
       "| 933 | 0        | 0        | 1        | 0        | 0        | 0        | 0        | 0        | 0        | 1        | 0        | 0        | 0        | 0        | 0        | 0        | 0        | 0        | 0        | 0        | 0        | 0        | 0        | 0        | 0        | <U+22EF> | 0        | 0        | 0        | 0        | 0        | 0        | 0        | 1        | 0        | 0        | 0        | 0        | 0        | 0        | 0        | 0        | 1        | 0        | 0        | 0        | 0        | 0        | 0        | 0        | 0        | \n",
       "| 3542 | 0        | 0        | 1        | 0        | 0        | 0        | 0        | 0        | 0        | 1        | 0        | 0        | 0        | 0        | 0        | 0        | 0        | 0        | 0        | 0        | 0        | 0        | 0        | 0        | 0        | <U+22EF> | 0        | 0        | 0        | 0        | 0        | 0        | 0        | 1        | 0        | 1        | 0        | 0        | 0        | 0        | 0        | 0        | 0        | 0        | 0        | 0        | 0        | 0        | 0        | 0        | 0        | \n",
       "\n",
       "\n"
      ],
      "text/plain": [
       "     color_ color_ Black and White color_Color language_ language_Aboriginal\n",
       "933  0      0                      1           0         0                  \n",
       "3542 0      0                      1           0         0                  \n",
       "     language_Arabic language_Bosnian language_Cantonese language_Dutch\n",
       "933  0               0                0                  0             \n",
       "3542 0               0                0                  0             \n",
       "     language_English language_French language_German language_Hebrew\n",
       "933  1                0               0               0              \n",
       "3542 1                0               0               0              \n",
       "     language_Hindi language_Icelandic language_Italian language_Japanese\n",
       "933  0              0                  0                0                \n",
       "3542 0              0                  0                0                \n",
       "     language_Mandarin language_Mongolian language_Persian language_Polish\n",
       "933  0                 0                  0                0              \n",
       "3542 0                 0                  0                0              \n",
       "     language_Portuguese language_Spanish language_Swahili language_Swedish\n",
       "933  0                   0                0                0               \n",
       "3542 0                   0                0                0               \n",
       "     <U+22EF>   country_Peru country_Poland country_Russia country_South Korea\n",
       "933  <U+22EF> 0            0              0              0                  \n",
       "3542 <U+22EF> 0            0              0              0                  \n",
       "     country_Spain country_Sweden country_UK country_USA\n",
       "933  0             0              0          1          \n",
       "3542 0             0              0          1          \n",
       "     country_United Arab Emirates content_rating_ content_rating_Approved\n",
       "933  0                            0               0                      \n",
       "3542 0                            1               0                      \n",
       "     content_rating_G content_rating_M content_rating_NC-17\n",
       "933  0                0                0                   \n",
       "3542 0                0                0                   \n",
       "     content_rating_Not Rated content_rating_PG content_rating_PG-13\n",
       "933  0                        0                 1                   \n",
       "3542 0                        0                 0                   \n",
       "     content_rating_Passed content_rating_R content_rating_TV-14\n",
       "933  0                     0                0                   \n",
       "3542 0                     0                0                   \n",
       "     content_rating_TV-G content_rating_TV-MA content_rating_TV-PG\n",
       "933  0                   0                    0                   \n",
       "3542 0                   0                    0                   \n",
       "     content_rating_Unrated content_rating_X\n",
       "933  0                      0               \n",
       "3542 0                      0               "
      ]
     },
     "metadata": {},
     "output_type": "display_data"
    }
   ],
   "source": [
    "data_factor_onehot[1:2,]"
   ]
  },
  {
   "cell_type": "markdown",
   "metadata": {},
   "source": [
    "These could be added to the previously preprocessed dataset, and used to further improve the prediction accuracy using the feature selection/ensemble techniques seen above. "
   ]
  },
  {
   "cell_type": "code",
   "execution_count": 39,
   "metadata": {
    "collapsed": false
   },
   "outputs": [],
   "source": [
    "data_preprocessed_extended<-cbind(data_preprocessed,data_factor_onehot)"
   ]
  },
  {
   "cell_type": "code",
   "execution_count": 40,
   "metadata": {
    "collapsed": false
   },
   "outputs": [
    {
     "data": {
      "text/html": [
       "<ol class=list-inline>\n",
       "\t<li>1000</li>\n",
       "\t<li>92</li>\n",
       "</ol>\n"
      ],
      "text/latex": [
       "\\begin{enumerate*}\n",
       "\\item 1000\n",
       "\\item 92\n",
       "\\end{enumerate*}\n"
      ],
      "text/markdown": [
       "1. 1000\n",
       "2. 92\n",
       "\n",
       "\n"
      ],
      "text/plain": [
       "[1] 1000   92"
      ]
     },
     "metadata": {},
     "output_type": "display_data"
    }
   ],
   "source": [
    "dim(data_preprocessed_extended)"
   ]
  },
  {
   "cell_type": "code",
   "execution_count": 41,
   "metadata": {
    "collapsed": false
   },
   "outputs": [
    {
     "data": {
      "text/plain": [
       " num_critic_for_reviews    duration     director_facebook_likes\n",
       " Min.   :  1.0          Min.   : 11.0   Min.   :    0.0        \n",
       " 1st Qu.: 50.0          1st Qu.: 93.0   1st Qu.:    7.0        \n",
       " Median :110.0          Median :104.0   Median :   47.5        \n",
       " Mean   :143.5          Mean   :107.7   Mean   :  735.7        \n",
       " 3rd Qu.:199.0          3rd Qu.:118.0   3rd Qu.:  210.5        \n",
       " Max.   :813.0          Max.   :511.0   Max.   :22000.0        \n",
       " actor_3_facebook_likes actor_1_facebook_likes     gross          \n",
       " Min.   :    0.0        Min.   :     0.0       Min.   :     1332  \n",
       " 1st Qu.:  123.8        1st Qu.:   591.8       1st Qu.:  9709388  \n",
       " Median :  366.0        Median :   984.5       Median : 39670256  \n",
       " Mean   :  618.1        Mean   :  6594.5       Mean   : 52916026  \n",
       " 3rd Qu.:  635.5        3rd Qu.: 11000.0       3rd Qu.: 54422773  \n",
       " Max.   :23000.0        Max.   :260000.0       Max.   :533316061  \n",
       " num_voted_users   cast_total_facebook_likes facenumber_in_poster\n",
       " Min.   :     13   Min.   :     0            Min.   : 0.000      \n",
       " 1st Qu.:   8143   1st Qu.:  1344            1st Qu.: 0.000      \n",
       " Median :  31808   Median :  2982            Median : 1.000      \n",
       " Mean   :  93131   Mean   :  9696            Mean   : 1.422      \n",
       " 3rd Qu.: 102979   3rd Qu.: 13766            3rd Qu.: 2.000      \n",
       " Max.   :1689764   Max.   :283939            Max.   :43.000      \n",
       " num_user_for_reviews     budget            title_year   actor_2_facebook_likes\n",
       " Min.   :   1.0       Min.   :    10000   Min.   :1929   Min.   :    0.0       \n",
       " 1st Qu.:  64.0       1st Qu.:  7000000   1st Qu.:1999   1st Qu.:  289.5       \n",
       " Median : 150.0       Median : 23000000   Median :2005   Median :  611.5       \n",
       " Mean   : 285.8       Mean   : 34077007   Mean   :2003   Mean   : 1664.6       \n",
       " 3rd Qu.: 340.0       3rd Qu.: 40000000   3rd Qu.:2011   3rd Qu.:  909.0       \n",
       " Max.   :4667.0       Max.   :258000000   Max.   :2016   Max.   :25000.0       \n",
       "   imdb_score     aspect_ratio    movie_facebook_likes     color_     \n",
       " Min.   :1.600   Min.   : 1.180   Min.   :     0       Min.   :0.000  \n",
       " 1st Qu.:5.800   1st Qu.: 1.850   1st Qu.:     0       1st Qu.:0.000  \n",
       " Median :6.600   Median : 2.205   Median :   182       Median :0.000  \n",
       " Mean   :6.454   Mean   : 2.205   Mean   :  8375       Mean   :0.005  \n",
       " 3rd Qu.:7.200   3rd Qu.: 2.350   3rd Qu.:  2000       3rd Qu.:0.000  \n",
       " Max.   :9.300   Max.   :16.000   Max.   :199000       Max.   :1.000  \n",
       " color_ Black and White  color_Color      language_     language_Aboriginal\n",
       " Min.   :0.000          Min.   :0.000   Min.   :0.000   Min.   :0.000      \n",
       " 1st Qu.:0.000          1st Qu.:1.000   1st Qu.:0.000   1st Qu.:0.000      \n",
       " Median :0.000          Median :1.000   Median :0.000   Median :0.000      \n",
       " Mean   :0.046          Mean   :0.949   Mean   :0.001   Mean   :0.001      \n",
       " 3rd Qu.:0.000          3rd Qu.:1.000   3rd Qu.:0.000   3rd Qu.:0.000      \n",
       " Max.   :1.000          Max.   :1.000   Max.   :1.000   Max.   :1.000      \n",
       " language_Arabic language_Bosnian language_Cantonese language_Dutch \n",
       " Min.   :0.000   Min.   :0.000    Min.   :0.000      Min.   :0.000  \n",
       " 1st Qu.:0.000   1st Qu.:0.000    1st Qu.:0.000      1st Qu.:0.000  \n",
       " Median :0.000   Median :0.000    Median :0.000      Median :0.000  \n",
       " Mean   :0.001   Mean   :0.001    Mean   :0.005      Mean   :0.001  \n",
       " 3rd Qu.:0.000   3rd Qu.:0.000    3rd Qu.:0.000      3rd Qu.:0.000  \n",
       " Max.   :1.000   Max.   :1.000    Max.   :1.000      Max.   :1.000  \n",
       " language_English language_French language_German language_Hebrew\n",
       " Min.   :0.000    Min.   :0.000   Min.   :0.000   Min.   :0.000  \n",
       " 1st Qu.:1.000    1st Qu.:0.000   1st Qu.:0.000   1st Qu.:0.000  \n",
       " Median :1.000    Median :0.000   Median :0.000   Median :0.000  \n",
       " Mean   :0.945    Mean   :0.011   Mean   :0.003   Mean   :0.001  \n",
       " 3rd Qu.:1.000    3rd Qu.:0.000   3rd Qu.:0.000   3rd Qu.:0.000  \n",
       " Max.   :1.000    Max.   :1.000   Max.   :1.000   Max.   :1.000  \n",
       " language_Hindi  language_Icelandic language_Italian language_Japanese\n",
       " Min.   :0.000   Min.   :0.000      Min.   :0.000    Min.   :0.000    \n",
       " 1st Qu.:0.000   1st Qu.:0.000      1st Qu.:0.000    1st Qu.:0.000    \n",
       " Median :0.000   Median :0.000      Median :0.000    Median :0.000    \n",
       " Mean   :0.005   Mean   :0.001      Mean   :0.003    Mean   :0.004    \n",
       " 3rd Qu.:0.000   3rd Qu.:0.000      3rd Qu.:0.000    3rd Qu.:0.000    \n",
       " Max.   :1.000   Max.   :1.000      Max.   :1.000    Max.   :1.000    \n",
       " language_Mandarin language_Mongolian language_Persian language_Polish\n",
       " Min.   :0.000     Min.   :0.000      Min.   :0.000    Min.   :0.000  \n",
       " 1st Qu.:0.000     1st Qu.:0.000      1st Qu.:0.000    1st Qu.:0.000  \n",
       " Median :0.000     Median :0.000      Median :0.000    Median :0.000  \n",
       " Mean   :0.004     Mean   :0.001      Mean   :0.001    Mean   :0.001  \n",
       " 3rd Qu.:0.000     3rd Qu.:0.000      3rd Qu.:0.000    3rd Qu.:0.000  \n",
       " Max.   :1.000     Max.   :1.000      Max.   :1.000    Max.   :1.000  \n",
       " language_Portuguese language_Spanish language_Swahili language_Swedish\n",
       " Min.   :0.000       Min.   :0.000    Min.   :0.000    Min.   :0.000   \n",
       " 1st Qu.:0.000       1st Qu.:0.000    1st Qu.:0.000    1st Qu.:0.000   \n",
       " Median :0.000       Median :0.000    Median :0.000    Median :0.000   \n",
       " Mean   :0.001       Mean   :0.005    Mean   :0.001    Mean   :0.003   \n",
       " 3rd Qu.:0.000       3rd Qu.:0.000    3rd Qu.:0.000    3rd Qu.:0.000   \n",
       " Max.   :1.000       Max.   :1.000    Max.   :1.000    Max.   :1.000   \n",
       "    country_     country_Australia country_Bahamas country_Belgium\n",
       " Min.   :0.000   Min.   :0.000     Min.   :0.000   Min.   :0.000  \n",
       " 1st Qu.:0.000   1st Qu.:0.000     1st Qu.:0.000   1st Qu.:0.000  \n",
       " Median :0.000   Median :0.000     Median :0.000   Median :0.000  \n",
       " Mean   :0.001   Mean   :0.011     Mean   :0.001   Mean   :0.001  \n",
       " 3rd Qu.:0.000   3rd Qu.:0.000     3rd Qu.:0.000   3rd Qu.:0.000  \n",
       " Max.   :1.000   Max.   :1.000     Max.   :1.000   Max.   :1.000  \n",
       " country_Brazil  country_Cameroon country_Canada  country_China  \n",
       " Min.   :0.000   Min.   :0.000    Min.   :0.000   Min.   :0.000  \n",
       " 1st Qu.:0.000   1st Qu.:0.000    1st Qu.:0.000   1st Qu.:0.000  \n",
       " Median :0.000   Median :0.000    Median :0.000   Median :0.000  \n",
       " Mean   :0.001   Mean   :0.001    Mean   :0.023   Mean   :0.008  \n",
       " 3rd Qu.:0.000   3rd Qu.:0.000    3rd Qu.:0.000   3rd Qu.:0.000  \n",
       " Max.   :1.000   Max.   :1.000    Max.   :1.000   Max.   :1.000  \n",
       " country_France  country_Georgia country_Germany country_Greece \n",
       " Min.   :0.000   Min.   :0.000   Min.   :0.000   Min.   :0.000  \n",
       " 1st Qu.:0.000   1st Qu.:0.000   1st Qu.:0.000   1st Qu.:0.000  \n",
       " Median :0.000   Median :0.000   Median :0.000   Median :0.000  \n",
       " Mean   :0.023   Mean   :0.001   Mean   :0.017   Mean   :0.001  \n",
       " 3rd Qu.:0.000   3rd Qu.:0.000   3rd Qu.:0.000   3rd Qu.:0.000  \n",
       " Max.   :1.000   Max.   :1.000   Max.   :1.000   Max.   :1.000  \n",
       " country_Hong Kong country_Iceland country_India    country_Iran  \n",
       " Min.   :0.000     Min.   :0.000   Min.   :0.000   Min.   :0.000  \n",
       " 1st Qu.:0.000     1st Qu.:0.000   1st Qu.:0.000   1st Qu.:0.000  \n",
       " Median :0.000     Median :0.000   Median :0.000   Median :0.000  \n",
       " Mean   :0.004     Mean   :0.002   Mean   :0.008   Mean   :0.001  \n",
       " 3rd Qu.:0.000     3rd Qu.:0.000   3rd Qu.:0.000   3rd Qu.:0.000  \n",
       " Max.   :1.000     Max.   :1.000   Max.   :1.000   Max.   :1.000  \n",
       " country_Ireland country_Israel  country_Italy   country_Japan  \n",
       " Min.   :0.000   Min.   :0.000   Min.   :0.000   Min.   :0.000  \n",
       " 1st Qu.:0.000   1st Qu.:0.000   1st Qu.:0.000   1st Qu.:0.000  \n",
       " Median :0.000   Median :0.000   Median :0.000   Median :0.000  \n",
       " Mean   :0.001   Mean   :0.001   Mean   :0.002   Mean   :0.007  \n",
       " 3rd Qu.:0.000   3rd Qu.:0.000   3rd Qu.:0.000   3rd Qu.:0.000  \n",
       " Max.   :1.000   Max.   :1.000   Max.   :1.000   Max.   :1.000  \n",
       " country_Kenya   country_Mexico  country_Netherlands country_New Zealand\n",
       " Min.   :0.000   Min.   :0.000   Min.   :0.000       Min.   :0.000      \n",
       " 1st Qu.:0.000   1st Qu.:0.000   1st Qu.:0.000       1st Qu.:0.000      \n",
       " Median :0.000   Median :0.000   Median :0.000       Median :0.000      \n",
       " Mean   :0.001   Mean   :0.003   Mean   :0.001       Mean   :0.003      \n",
       " 3rd Qu.:0.000   3rd Qu.:0.000   3rd Qu.:0.000       3rd Qu.:0.000      \n",
       " Max.   :1.000   Max.   :1.000   Max.   :1.000       Max.   :1.000      \n",
       " country_Nigeria country_Norway   country_Peru   country_Poland \n",
       " Min.   :0.000   Min.   :0.000   Min.   :0.000   Min.   :0.000  \n",
       " 1st Qu.:0.000   1st Qu.:0.000   1st Qu.:0.000   1st Qu.:0.000  \n",
       " Median :0.000   Median :0.000   Median :0.000   Median :0.000  \n",
       " Mean   :0.001   Mean   :0.001   Mean   :0.001   Mean   :0.001  \n",
       " 3rd Qu.:0.000   3rd Qu.:0.000   3rd Qu.:0.000   3rd Qu.:0.000  \n",
       " Max.   :1.000   Max.   :1.000   Max.   :1.000   Max.   :1.000  \n",
       " country_Russia  country_South Korea country_Spain   country_Sweden \n",
       " Min.   :0.000   Min.   :0.000       Min.   :0.000   Min.   :0.000  \n",
       " 1st Qu.:0.000   1st Qu.:0.000       1st Qu.:0.000   1st Qu.:0.000  \n",
       " Median :0.000   Median :0.000       Median :0.000   Median :0.000  \n",
       " Mean   :0.001   Mean   :0.001       Mean   :0.003   Mean   :0.003  \n",
       " 3rd Qu.:0.000   3rd Qu.:0.000       3rd Qu.:0.000   3rd Qu.:0.000  \n",
       " Max.   :1.000   Max.   :1.000       Max.   :1.000   Max.   :1.000  \n",
       "   country_UK     country_USA    country_United Arab Emirates content_rating_\n",
       " Min.   :0.000   Min.   :0.000   Min.   :0.000                Min.   :0.000  \n",
       " 1st Qu.:0.000   1st Qu.:1.000   1st Qu.:0.000                1st Qu.:0.000  \n",
       " Median :0.000   Median :1.000   Median :0.000                Median :0.000  \n",
       " Mean   :0.102   Mean   :0.762   Mean   :0.001                Mean   :0.059  \n",
       " 3rd Qu.:0.000   3rd Qu.:1.000   3rd Qu.:0.000                3rd Qu.:0.000  \n",
       " Max.   :1.000   Max.   :1.000   Max.   :1.000                Max.   :1.000  \n",
       " content_rating_Approved content_rating_G content_rating_M content_rating_NC-17\n",
       " Min.   :0.000           Min.   :0.000    Min.   :0.000    Min.   :0.000       \n",
       " 1st Qu.:0.000           1st Qu.:0.000    1st Qu.:0.000    1st Qu.:0.000       \n",
       " Median :0.000           Median :0.000    Median :0.000    Median :0.000       \n",
       " Mean   :0.014           Mean   :0.036    Mean   :0.002    Mean   :0.002       \n",
       " 3rd Qu.:0.000           3rd Qu.:0.000    3rd Qu.:0.000    3rd Qu.:0.000       \n",
       " Max.   :1.000           Max.   :1.000    Max.   :1.000    Max.   :1.000       \n",
       " content_rating_Not Rated content_rating_PG content_rating_PG-13\n",
       " Min.   :0.000            Min.   :0.00      Min.   :0.000       \n",
       " 1st Qu.:0.000            1st Qu.:0.00      1st Qu.:0.000       \n",
       " Median :0.000            Median :0.00      Median :0.000       \n",
       " Mean   :0.022            Mean   :0.13      Mean   :0.286       \n",
       " 3rd Qu.:0.000            3rd Qu.:0.00      3rd Qu.:1.000       \n",
       " Max.   :1.000            Max.   :1.00      Max.   :1.000       \n",
       " content_rating_Passed content_rating_R content_rating_TV-14\n",
       " Min.   :0.000         Min.   :0.000    Min.   :0.000       \n",
       " 1st Qu.:0.000         1st Qu.:0.000    1st Qu.:0.000       \n",
       " Median :0.000         Median :0.000    Median :0.000       \n",
       " Mean   :0.001         Mean   :0.421    Mean   :0.003       \n",
       " 3rd Qu.:0.000         3rd Qu.:1.000    3rd Qu.:0.000       \n",
       " Max.   :1.000         Max.   :1.000    Max.   :1.000       \n",
       " content_rating_TV-G content_rating_TV-MA content_rating_TV-PG\n",
       " Min.   :0.000       Min.   :0.000        Min.   :0.000       \n",
       " 1st Qu.:0.000       1st Qu.:0.000        1st Qu.:0.000       \n",
       " Median :0.000       Median :0.000        Median :0.000       \n",
       " Mean   :0.001       Mean   :0.007        Mean   :0.002       \n",
       " 3rd Qu.:0.000       3rd Qu.:0.000        3rd Qu.:0.000       \n",
       " Max.   :1.000       Max.   :1.000        Max.   :1.000       \n",
       " content_rating_Unrated content_rating_X\n",
       " Min.   :0.000          Min.   :0.000   \n",
       " 1st Qu.:0.000          1st Qu.:0.000   \n",
       " Median :0.000          Median :0.000   \n",
       " Mean   :0.009          Mean   :0.005   \n",
       " 3rd Qu.:0.000          3rd Qu.:0.000   \n",
       " Max.   :1.000          Max.   :1.000   "
      ]
     },
     "metadata": {},
     "output_type": "display_data"
    }
   ],
   "source": [
    "summary(data_preprocessed_extended)"
   ]
  },
  {
   "cell_type": "markdown",
   "metadata": {},
   "source": [
    "## Using other predictive models\n",
    "\n",
    "Other models could be used, for example support vector machines, neural networks, K-nearest neighbors (using the `svm`, `nnt`or `lazy` (! predict()$h ) functions from the `e1071`, `nnet` or `lazy` packages, respectively). Note that scaling the data is usually necessary when using neural networks and K-nearest neighbors approaches. "
   ]
  },
  {
   "cell_type": "code",
   "execution_count": null,
   "metadata": {
    "collapsed": true
   },
   "outputs": [],
   "source": [
    "nnet (size=5)\n",
    "  non linear function gives the output, and goes from 0 to 1. We want a grade between 0 and 10 so we need to give a linear fct at the output by using linout=T\n",
    "  range of the values are quite different => nnet and nearrst neighbour are really bad when this happens so we have to normalize/scale the data scale(X)\n",
    "scale gives a matrix and not a dataframe => X<-dataframe(scale(X)) (see function scale for more details on what it does)\n",
    "\n",
    "see sample\n",
    "    \n",
    "    when you scale you have to use the mean and variance obtained from the scale of the training data for your test set."
   ]
  }
 ],
 "metadata": {
  "kernelspec": {
   "display_name": "R",
   "language": "R",
   "name": "ir"
  },
  "language_info": {
   "codemirror_mode": "r",
   "file_extension": ".r",
   "mimetype": "text/x-r-source",
   "name": "R",
   "pygments_lexer": "r",
   "version": "3.3.2"
  }
 },
 "nbformat": 4,
 "nbformat_minor": 0
}
